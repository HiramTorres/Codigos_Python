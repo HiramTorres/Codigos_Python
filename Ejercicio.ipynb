{
 "cells": [
  {
   "cell_type": "code",
   "execution_count": 39,
   "metadata": {},
   "outputs": [
    {
     "ename": "TypeError",
     "evalue": "'function' object does not support item assignment",
     "output_type": "error",
     "traceback": [
      "\u001b[1;31m---------------------------------------------------------------------------\u001b[0m",
      "\u001b[1;31mTypeError\u001b[0m                                 Traceback (most recent call last)",
      "\u001b[1;32mc:\\Users\\hiram\\Documents\\GitHub\\Curso_python\\Ejercicio.ipynb Celda 1\u001b[0m in \u001b[0;36m<cell line: 10>\u001b[1;34m()\u001b[0m\n\u001b[0;32m      <a href='vscode-notebook-cell:/c%3A/Users/hiram/Documents/GitHub/Curso_python/Ejercicio.ipynb#W0sZmlsZQ%3D%3D?line=7'>8</a>\u001b[0m         \u001b[39mprint\u001b[39m(lista, end\u001b[39m=\u001b[39m \u001b[39m\"\u001b[39m\u001b[39m, \u001b[39m\u001b[39m\"\u001b[39m)\n\u001b[0;32m      <a href='vscode-notebook-cell:/c%3A/Users/hiram/Documents/GitHub/Curso_python/Ejercicio.ipynb#W0sZmlsZQ%3D%3D?line=8'>9</a>\u001b[0m n \u001b[39m=\u001b[39m \u001b[39m100\u001b[39m\n\u001b[1;32m---> <a href='vscode-notebook-cell:/c%3A/Users/hiram/Documents/GitHub/Curso_python/Ejercicio.ipynb#W0sZmlsZQ%3D%3D?line=9'>10</a>\u001b[0m aleatorios(n)\n",
      "\u001b[1;32mc:\\Users\\hiram\\Documents\\GitHub\\Curso_python\\Ejercicio.ipynb Celda 1\u001b[0m in \u001b[0;36maleatorios\u001b[1;34m(n)\u001b[0m\n\u001b[0;32m      <a href='vscode-notebook-cell:/c%3A/Users/hiram/Documents/GitHub/Curso_python/Ejercicio.ipynb#W0sZmlsZQ%3D%3D?line=4'>5</a>\u001b[0m \u001b[39mdef\u001b[39;00m \u001b[39maleatorios\u001b[39m(n):\n\u001b[0;32m      <a href='vscode-notebook-cell:/c%3A/Users/hiram/Documents/GitHub/Curso_python/Ejercicio.ipynb#W0sZmlsZQ%3D%3D?line=5'>6</a>\u001b[0m     \u001b[39mfor\u001b[39;00m i \u001b[39min\u001b[39;00m \u001b[39mrange\u001b[39m(n):\n\u001b[1;32m----> <a href='vscode-notebook-cell:/c%3A/Users/hiram/Documents/GitHub/Curso_python/Ejercicio.ipynb#W0sZmlsZQ%3D%3D?line=6'>7</a>\u001b[0m         lista[i] \u001b[39m=\u001b[39m random\u001b[39m.\u001b[39mrandom()\n\u001b[0;32m      <a href='vscode-notebook-cell:/c%3A/Users/hiram/Documents/GitHub/Curso_python/Ejercicio.ipynb#W0sZmlsZQ%3D%3D?line=7'>8</a>\u001b[0m         \u001b[39mprint\u001b[39m(lista, end\u001b[39m=\u001b[39m \u001b[39m\"\u001b[39m\u001b[39m, \u001b[39m\u001b[39m\"\u001b[39m)\n",
      "\u001b[1;31mTypeError\u001b[0m: 'function' object does not support item assignment"
     ]
    }
   ],
   "source": [
    "# guarda 60 numeros aleatorios \n",
    "\n",
    "import random\n",
    "\n",
    "def aleatorios(n):\n",
    "    for i in range(n):\n",
    "        lista[i] = random.random()\n",
    "        print(lista, end= \", \")\n",
    "n = 100\n",
    "aleatorios(n)\n"
   ]
  },
  {
   "cell_type": "markdown",
   "metadata": {},
   "source": []
  }
 ],
 "metadata": {
  "kernelspec": {
   "display_name": "Python 3.9.12 ('base')",
   "language": "python",
   "name": "python3"
  },
  "language_info": {
   "codemirror_mode": {
    "name": "ipython",
    "version": 3
   },
   "file_extension": ".py",
   "mimetype": "text/x-python",
   "name": "python",
   "nbconvert_exporter": "python",
   "pygments_lexer": "ipython3",
   "version": "3.9.12"
  },
  "orig_nbformat": 4,
  "vscode": {
   "interpreter": {
    "hash": "3924ed30227e34da5a4c68c183321c9d32f94e2bda1bf4a622c4e1f08e1e696d"
   }
  }
 },
 "nbformat": 4,
 "nbformat_minor": 2
}
