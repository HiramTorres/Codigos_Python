{
 "cells": [
  {
   "cell_type": "markdown",
   "metadata": {},
   "source": [
    "#### Ejercicio 1\n",
    "De la gráﬁca de un diagrama de Moliere del amoniaco se obtienen los siguientes datos de temperatura (T) contra presión (P) a entalpía constante (H = 700 BTU/Lb)\n",
    "\n",
    " \n",
    "\n",
    "| Puntos | 0   | 1 | 2 | 3 | 4 |\n",
    "|------|------|------|------|------|------|\n",
    "|   T(°F)  | 175|200|225|250|275|\n",
    "|   P(psia)|100|270|450|640|850|\n",
    "\n",
    " \n",
    "\n",
    "_Calcule el coeficiente de **Joule-Thomson** a una presión de 270 psia:_ \n",
    "\n",
    " \n",
    "\n",
    "*a) Mediante la derivada de la fórmula generalizada de Lagrande considerando los primeros 4 puntos*\n",
    "\n",
    " \n",
    "\n",
    "*b) Mediante la derivada análitica de un plinimio de segundo grado calculado a partir de la aproximación polinomial simple*"
   ]
  },
  {
   "cell_type": "code",
   "execution_count": null,
   "metadata": {},
   "outputs": [],
   "source": []
  }
 ],
 "metadata": {
  "kernelspec": {
   "display_name": "Python 3",
   "language": "python",
   "name": "python3"
  },
  "language_info": {
   "codemirror_mode": {
    "name": "ipython",
    "version": 3
   },
   "file_extension": ".py",
   "mimetype": "text/x-python",
   "name": "python",
   "nbconvert_exporter": "python",
   "pygments_lexer": "ipython3",
   "version": "3.7.6"
  }
 },
 "nbformat": 4,
 "nbformat_minor": 4
}
