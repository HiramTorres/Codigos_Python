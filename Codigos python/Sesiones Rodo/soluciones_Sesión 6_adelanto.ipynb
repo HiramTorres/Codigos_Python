{
 "cells": [
  {
   "cell_type": "markdown",
   "metadata": {},
   "source": [
    "# Prueba de conocimiento\n",
    "\n",
    "\n",
    "Problemas: 1\n",
    "\n",
    "- Crear variables de tipo entero, punto flotante, string (cadena de texto) e imprimir sus tipos.\n",
    "- Crear una lista con múltiplos de 5, comenzando en 0 y hasta 100. **Hint: ...**\n",
    "- Usar los primeros 5 elementos de la lista anterior para imprimir esa cantidad de veces la letra 'A'. Ejemplo: De [0, 5, 10, ...], para 5, sería imprimir 'AAAAA'.\n",
    "- Crear una matriz con números aleatorios usando numpy y trasponer la matriz."
   ]
  },
  {
   "cell_type": "code",
   "execution_count": 45,
   "metadata": {},
   "outputs": [
    {
     "name": "stdout",
     "output_type": "stream",
     "text": [
      "<class 'int'>\n",
      "<class 'float'>\n",
      "<class 'str'>\n"
     ]
    }
   ],
   "source": [
    "a = 5 \n",
    "b = 9.18\n",
    "c = 'str'\n",
    "print (type(a))\n",
    "print (type(b))\n",
    "print (type(c))"
   ]
  },
  {
   "cell_type": "code",
   "execution_count": 46,
   "metadata": {},
   "outputs": [
    {
     "name": "stdout",
     "output_type": "stream",
     "text": [
      "[0, 5, 10, 15, 20, 25, 30, 35, 40, 45, 50, 55, 60, 65, 70, 75, 80, 85, 90, 95, 100]\n",
      "<class 'list'>\n"
     ]
    }
   ],
   "source": [
    "lista = list(range(0,101,5))\n",
    "print (lista)\n",
    "print (type(lista))"
   ]
  },
  {
   "cell_type": "code",
   "execution_count": 47,
   "metadata": {},
   "outputs": [
    {
     "name": "stdout",
     "output_type": "stream",
     "text": [
      "0\n",
      "5\n",
      "10\n",
      "15\n",
      "20\n",
      "25\n",
      "30\n",
      "35\n",
      "40\n",
      "45\n",
      "50\n",
      "55\n",
      "60\n",
      "65\n",
      "70\n",
      "75\n",
      "80\n",
      "85\n",
      "90\n",
      "95\n",
      "100\n",
      "<class 'int'>\n"
     ]
    }
   ],
   "source": [
    "for n in range (0,101,5):\n",
    "    print (n)\n",
    "print (type(n))"
   ]
  },
  {
   "cell_type": "code",
   "execution_count": 48,
   "metadata": {},
   "outputs": [
    {
     "name": "stdout",
     "output_type": "stream",
     "text": [
      "[0, 5, 10, 15, 20]\n",
      "<class 'list'>\n"
     ]
    }
   ],
   "source": [
    "first_f = lista [:5]\n",
    "print (first_f)\n",
    "print (type(first_f))"
   ]
  },
  {
   "cell_type": "code",
   "execution_count": 49,
   "metadata": {},
   "outputs": [
    {
     "name": "stdout",
     "output_type": "stream",
     "text": [
      "\n",
      "AAAAA\n",
      "AAAAAAAAAA\n",
      "AAAAAAAAAAAAAAA\n",
      "AAAAAAAAAAAAAAAAAAAA\n"
     ]
    }
   ],
   "source": [
    "for n in first_f :\n",
    "    print (n*'A')"
   ]
  },
  {
   "cell_type": "code",
   "execution_count": 50,
   "metadata": {},
   "outputs": [
    {
     "name": "stdout",
     "output_type": "stream",
     "text": [
      "[[[0.81243609 0.16976066 0.877518  ]\n",
      "  [0.02628646 0.91571371 0.94653394]\n",
      "  [0.04777975 0.16174137 0.45515249]]\n",
      "\n",
      " [[0.14185765 0.41196423 0.52401038]\n",
      "  [0.37175412 0.5502559  0.72938289]\n",
      "  [0.31139182 0.21866653 0.2815223 ]]\n",
      "\n",
      " [[0.50854525 0.73468441 0.59931457]\n",
      "  [0.85404203 0.95572942 0.52754217]\n",
      "  [0.32083986 0.63409727 0.83816307]]]\n"
     ]
    }
   ],
   "source": [
    "import numpy as np \n",
    "\n",
    "B = np.random.random((3,3,3,)) #agregar un tercer argumento \"n\" a la lista, generara \"n\" cantidad de veces esa matriz  \n",
    "                               \n",
    "print (B)"
   ]
  },
  {
   "cell_type": "code",
   "execution_count": 51,
   "metadata": {},
   "outputs": [
    {
     "data": {
      "text/plain": [
       "array([[[0.81243609, 0.14185765, 0.50854525],\n",
       "        [0.02628646, 0.37175412, 0.85404203],\n",
       "        [0.04777975, 0.31139182, 0.32083986]],\n",
       "\n",
       "       [[0.16976066, 0.41196423, 0.73468441],\n",
       "        [0.91571371, 0.5502559 , 0.95572942],\n",
       "        [0.16174137, 0.21866653, 0.63409727]],\n",
       "\n",
       "       [[0.877518  , 0.52401038, 0.59931457],\n",
       "        [0.94653394, 0.72938289, 0.52754217],\n",
       "        [0.45515249, 0.2815223 , 0.83816307]]])"
      ]
     },
     "execution_count": 51,
     "metadata": {},
     "output_type": "execute_result"
    }
   ],
   "source": [
    "B.T"
   ]
  },
  {
   "cell_type": "markdown",
   "metadata": {},
   "source": [
    "### Problemas 2:\n",
    "\n",
    "1. Edad:\n",
    "   - Definir una variable solicitando entrada de un entero (preguntar por la edad).\n",
    "   - Asegurarse de que el tipo de dato anterior es un número entero entre 0 y 100.\n",
    "   - Meter los dos puntos anteriores a una función, para sólo llamar a la función `dime_tu_edad` y que imprima un mensaje sobre la edad.\n",
    "2. Listas, ciclos y numpy:\n",
    "   - Generar una lista con 100 números aleatorios (`random`).\n",
    "   - Guardar los valores de la lista que sean mayores que 0.7 (convertir a `np.array`).\n",
    "   - Guardar en una variable `n` la longitud del vector resultante (verificar que en efeccto es un número cercano a 30).\n",
    "   - Imprimir la lista de esos valores en orden inverso.\n",
    "3. Escribir los primeros 100 valores de la sucesión de Fibonacci comenzando en $a_0 = 1$ y $a_1 = 1$. (`[1, 1, 2, 3, 5, 8, 13, 21, ...]`)\n",
    "   - Hacer una gráfica de barras.\n",
    "   "
   ]
  },
  {
   "cell_type": "code",
   "execution_count": 1,
   "metadata": {},
   "outputs": [
    {
     "name": "stdin",
     "output_type": "stream",
     "text": [
      "Escribe tu edad : 21\n"
     ]
    },
    {
     "name": "stdout",
     "output_type": "stream",
     "text": [
      "cuidate del covid principe. TQM\n"
     ]
    }
   ],
   "source": [
    "edad = int(input(\"Escribe tu edad :\"))\n",
    "if  edad >=100 :\n",
    "    print  (\"cuidate del covid abuelo.\")\n",
    "elif edad>0 :\n",
    "    print  (\"cuidate del covid principe. TQM\")\n",
    "else :\n",
    "    print (\"que tranza carnal, aun no naces, but cuidate del covid\")\n",
    "\n",
    "\n",
    "    \n",
    "\n",
    "    "
   ]
  },
  {
   "cell_type": "markdown",
   "metadata": {},
   "source": [
    "## ya me trabe en definir una funcion jaja :v "
   ]
  },
  {
   "cell_type": "code",
   "execution_count": 24,
   "metadata": {},
   "outputs": [
    {
     "name": "stdin",
     "output_type": "stream",
     "text": [
      "Escribe tu edad : -12020202022\n"
     ]
    },
    {
     "name": "stdout",
     "output_type": "stream",
     "text": [
      "que tranza carnal, aun no naces, but cuidate del covid\n"
     ]
    }
   ],
   "source": [
    "def dime_tu_edad (edad):\n",
    "    edad = int(input(\"Escribe tu edad :\"))\n",
    "    if edad > 100 :\n",
    "        return (\"cuidate del covid abuelo.\")\n",
    "    elif edad > 0 :\n",
    "        return (\"cuidate del covid principe. TQM\")\n",
    "    else : \n",
    "        return (\"que tranza carnal, aun no naces, but cuidate del covid\")\n",
    "         \n",
    "x = dime_tu_edad (edad)\n",
    "print (x)\n",
    "   "
   ]
  },
  {
   "cell_type": "code",
   "execution_count": null,
   "metadata": {},
   "outputs": [],
   "source": []
  },
  {
   "cell_type": "markdown",
   "metadata": {},
   "source": [
    "### Generar lista con 100 numeros aleatorios random \n"
   ]
  },
  {
   "cell_type": "code",
   "execution_count": null,
   "metadata": {},
   "outputs": [],
   "source": []
  },
  {
   "cell_type": "code",
   "execution_count": 9,
   "metadata": {},
   "outputs": [
    {
     "name": "stdout",
     "output_type": "stream",
     "text": [
      "[0.4694847397130394, 0.5664151701668131, 0.6041362746565831, 0.7565991341977676, 0.6135600512039263, 0.2031633643109505, 0.8269769596825463, 0.9873791400715235, 0.08647850764423837, 0.7289194579409676, 0.7570901710147895, 0.02683750464680079, 0.8479453607689489, 0.04402240105969657, 0.3364781165153471, 0.14977962882184204, 0.5205961954729842, 0.35579173482547377, 0.8866628535116314, 0.9021201235455052, 0.08102928371224671, 0.6720670310953939, 0.33009067945470494, 0.33367310419408447, 0.7277422067508132, 0.9047739768192543, 0.7922329318633372, 0.44772883791594476, 0.29664014031586083, 0.2318258905118855, 0.8206616137169811, 0.9904435836536105, 0.5894176218489184, 0.8603664855079787, 0.4268252370890111, 0.44188691144972847, 0.23082814702392784, 0.9160687333106713, 0.9399006079183119, 0.6286925651822324, 0.3152631423522947, 0.15523065419853788, 0.036253159315584926, 0.8907350228521975, 0.49060308414153886, 0.8462406540008736, 0.16297567564367288, 0.7852668849591261, 0.6961333324767085, 0.9237639157276877, 0.4613456535405924, 0.7079396311943571, 0.2782502738193007, 0.09828107958041277, 0.6122032513856247, 0.05824749776264693, 0.8386235639851277, 0.97169787436891, 0.07733378652792611, 0.04731520340730433, 0.018428680661937147, 0.4928903303607006, 0.5028506284626609, 0.15793226593289844, 0.253388823680919, 0.7600202617434302, 0.3487952004214636, 0.10511957594471788, 0.1823957464285505, 0.7280935762347375, 0.0435908830562739, 0.7904004890275249, 0.7084708368261646, 0.7986785999182429, 0.2724928697132597, 0.3637474063253754, 0.6126868058697459, 0.39646803074437786, 0.5839800364983626, 0.8904172200691407, 0.44164445706279076, 0.9569944450799832, 0.9853163237026438, 0.42141234539558914, 0.4395885934415842, 0.1348897749770328, 0.42882511372440457, 0.4400431098218207, 0.8517992602117946, 0.7925930364626058, 0.5031090170670356, 0.444776728647151, 0.9787052864527542, 0.7708953748751488, 0.4975396388477513, 0.1833330670256964, 0.5784846008556358, 0.473363218474245, 0.4293185024453662, 0.8221561491839322]\n"
     ]
    }
   ],
   "source": [
    "import numpy as np\n",
    "lista = list(np.random.random(100))\n",
    "print (lista)"
   ]
  },
  {
   "cell_type": "code",
   "execution_count": 10,
   "metadata": {},
   "outputs": [
    {
     "name": "stdout",
     "output_type": "stream",
     "text": [
      "100\n"
     ]
    }
   ],
   "source": [
    "print (len(lista)) #para corroborar mi código "
   ]
  },
  {
   "cell_type": "markdown",
   "metadata": {},
   "source": [
    " - Guardar los valores de la lista que sean mayores que 0.7 (convertir a `np.array`)."
   ]
  },
  {
   "cell_type": "code",
   "execution_count": 12,
   "metadata": {},
   "outputs": [
    {
     "name": "stdout",
     "output_type": "stream",
     "text": [
      "0 0.4694847397130394\n",
      "1 0.5664151701668131\n",
      "2 0.6041362746565831\n",
      "3 0.7565991341977676\n",
      "4 0.6135600512039263\n",
      "5 0.2031633643109505\n",
      "6 0.8269769596825463\n",
      "7 0.9873791400715235\n",
      "8 0.08647850764423837\n",
      "9 0.7289194579409676\n",
      "10 0.7570901710147895\n",
      "11 0.02683750464680079\n",
      "12 0.8479453607689489\n",
      "13 0.04402240105969657\n",
      "14 0.3364781165153471\n",
      "15 0.14977962882184204\n",
      "16 0.5205961954729842\n",
      "17 0.35579173482547377\n",
      "18 0.8866628535116314\n",
      "19 0.9021201235455052\n",
      "20 0.08102928371224671\n",
      "21 0.6720670310953939\n",
      "22 0.33009067945470494\n",
      "23 0.33367310419408447\n",
      "24 0.7277422067508132\n",
      "25 0.9047739768192543\n",
      "26 0.7922329318633372\n",
      "27 0.44772883791594476\n",
      "28 0.29664014031586083\n",
      "29 0.2318258905118855\n",
      "30 0.8206616137169811\n",
      "31 0.9904435836536105\n",
      "32 0.5894176218489184\n",
      "33 0.8603664855079787\n",
      "34 0.4268252370890111\n",
      "35 0.44188691144972847\n",
      "36 0.23082814702392784\n",
      "37 0.9160687333106713\n",
      "38 0.9399006079183119\n",
      "39 0.6286925651822324\n",
      "40 0.3152631423522947\n",
      "41 0.15523065419853788\n",
      "42 0.036253159315584926\n",
      "43 0.8907350228521975\n",
      "44 0.49060308414153886\n",
      "45 0.8462406540008736\n",
      "46 0.16297567564367288\n",
      "47 0.7852668849591261\n",
      "48 0.6961333324767085\n",
      "49 0.9237639157276877\n",
      "50 0.4613456535405924\n",
      "51 0.7079396311943571\n",
      "52 0.2782502738193007\n",
      "53 0.09828107958041277\n",
      "54 0.6122032513856247\n",
      "55 0.05824749776264693\n",
      "56 0.8386235639851277\n",
      "57 0.97169787436891\n",
      "58 0.07733378652792611\n",
      "59 0.04731520340730433\n",
      "60 0.018428680661937147\n",
      "61 0.4928903303607006\n",
      "62 0.5028506284626609\n",
      "63 0.15793226593289844\n",
      "64 0.253388823680919\n",
      "65 0.7600202617434302\n",
      "66 0.3487952004214636\n",
      "67 0.10511957594471788\n",
      "68 0.1823957464285505\n",
      "69 0.7280935762347375\n",
      "70 0.0435908830562739\n",
      "71 0.7904004890275249\n",
      "72 0.7084708368261646\n",
      "73 0.7986785999182429\n",
      "74 0.2724928697132597\n",
      "75 0.3637474063253754\n",
      "76 0.6126868058697459\n",
      "77 0.39646803074437786\n",
      "78 0.5839800364983626\n",
      "79 0.8904172200691407\n",
      "80 0.44164445706279076\n",
      "81 0.9569944450799832\n",
      "82 0.9853163237026438\n",
      "83 0.42141234539558914\n",
      "84 0.4395885934415842\n",
      "85 0.1348897749770328\n",
      "86 0.42882511372440457\n",
      "87 0.4400431098218207\n",
      "88 0.8517992602117946\n",
      "89 0.7925930364626058\n",
      "90 0.5031090170670356\n",
      "91 0.444776728647151\n",
      "92 0.9787052864527542\n",
      "93 0.7708953748751488\n",
      "94 0.4975396388477513\n",
      "95 0.1833330670256964\n",
      "96 0.5784846008556358\n",
      "97 0.473363218474245\n",
      "98 0.4293185024453662\n",
      "99 0.8221561491839322\n",
      "<class 'numpy.float64'>\n"
     ]
    }
   ],
   "source": [
    "for index, n in enumerate(lista):\n",
    "    print (index, n)\n",
    "print (type(n))"
   ]
  },
  {
   "cell_type": "code",
   "execution_count": 22,
   "metadata": {},
   "outputs": [
    {
     "name": "stdout",
     "output_type": "stream",
     "text": [
      "3 0.7565991341977676\n",
      "6 0.8269769596825463\n",
      "7 0.9873791400715235\n",
      "9 0.7289194579409676\n",
      "10 0.7570901710147895\n",
      "12 0.8479453607689489\n",
      "18 0.8866628535116314\n",
      "19 0.9021201235455052\n",
      "24 0.7277422067508132\n",
      "25 0.9047739768192543\n",
      "26 0.7922329318633372\n",
      "30 0.8206616137169811\n",
      "31 0.9904435836536105\n",
      "33 0.8603664855079787\n",
      "37 0.9160687333106713\n",
      "38 0.9399006079183119\n",
      "43 0.8907350228521975\n",
      "45 0.8462406540008736\n",
      "47 0.7852668849591261\n",
      "49 0.9237639157276877\n",
      "51 0.7079396311943571\n",
      "56 0.8386235639851277\n",
      "57 0.97169787436891\n",
      "65 0.7600202617434302\n",
      "69 0.7280935762347375\n",
      "71 0.7904004890275249\n",
      "72 0.7084708368261646\n",
      "73 0.7986785999182429\n",
      "79 0.8904172200691407\n",
      "81 0.9569944450799832\n",
      "82 0.9853163237026438\n",
      "88 0.8517992602117946\n",
      "89 0.7925930364626058\n",
      "92 0.9787052864527542\n",
      "93 0.7708953748751488\n",
      "99 0.8221561491839322\n"
     ]
    }
   ],
   "source": [
    "for index, n in enumerate(lista):\n",
    "    if n > 0.7 :\n",
    "        print (index, n)"
   ]
  },
  {
   "cell_type": "code",
   "execution_count": 71,
   "metadata": {},
   "outputs": [
    {
     "name": "stdout",
     "output_type": "stream",
     "text": [
      "0 1 1 2 3 5 8 13 21 34 55 89 144 233 377 610 987 1597 2584 4181 6765 10946 17711 28657 46368 75025 121393 196418 317811 514229 832040 1346269 2178309 3524578 5702887 9227465 14930352 24157817 39088169 63245986 102334155 165580141 267914296 433494437 701408733 1134903170 1836311903 2971215073 4807526976 7778742049 12586269025 20365011074 32951280099 53316291173 86267571272 139583862445 225851433717 365435296162 591286729879 956722026041 1548008755920 2504730781961 4052739537881 6557470319842 10610209857723 17167680177565 27777890035288 44945570212853 72723460248141 117669030460994 190392490709135 308061521170129 498454011879264 806515533049393 1304969544928657 2111485077978050 3416454622906707 5527939700884757 8944394323791464 14472334024676221 23416728348467685 37889062373143906 61305790721611591 99194853094755497 160500643816367088 259695496911122585 420196140727489673 679891637638612258 1100087778366101931 1779979416004714189 2880067194370816120 4660046610375530309 7540113804746346429 12200160415121876738 19740274219868223167 31940434634990099905 51680708854858323072 83621143489848422977 135301852344706746049 218922995834555169026 354224848179261915075 "
     ]
    }
   ],
   "source": [
    "a, b = 0,1\n",
    "for i in range(101):\n",
    "    print(a, end=' ')\n",
    "    a, b = b, a + b\n",
    "    "
   ]
  },
  {
   "cell_type": "code",
   "execution_count": 72,
   "metadata": {},
   "outputs": [
    {
     "name": "stdout",
     "output_type": "stream",
     "text": [
      "100\n"
     ]
    }
   ],
   "source": [
    "print (i)"
   ]
  },
  {
   "cell_type": "code",
   "execution_count": null,
   "metadata": {},
   "outputs": [],
   "source": []
  },
  {
   "cell_type": "code",
   "execution_count": null,
   "metadata": {},
   "outputs": [],
   "source": []
  },
  {
   "cell_type": "code",
   "execution_count": null,
   "metadata": {},
   "outputs": [],
   "source": []
  }
 ],
 "metadata": {
  "kernelspec": {
   "display_name": "Python 3",
   "language": "python",
   "name": "python3"
  },
  "language_info": {
   "codemirror_mode": {
    "name": "ipython",
    "version": 3
   },
   "file_extension": ".py",
   "mimetype": "text/x-python",
   "name": "python",
   "nbconvert_exporter": "python",
   "pygments_lexer": "ipython3",
   "version": "3.7.6"
  }
 },
 "nbformat": 4,
 "nbformat_minor": 4
}
