{
 "cells": [
  {
   "cell_type": "markdown",
   "metadata": {},
   "source": [
    "`Ecuación de Van der Waals`\n",
    "\n",
    "$\\left(p + \\dfrac{a}{v^2}\\right)\\left(v-b\\right)=kT$\n",
    "\n",
    "$a = 3.599, b = 0.0467$"
   ]
  },
  {
   "cell_type": "markdown",
   "metadata": {},
   "source": [
    "## *a) Resolver para $v$, con $T=80ºC$ y $p={10, 15, 20, 40} atm$*"
   ]
  },
  {
   "cell_type": "markdown",
   "metadata": {},
   "source": [
    "* #### _Por logica nos guiamos a que si necesitamos saber la \"$ v $\" y tenemos todos los valores,  solo la despejamos, pero no es asi, se debe recurrir a una método o paso algebraico distinto, para poder llegar al polinomio. y esa forma es :_"
   ]
  },
  {
   "cell_type": "markdown",
   "metadata": {},
   "source": [
    "$\\left(\\dfrac{pv^2}{v^2} + \\dfrac{a}{v^2}\\right)\\left(v-b\\right)=kT$\n",
    "\n",
    "$\\Rightarrow \\left(\\dfrac{pv^2 + a}{v^2}\\right)\\left(v-b\\right)=kT$\n",
    "\n",
    "$\\Rightarrow \\dfrac{\\left(pv^2 + a\\right)\\left(v-b\\right)}{v^2}=kT$\n",
    "\n",
    "$\\Rightarrow \\left(pv^2 + a\\right)\\left(v-b\\right)=kTv^2$\n",
    "                                                                                \n",
    "$\\Rightarrow pv^3 + av - pbv^2 - ab = kTv^2$\n",
    "\n",
    "$\\Rightarrow pv^3 + av - pbv^2 - kTv^2  = ab$\n",
    "\n",
    "$\\Rightarrow pv^3 - (pb + kT)v^2 + av  = ab$\n",
    "\n",
    " $f(v) = pv^3 - (pb + kT)v^2 + av - ab $ "
   ]
  },
  {
   "cell_type": "code",
   "execution_count": 3,
   "metadata": {},
   "outputs": [],
   "source": [
    "# Definimos las funciones con respecto a la presión asignada.\n",
    "#Y las llamamos con las variables [f_1(v),f_2(v),f_3(v),f_4(v),] respectivamente para las distintas presiones . \n",
    "def f_1(v):\n",
    "    a = 3.599\n",
    "    b = 0.0467                   \n",
    "    k = 8.6173e-5                #Para cuando P = 10\n",
    "    T = 80 + 273.15               #La temperatura se debe expresar en Kelvin, es por eso la suma de 80 más 273.15\n",
    "    p = 10                      \n",
    "\n",
    "    return (p * v**3) - ((p * b + k * T) * v**2) + (a * v) - (a * b) # Este es nuestro polinomio obtenido de la f(v)\n",
    "\n",
    "def f_2(v):\n",
    "    a = 3.599\n",
    "    b = 0.0467\n",
    "    k = 8.6173e-5               #Para cuando P = 15\n",
    "    T = 80 + 273.15             \n",
    "    p = 15\n",
    "\n",
    "    return (p * v**3) - ((p * b + k * T) * v**2) + (a * v) - (a * b)\n",
    "\n",
    "def f_3(v):\n",
    "    a = 3.599\n",
    "    b = 0.0467                  #Para cuando P = 20\n",
    "    k = 8.6173e-5\n",
    "    T = 80 + 273.15             \n",
    "    p = 20\n",
    "\n",
    "    return (p * v**3) - ((p * b + k * T) * v**2) + (a * v) - (a * b)\n",
    "\n",
    "def f_4(v):\n",
    "    a = 3.599\n",
    "    b = 0.0467\n",
    "    k = 8.6173e-5\n",
    "    T = 80 + 273.15              #Para cuando P = 40 \n",
    "    p = 40\n",
    "\n",
    "    return (p * v**3) - ((p * b + k * T) * v**2) + (a * v) - (a * b)"
   ]
  },
  {
   "cell_type": "markdown",
   "metadata": {},
   "source": [
    "* #### _Se define un método numérico a utilizar, en mi caso elegí la bisección dado que principalmente es el método mas sencillo para encontrar raices, lo cual ocupamos para este tipo de problemas de ecuaciones no lineales._   "
   ]
  },
  {
   "cell_type": "code",
   "execution_count": 4,
   "metadata": {},
   "outputs": [],
   "source": [
    " # Una vez se definen las funciones en cada variable \"f_n(v)\" se define \"biseccion\" como el método a utilizar \n",
    " # y se comienza el proceso de iteraciones.     \n",
    "\n",
    "\n",
    "def bisection(f, a_0, b_0, eps=1e-8, N=100):\n",
    "    \n",
    "    if not f(a_0) * f(b_0) < 0:\n",
    "        print(\"Cannot compute root, verify interval.\")\n",
    "        return None\n",
    "    \n",
    "    a = a_0\n",
    "    b = b_0\n",
    "    \n",
    "    for i in range(N):\n",
    "        m = (a + b) / 2\n",
    "        \n",
    "        if f(a) * f(m) < 0:\n",
    "            a = a\n",
    "            b = m\n",
    "        if f(b) * f(m) < 0:\n",
    "            a = m\n",
    "            b = b\n",
    "        \n",
    "        if abs(f(m)) < eps:\n",
    "            print(\"Root found!\")\n",
    "            print(f\"Iteración {i + 1} de {N}\")\n",
    "            return m\n",
    "    \n",
    "    print(\"Root not found! Max-iterations exceeded.\")\n",
    "    return None"
   ]
  },
  {
   "cell_type": "markdown",
   "metadata": {},
   "source": [
    "* #### _Las siguientes lineas de codigo, son solamente para comprabar que los limites y datos esten bien, evaluando en uno de los parametros de la biseccion, que es, que el producto de la funcion evaluado en los limites asignados sea menor a cero._ \n",
    "#### $f(a_0)*f(b_0) < 0$"
   ]
  },
  {
   "cell_type": "code",
   "execution_count": 5,
   "metadata": {},
   "outputs": [
    {
     "name": "stdout",
     "output_type": "stream",
     "text": [
      "-1679957.4109628676\n"
     ]
    }
   ],
   "source": [
    "print(f_1(0) * f_1(100)) # [0, 100]  #comprobación "
   ]
  },
  {
   "cell_type": "code",
   "execution_count": 6,
   "metadata": {},
   "outputs": [
    {
     "name": "stdout",
     "output_type": "stream",
     "text": [
      "Root found!\n",
      "Iteración 6 de 100\n"
     ]
    },
    {
     "data": {
      "text/plain": [
       "1.5625"
      ]
     },
     "execution_count": 6,
     "metadata": {},
     "output_type": "execute_result"
    }
   ],
   "source": [
    "R1 = bisection(f_1, 0, 100, 100)\n",
    "R1"
   ]
  },
  {
   "cell_type": "code",
   "execution_count": 7,
   "metadata": {},
   "outputs": [
    {
     "name": "stdout",
     "output_type": "stream",
     "text": [
      "-2519931.4598073675\n"
     ]
    }
   ],
   "source": [
    "print(f_2(0) * f_2(100)) # [0, 100] # comprobación "
   ]
  },
  {
   "cell_type": "code",
   "execution_count": 8,
   "metadata": {},
   "outputs": [
    {
     "name": "stdout",
     "output_type": "stream",
     "text": [
      "Root found!\n",
      "Iteración 6 de 100\n"
     ]
    },
    {
     "data": {
      "text/plain": [
       "1.5625"
      ]
     },
     "execution_count": 8,
     "metadata": {},
     "output_type": "execute_result"
    }
   ],
   "source": [
    "R2 = bisection(f_2, 0, 100, 100)\n",
    "R2"
   ]
  },
  {
   "cell_type": "code",
   "execution_count": 9,
   "metadata": {},
   "outputs": [
    {
     "name": "stdout",
     "output_type": "stream",
     "text": [
      "-3359905.5086518675\n"
     ]
    }
   ],
   "source": [
    "print(f_3(0) * f_3(100)) # [0, 100] # comprobación "
   ]
  },
  {
   "cell_type": "code",
   "execution_count": 10,
   "metadata": {},
   "outputs": [
    {
     "name": "stdout",
     "output_type": "stream",
     "text": [
      "Root found!\n",
      "Iteración 6 de 100\n"
     ]
    },
    {
     "data": {
      "text/plain": [
       "1.5625"
      ]
     },
     "execution_count": 10,
     "metadata": {},
     "output_type": "execute_result"
    }
   ],
   "source": [
    "R3 = bisection(f_3, 0, 100, 100)\n",
    "R3"
   ]
  },
  {
   "cell_type": "code",
   "execution_count": 11,
   "metadata": {},
   "outputs": [
    {
     "name": "stdout",
     "output_type": "stream",
     "text": [
      "-6719801.704029868\n"
     ]
    }
   ],
   "source": [
    "print(f_4(0) * f_4(100)) # [0, 100] # comprobación "
   ]
  },
  {
   "cell_type": "code",
   "execution_count": 12,
   "metadata": {},
   "outputs": [
    {
     "name": "stdout",
     "output_type": "stream",
     "text": [
      "Root found!\n",
      "Iteración 7 de 100\n"
     ]
    },
    {
     "data": {
      "text/plain": [
       "0.78125"
      ]
     },
     "execution_count": 12,
     "metadata": {},
     "output_type": "execute_result"
    }
   ],
   "source": [
    "R4 = bisection(f_4, 0, 100, 100)\n",
    "R4"
   ]
  },
  {
   "cell_type": "code",
   "execution_count": 13,
   "metadata": {},
   "outputs": [
    {
     "name": "stdout",
     "output_type": "stream",
     "text": [
      "El resultado de R1 es : 1.5625\n",
      "El resultado de R2 es : 1.5625\n",
      "El resultado de R3 es : 1.5625\n",
      "El resultado de R4 es : 0.78125\n"
     ]
    }
   ],
   "source": [
    "#En resumen el resultado de raices es: \n",
    "print (\"El resultado de R1 es :\",R1)\n",
    "print (\"El resultado de R2 es :\",R2)\n",
    "print (\"El resultado de R3 es :\",R3)\n",
    "print (\"El resultado de R4 es :\",R4)"
   ]
  },
  {
   "cell_type": "markdown",
   "metadata": {},
   "source": [
    "## *b) Aproximar un polinomio con los 4 puntos que calculamos en (a):*\n",
    "\n",
    "### $v(p_1) = x_1$\n",
    "\n",
    "### $v(p_2) = x_2$\n",
    "\n",
    "### $v(p_3) = x_3$\n",
    "\n",
    "### $v(p_4) = x_4$\n",
    "\n",
    "#### Encontrar $v(p)$"
   ]
  },
  {
   "cell_type": "markdown",
   "metadata": {},
   "source": [
    "* #### _Aqui utilicé la paqueteria de scipy en concreto el módulo de interpolate e importé lagrage del mismo._ "
   ]
  },
  {
   "cell_type": "code",
   "execution_count": 14,
   "metadata": {},
   "outputs": [],
   "source": [
    "# tambien adjunto referencia de la documentacion oficial de scipy para un mejor conocimiento del módulo \n",
    "# Referencia: https://docs.scipy.org/doc/scipy/reference/generated/scipy.interpolate.lagrange.html\n",
    "from scipy.interpolate import lagrange\n",
    "import numpy as np\n",
    "\n",
    "p = np.array([10, 15, 20, 40]) # Las presiones las llamo a una variable y las convierto en un arreglo de numpy.\n",
    "v = np.array([R1, R2, R3, R4]) # Al igual que mis raices obtenidas de las funciones dadas anteriormente \n",
    "poly = lagrange(p, v)          # Y en la variable poly agrego mi modulo de lagrage para hacer la magia :D "
   ]
  },
  {
   "cell_type": "code",
   "execution_count": 15,
   "metadata": {},
   "outputs": [
    {
     "data": {
      "text/plain": [
       "array([-5.20833333e-05,  2.34375000e-03, -3.38541667e-02,  1.71875000e+00])"
      ]
     },
     "execution_count": 15,
     "metadata": {},
     "output_type": "execute_result"
    }
   ],
   "source": [
    "from numpy.polynomial.polynomial import Polynomial\n",
    "coefs = Polynomial(poly).coef\n",
    "coefs"
   ]
  },
  {
   "cell_type": "code",
   "execution_count": 16,
   "metadata": {},
   "outputs": [],
   "source": [
    "def f(x): # Y definimos la funcion f(x) donde nos regresará los coeficientes, y ya que se convirtineron \n",
    "          # previamente a un arreglo de numpy los llamamos como su numero asignado de lista[0,1,2,3]\n",
    "   \n",
    "    return coefs[0]*x**3 + coefs[1]*x**2 + coefs[2]*x + coefs[3] "
   ]
  },
  {
   "cell_type": "markdown",
   "metadata": {},
   "source": [
    "## *c) Graficar y comentar*"
   ]
  },
  {
   "cell_type": "code",
   "execution_count": 17,
   "metadata": {},
   "outputs": [
    {
     "name": "stdout",
     "output_type": "stream",
     "text": [
      "El resultado de R1 es : 1.5625\n",
      "El resultado de R2 es : 1.5625\n",
      "El resultado de R3 es : 1.5625\n",
      "El resultado de R4 es : 0.78125\n"
     ]
    },
    {
     "data": {
      "image/png": "[encoded data removed]",
      "text/plain": [
       "<Figure size 432x288 with 1 Axes>"
      ]
     },
     "metadata": {},
     "output_type": "display_data"
    }
   ],
   "source": [
    "import matplotlib.pyplot as plt\n",
    "plt.style.use('dark_background')  \n",
    "\n",
    "x = np.linspace(-1000, 3000, 10000)\n",
    "y = f(x)\n",
    "plt.plot(x, y)\n",
    "\n",
    "\n",
    "\n",
    "#Datos obtenidos en el primer apartado \n",
    "print (\"El resultado de R1 es :\",R1)\n",
    "print (\"El resultado de R2 es :\",R2)\n",
    "print (\"El resultado de R3 es :\",R3)\n",
    "print (\"El resultado de R4 es :\",R4)"
   ]
  },
  {
   "cell_type": "markdown",
   "metadata": {},
   "source": [
    "#### `Referencia:` _Para ver el comportamiento_\n",
    "* #### _Hay una similitud muy grande en las dos graficas, que es lo que se debe ver, una misma funcion evaluada solo en puntos distintos, pero que al final la fisica nos dice que su comportamiento debe ser el mismo._\n",
    "\n",
    "<img src=\"https://d2vlcm61l7u1fs.cloudfront.net/media%2Fb1b%2Fb1b02456-55db-4352-bf68-e0afd7dfa0b2%2FphpihBZBf.png\" width=\"50%\">"
   ]
  },
  {
   "cell_type": "markdown",
   "metadata": {},
   "source": [
    "## *d) Predicciones para 50, 80 y 100*"
   ]
  },
  {
   "cell_type": "code",
   "execution_count": 18,
   "metadata": {},
   "outputs": [
    {
     "name": "stdout",
     "output_type": "stream",
     "text": [
      "Para f(50) el resultado es:  -0.6249999999999707\n",
      "Para f(80) el resultado es:  -12.656249999999932\n",
      "Para f(100) el resultado es: -30.3124999999999\n"
     ]
    }
   ],
   "source": [
    "print(\"Para f(50) el resultado es: \",f(50))\n",
    "print(\"Para f(80) el resultado es: \",f(80))       # Y evaluamos nuestra misma función para predecir el comportamiento, \n",
    "print(\"Para f(100) el resultado es:\",f(100))      # ahora con la presion en [50,80,100]."
   ]
  },
  {
   "cell_type": "markdown",
   "metadata": {},
   "source": [
    "## *e) Usar (a) para aproximar $v$ con $p$'s del inciso anterior*\n",
    "* #### _Evaluando la funcion dada en el primer inciso, corroboramos que los datos sean correctos con respecto a la prediccion del modelo anterior_"
   ]
  },
  {
   "cell_type": "code",
   "execution_count": 19,
   "metadata": {},
   "outputs": [],
   "source": [
    "# Definimos ahora las funciones [5,6,7] para corroborar los datos. \n",
    "\n",
    "def f_5(v):\n",
    "    a = 3.599\n",
    "    b = 0.0467\n",
    "    k = 8.6173e-5         #cuando la presion es igual a 50 \n",
    "    T = 80 + 273.15\n",
    "    p = 50\n",
    "\n",
    "    return (p * v**3) - ((p * b + k * T) * v**2) + (a * v) - (a * b)\n",
    "\n",
    "def f_6(v):\n",
    "    a = 3.599\n",
    "    b = 0.0467            #cuando la presion es igual a 80 \n",
    "    k = 8.6173e-5\n",
    "    T = 80 + 273.15\n",
    "    p = 80\n",
    "\n",
    "    return (p * v**3) - ((p * b + k * T) * v**2) + (a * v) - (a * b)\n",
    "\n",
    "def f_7(v):\n",
    "    a = 3.599\n",
    "    b = 0.0467           #cuando la presion es igual a 100 \n",
    "    k = 8.6173e-5\n",
    "    T = 80 + 273.15\n",
    "    p = 100\n",
    "\n",
    "    return (p * v**3) - ((p * b + k * T) * v**2) + (a * v) - (a * b)"
   ]
  },
  {
   "cell_type": "code",
   "execution_count": 20,
   "metadata": {},
   "outputs": [
    {
     "name": "stdout",
     "output_type": "stream",
     "text": [
      "-8399749.801718868\n",
      "-13439594.094785871\n",
      "-16799490.29016387\n"
     ]
    }
   ],
   "source": [
    "print(f_5(0) * f_5(100)) # [0, 100]   # comprobamos para ver que si esta cumpliendo los parametros dados para la bisección. \n",
    "print(f_6(0) * f_6(100)) # [0, 100]\n",
    "print(f_7(0) * f_7(100)) # [0, 100]"
   ]
  },
  {
   "cell_type": "code",
   "execution_count": 21,
   "metadata": {},
   "outputs": [
    {
     "name": "stdout",
     "output_type": "stream",
     "text": [
      "Root found!\n",
      "Iteración 7 de 100\n",
      "Root found!\n",
      "Iteración 7 de 100\n",
      "Root found!\n",
      "Iteración 7 de 100\n",
      "el resultado para R5 es : 0.78125\n",
      "el resultado para R56 es : 0.78125\n",
      "el resultado para R7 es : 0.78125\n"
     ]
    }
   ],
   "source": [
    "# Buscamos las raices con respecto a las funciones [5,6,7]. \n",
    "R5 = bisection(f_5, 0, 100, 100)  \n",
    "R6 = bisection(f_6, 0, 100, 100)\n",
    "R7 = bisection(f_7, 0, 100, 100)\n",
    "print(\"el resultado para R5 es :\" ,R5)\n",
    "print(\"el resultado para R56 es :\" ,R6)\n",
    "print(\"el resultado para R7 es :\" ,R7)"
   ]
  },
  {
   "cell_type": "markdown",
   "metadata": {},
   "source": [
    "* #### _Y se obtienen los errores para las raices [5,6,7]_"
   ]
  },
  {
   "cell_type": "code",
   "execution_count": 22,
   "metadata": {},
   "outputs": [
    {
     "name": "stdout",
     "output_type": "stream",
     "text": [
      "1.4062499999999707\n",
      "13.437499999999932\n",
      "31.0937499999999\n"
     ]
    }
   ],
   "source": [
    "print(np.abs(R5 - f(50)))\n",
    "print(np.abs(R6 - f(80)))\n",
    "print(np.abs(R7 - f(100)))"
   ]
  },
  {
   "cell_type": "markdown",
   "metadata": {},
   "source": [
    "## *f) Encontrar nuevo polinomio, predecir y calcular errores*\n",
    "* #### _Y buscamos ahora un nuevo polinomio con los datos obtenidos en los puntos 1 y 4. Y repetimos los puntos 4 y 5 pero evaluando ahora para la presion a [90,110] atm._"
   ]
  },
  {
   "cell_type": "code",
   "execution_count": 23,
   "metadata": {},
   "outputs": [],
   "source": [
    "p_2 = np.array([10, 15, 20, 40, 50, 80, 100])\n",
    "v_2 = np.array([R1, R2, R3, R4, f(50), f(80), f(100)]) #Vuelvo a importar el modulo de lagrage . \n",
    "poly_2 = lagrange(p_2, v_2)                            # y llamo a la variable donde sera almacenado el siguiente polinomio como poly_2"
   ]
  },
  {
   "cell_type": "code",
   "execution_count": 24,
   "metadata": {},
   "outputs": [
    {
     "data": {
      "text/plain": [
       "array([ 3.82571033e-23, -1.06408514e-20,  1.07403778e-18, -5.20833333e-05,\n",
       "        2.34375000e-03, -3.38541667e-02,  1.71875000e+00])"
      ]
     },
     "execution_count": 24,
     "metadata": {},
     "output_type": "execute_result"
    }
   ],
   "source": [
    "coefs_2 = Polynomial(poly_2).coef                   # También utilizo el módulo de .coef para los coeficientes,\n",
    "coefs_2                                             # que almacené en la variable coef_2."
   ]
  },
  {
   "cell_type": "code",
   "execution_count": 25,
   "metadata": {},
   "outputs": [],
   "source": [
    "# defino mi f_2(x) y que me regrese los valores de los coeficientes tomandolos con su numero de lista antes puesto por el arreglo de numpy. \n",
    "def f_2(x):\n",
    "    return coefs_2[0]*x**6 + coefs_2[1]*x**5 + coefs_2[2]*x**4 + coefs_2[3]*x**3 + coefs_2[4]*x**2 + coefs_2[5]*x + coefs_2[6]"
   ]
  },
  {
   "cell_type": "code",
   "execution_count": 26,
   "metadata": {},
   "outputs": [
    {
     "name": "stdout",
     "output_type": "stream",
     "text": [
      "-0.6249999999997082\n",
      "-12.656249999998952\n",
      "-30.312499999998224\n",
      "-20.31249999999866\n",
      "-42.9687499999973\n"
     ]
    }
   ],
   "source": [
    "# E imprimo mis valores para mi funcion 2 evaluado en las presiones anteriores. \n",
    "print(f_2(50)) \n",
    "print(f_2(80))\n",
    "print(f_2(100))\n",
    "print(f_2(90))\n",
    "print(f_2(110))"
   ]
  },
  {
   "cell_type": "code",
   "execution_count": 27,
   "metadata": {},
   "outputs": [],
   "source": [
    "# Defino mis ultimas dos funciones 8 y 9.\n",
    "def f_8(v):\n",
    "    a = 3.599\n",
    "    b = 0.0467\n",
    "    k = 8.6173e-5               # Para cuando la presion es 90\n",
    "    T = 80 + 273.15\n",
    "    p = 90\n",
    "\n",
    "    return (p * v**3) - ((p * b + k * T) * v**2) + (a * v) - (a * b)\n",
    "\n",
    "def f_9(v):\n",
    "    a = 3.599\n",
    "    b = 0.0467\n",
    "    k = 8.6173e-5              # Para cuando la presion es 110\n",
    "    T = 80 + 273.15\n",
    "    p = 110\n",
    "\n",
    "    return (p * v**3) - ((p * b + k * T) * v**2) + (a * v) - (a * b)"
   ]
  },
  {
   "cell_type": "code",
   "execution_count": 28,
   "metadata": {},
   "outputs": [
    {
     "name": "stdout",
     "output_type": "stream",
     "text": [
      "-15119542.192474872\n",
      "-18479438.38785287\n"
     ]
    }
   ],
   "source": [
    "print(f_8(0) * f_8(100)) # [0, 100] # corroboro mis datos con respecto a los parametros de la biseccion. \n",
    "print(f_9(0) * f_9(100)) # [0, 100]"
   ]
  },
  {
   "cell_type": "code",
   "execution_count": 29,
   "metadata": {},
   "outputs": [
    {
     "name": "stdout",
     "output_type": "stream",
     "text": [
      "Root found!\n",
      "Iteración 7 de 100\n",
      "Root found!\n",
      "Iteración 7 de 100\n",
      "Para R8 el resultado es:  0.78125\n",
      "Para R9 el resultado es:  0.78125\n"
     ]
    }
   ],
   "source": [
    "R8 = bisection(f_8, 0, 100, 100)\n",
    "R9 = bisection(f_9, 0, 100, 100)  # Y ya que se cumple mis parametros, busco mis raices con el metodo de biseccion e imprimo mis resultados \n",
    "print(\"Para R8 el resultado es: \",R8)\n",
    "print(\"Para R9 el resultado es: \",R9)"
   ]
  },
  {
   "cell_type": "code",
   "execution_count": 30,
   "metadata": {},
   "outputs": [
    {
     "name": "stdout",
     "output_type": "stream",
     "text": [
      "1.4062499999997082\n",
      "13.437499999998952\n",
      "31.093749999998224\n",
      "21.09374999999866\n",
      "43.7499999999973\n"
     ]
    }
   ],
   "source": [
    "print(np.abs(R5 - f_2(50)))\n",
    "print(np.abs(R6 - f_2(80)))\n",
    "print(np.abs(R7 - f_2(100))) # y reviso cual es el error para mis ultimas funciones. \n",
    "print(np.abs(R8 - f_2(90)))\n",
    "print(np.abs(R9 - f_2(110)))"
   ]
  },
  {
   "cell_type": "markdown",
   "metadata": {},
   "source": [
    "\n",
    "\n",
    "* #### _explicacion de que deferencia hubo entre los metodos de aproximación utilizados._"
   ]
  },
  {
   "cell_type": "markdown",
   "metadata": {},
   "source": [
    "`los metodos de aproximación utilizados son muy precisos, se puede corroborar en el tamaño del error que nos arrojó, es muy muy pequeño. pero los mismos cumplieron su objetivo, al final por eso es una aproximación.`\n",
    "\n",
    "\n"
   ]
  }
 ],
 "metadata": {
  "kernelspec": {
   "display_name": "Python 3",
   "language": "python",
   "name": "python3"
  },
  "language_info": {
   "codemirror_mode": {
    "name": "ipython",
    "version": 3
   },
   "file_extension": ".py",
   "mimetype": "text/x-python",
   "name": "python",
   "nbconvert_exporter": "python",
   "pygments_lexer": "ipython3",
   "version": "3.7.6"
  }
 },
 "nbformat": 4,
 "nbformat_minor": 4
}