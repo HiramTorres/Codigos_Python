{
 "cells": [
  {
   "cell_type": "markdown",
   "metadata": {},
   "source": [
    "## Repaso rápido\n",
    "\n",
    "> Para acceder a Jupyter Lab en línea de comandos:\n",
    "> 1. Abrir Anaconda prompt\n",
    "> 2. Escribir `jupyter lab`\n",
    "\n",
    "- `print`/`input`\n",
    "- Variables\n",
    "  - Tipos\n",
    "  - Cómo cambias de tipos\n",
    "- Condicionales\n",
    "  - Sintaxis"
   ]
  },
  {
   "cell_type": "code",
   "execution_count": 1,
   "metadata": {},
   "outputs": [
    {
     "name": "stdout",
     "output_type": "stream",
     "text": [
      "Dime tu edad:  27\n"
     ]
    },
    {
     "name": "stdout",
     "output_type": "stream",
     "text": [
      "<class 'str'>\n",
      "<class 'int'>\n"
     ]
    }
   ],
   "source": [
    "edad = input(\"Dime tu edad: \")\n",
    "print(type(edad))\n",
    "\n",
    "edad = int(edad)\n",
    "print(type(edad))"
   ]
  },
  {
   "cell_type": "code",
   "execution_count": 2,
   "metadata": {},
   "outputs": [
    {
     "name": "stdout",
     "output_type": "stream",
     "text": [
      "Eres mayor de edad.\n"
     ]
    }
   ],
   "source": [
    "if edad >= 18:\n",
    "    print(\"Eres mayor de edad.\")\n",
    "else:\n",
    "    print(\"Eres menor de edad.\")"
   ]
  },
  {
   "cell_type": "code",
   "execution_count": 6,
   "metadata": {},
   "outputs": [
    {
     "name": "stdout",
     "output_type": "stream",
     "text": [
      "Es de Paco.\n"
     ]
    }
   ],
   "source": [
    "coche = \"azul\"\n",
    "\n",
    "if coche == \"rojo\":\n",
    "    print(\"Es de Rodo.\")\n",
    "elif coche == \"blanco\": # else if\n",
    "    print(\"Es de Hiram.\")\n",
    "elif coche == \"azul\":\n",
    "    print(\"Es de Paco.\")\n",
    "else:\n",
    "    print(\"No sé de quién es.\")"
   ]
  },
  {
   "cell_type": "markdown",
   "metadata": {},
   "source": [
    "## Colecciones\n",
    "\n",
    "- Listas\n",
    "- Tuplas\n",
    "- Diccionarios"
   ]
  },
  {
   "cell_type": "code",
   "execution_count": 2,
   "metadata": {},
   "outputs": [],
   "source": [
    "clase_mate = [\"José Luis\", \"Roberto\", \"Marcos\", \"Luis\", \"Mary\", \"Fer\"]\n",
    "#                  0           1          2        3       4      5"
   ]
  },
  {
   "cell_type": "code",
   "execution_count": 3,
   "metadata": {},
   "outputs": [],
   "source": [
    "clase_mate = [\n",
    "    \"José Luis\",\n",
    "    \"Roberto\",\n",
    "    \"Marcos\",\n",
    "    \"Luis\",\n",
    "    \"Mary\",\n",
    "    \"Fer\"\n",
    "]"
   ]
  },
  {
   "cell_type": "code",
   "execution_count": 4,
   "metadata": {},
   "outputs": [
    {
     "name": "stdout",
     "output_type": "stream",
     "text": [
      "['José Luis', 'Roberto', 'Marcos', 'Luis', 'Mary', 'Fer']\n"
     ]
    }
   ],
   "source": [
    "print(clase_mate)"
   ]
  },
  {
   "cell_type": "markdown",
   "metadata": {},
   "source": [
    "Las colecciones implican un conjunto de datos y de cierta manera, un orden asociado.\n",
    "\n",
    "Las listas, siempre inician con índice 0 y para acceder a los elementos, ponemos el índice entre corchetes `[ ]`."
   ]
  },
  {
   "cell_type": "code",
   "execution_count": 5,
   "metadata": {},
   "outputs": [
    {
     "name": "stdout",
     "output_type": "stream",
     "text": [
      "Marcos\n",
      "6\n"
     ]
    }
   ],
   "source": [
    "print(clase_mate[2])\n",
    "print(len(clase_mate))"
   ]
  },
  {
   "cell_type": "markdown",
   "metadata": {},
   "source": [
    "| I | No. | Nombre completo | Asignatura | Asistencias |\n",
    "| - | - | - | - | - |\n",
    "| 0 | 1 | Isaí Espinosa | Matemáticas II | 15 |\n",
    "|  1| 2 | Hiram  Torres| Física II      | 15 |     "
   ]
  },
  {
   "cell_type": "code",
   "execution_count": 6,
   "metadata": {},
   "outputs": [
    {
     "name": "stdout",
     "output_type": "stream",
     "text": [
      "[[1, 'José Luis', 'Matemáticas', 15], [2, 'Roberto', 'Matemáticas', 15], [3, 'Marcos', 'Matemáticas', 15]]\n"
     ]
    }
   ],
   "source": [
    "clase_mate = [\n",
    "    [1, \"José Luis\", \"Matemáticas\", 15],\n",
    "    [2, \"Roberto\", \"Matemáticas\", 15],\n",
    "    [3, \"Marcos\", \"Matemáticas\", 15]\n",
    "]\n",
    "\n",
    "print(clase_mate)"
   ]
  },
  {
   "cell_type": "code",
   "execution_count": 7,
   "metadata": {},
   "outputs": [
    {
     "name": "stdout",
     "output_type": "stream",
     "text": [
      "[1, 'José Luis', 'Matemáticas', 15]\n"
     ]
    }
   ],
   "source": [
    "print(clase_mate[0])"
   ]
  },
  {
   "cell_type": "code",
   "execution_count": 8,
   "metadata": {},
   "outputs": [
    {
     "name": "stdout",
     "output_type": "stream",
     "text": [
      "[[1, 0, 0], [0, 1, 0], [0, 0, 1]]\n"
     ]
    }
   ],
   "source": [
    "identidad = [\n",
    "    [1, 0, 0],\n",
    "    [0, 1, 0],\n",
    "    [0, 0, 1]\n",
    "]\n",
    "\n",
    "print(identidad)"
   ]
  },
  {
   "cell_type": "code",
   "execution_count": 9,
   "metadata": {},
   "outputs": [],
   "source": [
    "clase_mate = [\n",
    "    \"José Luis\", # 0  -6\n",
    "    \"Roberto\",   # 1  -5\n",
    "    \"Marcos\",    # 2  -4\n",
    "    \"Luis\",      # 3  -3\n",
    "    \"Mary\",      # 4  -2\n",
    "    \"Fer\"        # 5  -1\n",
    "]"
   ]
  },
  {
   "cell_type": "code",
   "execution_count": 10,
   "metadata": {},
   "outputs": [
    {
     "name": "stdout",
     "output_type": "stream",
     "text": [
      "['José Luis', 'Roberto', 'Marcos', 'Luis', 'Mary', 'Fer']\n"
     ]
    }
   ],
   "source": [
    "print(clase_mate)"
   ]
  },
  {
   "cell_type": "code",
   "execution_count": 11,
   "metadata": {},
   "outputs": [
    {
     "name": "stdout",
     "output_type": "stream",
     "text": [
      "['José Luis', 'Roberto', 'Marcos', 'Luis', 'María', 'Fer']\n"
     ]
    }
   ],
   "source": [
    "clase_mate[4] = \"María\"\n",
    "print(clase_mate)"
   ]
  },
  {
   "cell_type": "code",
   "execution_count": 12,
   "metadata": {},
   "outputs": [
    {
     "name": "stdout",
     "output_type": "stream",
     "text": [
      "['José Luis', 'Roberto', 'Marcos', 'Luis', 'María', 'Fernanda']\n"
     ]
    }
   ],
   "source": [
    "indx = len(clase_mate) - 1\n",
    "clase_mate[indx] = \"Fernanda\"\n",
    "print(clase_mate)"
   ]
  },
  {
   "cell_type": "code",
   "execution_count": 13,
   "metadata": {},
   "outputs": [
    {
     "name": "stdout",
     "output_type": "stream",
     "text": [
      "['José Luis', 'Roberto', 'Marcos', 'Luis', 'María', 'Fernando']\n"
     ]
    }
   ],
   "source": [
    "clase_mate[-1] = \"Fernando\"\n",
    "print(clase_mate)"
   ]
  },
  {
   "cell_type": "code",
   "execution_count": 15,
   "metadata": {},
   "outputs": [
    {
     "ename": "IndexError",
     "evalue": "list assignment index out of range",
     "output_type": "error",
     "traceback": [
      "\u001b[1;31m---------------------------------------------------------------------------\u001b[0m",
      "\u001b[1;31mIndexError\u001b[0m                                Traceback (most recent call last)",
      "\u001b[1;32m<ipython-input-15-b1561c8fd6a4>\u001b[0m in \u001b[0;36m<module>\u001b[1;34m\u001b[0m\n\u001b[1;32m----> 1\u001b[1;33m \u001b[0mclase_mate\u001b[0m\u001b[1;33m[\u001b[0m\u001b[1;36m6\u001b[0m\u001b[1;33m]\u001b[0m \u001b[1;33m=\u001b[0m \u001b[1;34m\"Fernanda\"\u001b[0m\u001b[1;33m\u001b[0m\u001b[1;33m\u001b[0m\u001b[0m\n\u001b[0m\u001b[0;32m      2\u001b[0m \u001b[0mprint\u001b[0m\u001b[1;33m(\u001b[0m\u001b[0mclase_mate\u001b[0m\u001b[1;33m)\u001b[0m\u001b[1;33m\u001b[0m\u001b[1;33m\u001b[0m\u001b[0m\n",
      "\u001b[1;31mIndexError\u001b[0m: list assignment index out of range"
     ]
    }
   ],
   "source": [
    "clase_mate[6] = \"Fernanda\" \n",
    "print(clase_mate)"
   ]
  },
  {
   "cell_type": "code",
   "execution_count": 16,
   "metadata": {},
   "outputs": [
    {
     "name": "stdout",
     "output_type": "stream",
     "text": [
      "['José Luis', 'Roberto', 'Marcos', 'Luis', 'María', 'Fernando']\n"
     ]
    }
   ],
   "source": [
    "print(clase_mate)"
   ]
  },
  {
   "cell_type": "markdown",
   "metadata": {},
   "source": [
    "**Slicing**"
   ]
  },
  {
   "cell_type": "code",
   "execution_count": 17,
   "metadata": {},
   "outputs": [
    {
     "name": "stdout",
     "output_type": "stream",
     "text": [
      "['Marcos', 'Luis', 'María', 'Fernando']\n"
     ]
    }
   ],
   "source": [
    "print(clase_mate[2:len(clase_mate)])"
   ]
  },
  {
   "cell_type": "code",
   "execution_count": 18,
   "metadata": {},
   "outputs": [
    {
     "name": "stdout",
     "output_type": "stream",
     "text": [
      "['Marcos', 'Luis', 'María', 'Fernando']\n"
     ]
    }
   ],
   "source": [
    "print(clase_mate[2:])"
   ]
  },
  {
   "cell_type": "code",
   "execution_count": 19,
   "metadata": {},
   "outputs": [
    {
     "name": "stdout",
     "output_type": "stream",
     "text": [
      "['José Luis', 'Roberto', 'Marcos', 'Luis']\n"
     ]
    }
   ],
   "source": [
    "print(clase_mate[:4])"
   ]
  },
  {
   "cell_type": "code",
   "execution_count": 21,
   "metadata": {},
   "outputs": [
    {
     "name": "stdout",
     "output_type": "stream",
     "text": [
      "['José Luis', 'Roberto', 'Marcos', 'Luis', 'María', 'Fernando']\n"
     ]
    }
   ],
   "source": [
    "print(clase_mate[:6])"
   ]
  },
  {
   "cell_type": "code",
   "execution_count": 22,
   "metadata": {},
   "outputs": [
    {
     "name": "stdout",
     "output_type": "stream",
     "text": [
      "['José Luis', 'Roberto', 'Marcos', 'Luis', 'María', 'Fernando']\n"
     ]
    }
   ],
   "source": [
    "print(clase_mate[:])"
   ]
  },
  {
   "cell_type": "code",
   "execution_count": 23,
   "metadata": {},
   "outputs": [
    {
     "name": "stdout",
     "output_type": "stream",
     "text": [
      "['José Luis', 'Roberto', 'Marcos', 'Luis', 'María']\n"
     ]
    }
   ],
   "source": [
    "print(clase_mate[:-1])"
   ]
  },
  {
   "cell_type": "code",
   "execution_count": 24,
   "metadata": {},
   "outputs": [
    {
     "name": "stdout",
     "output_type": "stream",
     "text": [
      "['José Luis', 'Marcos', 'María']\n"
     ]
    }
   ],
   "source": [
    "print(clase_mate[0:len(clase_mate):2])"
   ]
  },
  {
   "cell_type": "code",
   "execution_count": 25,
   "metadata": {},
   "outputs": [
    {
     "name": "stdout",
     "output_type": "stream",
     "text": [
      "['José Luis', 'Marcos', 'María']\n"
     ]
    }
   ],
   "source": [
    "print(clase_mate[::2])"
   ]
  },
  {
   "cell_type": "code",
   "execution_count": 26,
   "metadata": {},
   "outputs": [
    {
     "name": "stdout",
     "output_type": "stream",
     "text": [
      "['Roberto', 'Luis', 'Fernando']\n"
     ]
    }
   ],
   "source": [
    "print(clase_mate[1::2])"
   ]
  },
  {
   "cell_type": "code",
   "execution_count": 27,
   "metadata": {},
   "outputs": [
    {
     "name": "stdout",
     "output_type": "stream",
     "text": [
      "['Fernando', 'María', 'Luis', 'Marcos', 'Roberto', 'José Luis']\n"
     ]
    }
   ],
   "source": [
    "print(clase_mate[::-1])"
   ]
  },
  {
   "cell_type": "markdown",
   "metadata": {},
   "source": [
    "Ejemplo de búsqueda sencilla en una lista:"
   ]
  },
  {
   "cell_type": "code",
   "execution_count": 17,
   "metadata": {},
   "outputs": [
    {
     "name": "stdout",
     "output_type": "stream",
     "text": [
      "2 Marcos\n",
      "4 María\n"
     ]
    }
   ],
   "source": [
    "for index, alumno in enumerate(clase_mate):\n",
    "    if alumno == \"María\" or alumno == \"Marcos\":\n",
    "        print(index, alumno)\n",
    "        "
   ]
  },
  {
   "cell_type": "markdown",
   "metadata": {},
   "source": [
    "Etapas de desarrollo de software:\n",
    "\n",
    "- Development\n",
    "- Staging\n",
    "- Production\n",
    "\n",
    "**Listas de listas (matrices)**"
   ]
  },
  {
   "cell_type": "code",
   "execution_count": 31,
   "metadata": {},
   "outputs": [
    {
     "name": "stdout",
     "output_type": "stream",
     "text": [
      "2\n"
     ]
    }
   ],
   "source": [
    "print(matriz[0][1])"
   ]
  },
  {
   "cell_type": "code",
   "execution_count": 32,
   "metadata": {},
   "outputs": [
    {
     "name": "stdout",
     "output_type": "stream",
     "text": [
      "[1, 2, 3]\n"
     ]
    }
   ],
   "source": [
    "matriz = [\n",
    "    [1, 2, 3],\n",
    "    [4, 5, 6],\n",
    "    [7, 8, 9]\n",
    "]\n",
    "\n",
    "print(matriz[0])"
   ]
  },
  {
   "cell_type": "code",
   "execution_count": 33,
   "metadata": {},
   "outputs": [
    {
     "name": "stdout",
     "output_type": "stream",
     "text": [
      "3\n",
      "6\n",
      "9\n"
     ]
    }
   ],
   "source": [
    "for fila in matriz:\n",
    "    print(fila[2])"
   ]
  },
  {
   "cell_type": "markdown",
   "metadata": {},
   "source": [
    "**Tuplas**\n",
    "\n",
    "Tupla == Lista, pero las tuplas son inmutables."
   ]
  },
  {
   "cell_type": "code",
   "execution_count": 34,
   "metadata": {},
   "outputs": [],
   "source": [
    "var_1 = [1, 2, 3]\n",
    "var_2 = (1, 2, 3)"
   ]
  },
  {
   "cell_type": "code",
   "execution_count": 35,
   "metadata": {},
   "outputs": [
    {
     "name": "stdout",
     "output_type": "stream",
     "text": [
      "<class 'list'>\n",
      "<class 'tuple'>\n"
     ]
    }
   ],
   "source": [
    "print(type(var_1))\n",
    "print(type(var_2))"
   ]
  },
  {
   "cell_type": "code",
   "execution_count": 36,
   "metadata": {},
   "outputs": [
    {
     "name": "stdout",
     "output_type": "stream",
     "text": [
      "2\n",
      "2\n"
     ]
    }
   ],
   "source": [
    "print(var_1[1])\n",
    "print(var_2[1])"
   ]
  },
  {
   "cell_type": "code",
   "execution_count": 37,
   "metadata": {},
   "outputs": [
    {
     "name": "stdout",
     "output_type": "stream",
     "text": [
      "[1, 22, 3]\n"
     ]
    }
   ],
   "source": [
    "var_1[1] = 22\n",
    "print(var_1)"
   ]
  },
  {
   "cell_type": "code",
   "execution_count": 18,
   "metadata": {},
   "outputs": [
    {
     "ename": "NameError",
     "evalue": "name 'var_2' is not defined",
     "output_type": "error",
     "traceback": [
      "\u001b[1;31m---------------------------------------------------------------------------\u001b[0m",
      "\u001b[1;31mNameError\u001b[0m                                 Traceback (most recent call last)",
      "\u001b[1;32m<ipython-input-18-a246ff65236d>\u001b[0m in \u001b[0;36m<module>\u001b[1;34m\u001b[0m\n\u001b[1;32m----> 1\u001b[1;33m \u001b[0mvar_2\u001b[0m\u001b[1;33m[\u001b[0m\u001b[1;36m1\u001b[0m\u001b[1;33m]\u001b[0m \u001b[1;33m=\u001b[0m \u001b[1;36m22\u001b[0m\u001b[1;33m\u001b[0m\u001b[1;33m\u001b[0m\u001b[0m\n\u001b[0m\u001b[0;32m      2\u001b[0m \u001b[0mprint\u001b[0m\u001b[1;33m(\u001b[0m\u001b[0mvar_2\u001b[0m\u001b[1;33m)\u001b[0m   \u001b[1;31m#las tuplas no pueden modificar sus valores ya asignados\u001b[0m\u001b[1;33m\u001b[0m\u001b[1;33m\u001b[0m\u001b[0m\n",
      "\u001b[1;31mNameError\u001b[0m: name 'var_2' is not defined"
     ]
    }
   ],
   "source": [
    "var_2[1] = 22\n",
    "print(var_2)   #las tuplas no pueden modificar sus valores ya asignados "
   ]
  },
  {
   "cell_type": "markdown",
   "metadata": {},
   "source": [
    "**Diccionarios**\n",
    "\n",
    "Está compuesto por valores y llaves."
   ]
  },
  {
   "cell_type": "code",
   "execution_count": 39,
   "metadata": {},
   "outputs": [],
   "source": [
    "alumno = {\n",
    "    \"nombre\": \"Rodolfo Ferro\",\n",
    "    \"edad\": 27,\n",
    "    \"email\": \"ferro@cimat.mx\",\n",
    "    \"asignaturas\": [\"Monitos y palitos I\", \"Plastina II\", \"Artes I\"]\n",
    "}"
   ]
  },
  {
   "cell_type": "code",
   "execution_count": 40,
   "metadata": {},
   "outputs": [
    {
     "name": "stdout",
     "output_type": "stream",
     "text": [
      "{'nombre': 'Rodolfo Ferro', 'edad': 27, 'email': 'ferro@cimat.mx', 'asignaturas': ['Monitos y palitos I', 'Plastina II', 'Artes I']}\n"
     ]
    }
   ],
   "source": [
    "print(alumno)"
   ]
  },
  {
   "cell_type": "code",
   "execution_count": 41,
   "metadata": {},
   "outputs": [
    {
     "name": "stdout",
     "output_type": "stream",
     "text": [
      "Rodolfo Ferro\n",
      "<class 'str'>\n"
     ]
    }
   ],
   "source": [
    "print(alumno[\"nombre\"])\n",
    "print(type(alumno[\"nombre\"]))"
   ]
  },
  {
   "cell_type": "code",
   "execution_count": 42,
   "metadata": {},
   "outputs": [
    {
     "name": "stdout",
     "output_type": "stream",
     "text": [
      "27\n",
      "<class 'int'>\n"
     ]
    }
   ],
   "source": [
    "print(alumno[\"edad\"])\n",
    "print(type(alumno[\"edad\"]))"
   ]
  },
  {
   "cell_type": "code",
   "execution_count": 43,
   "metadata": {},
   "outputs": [
    {
     "name": "stdout",
     "output_type": "stream",
     "text": [
      "['Monitos y palitos I', 'Plastina II', 'Artes I']\n",
      "<class 'list'>\n"
     ]
    }
   ],
   "source": [
    "print(alumno[\"asignaturas\"])\n",
    "print(type(alumno[\"asignaturas\"]))"
   ]
  },
  {
   "cell_type": "code",
   "execution_count": 44,
   "metadata": {},
   "outputs": [
    {
     "name": "stdout",
     "output_type": "stream",
     "text": [
      "Plastina II\n"
     ]
    }
   ],
   "source": [
    "print(alumno[\"asignaturas\"][1])"
   ]
  },
  {
   "cell_type": "code",
   "execution_count": 45,
   "metadata": {},
   "outputs": [],
   "source": [
    "productos = [\n",
    "    {\n",
    "        \"name\": \"\",\n",
    "        \"bar_code\": \"0909809809132\",\n",
    "        \"cost\": 0.00,\n",
    "        \"tags\": [],\n",
    "        \"category\": \"algo\"\n",
    "    }\n",
    "]"
   ]
  },
  {
   "cell_type": "code",
   "execution_count": null,
   "metadata": {},
   "outputs": [],
   "source": []
  }
 ],
 "metadata": {
  "kernelspec": {
   "display_name": "Python 3.11.0 64-bit",
   "language": "python",
   "name": "python3"
  },
  "language_info": {
   "codemirror_mode": {
    "name": "ipython",
    "version": 3
   },
   "file_extension": ".py",
   "mimetype": "text/x-python",
   "name": "python",
   "nbconvert_exporter": "python",
   "pygments_lexer": "ipython3",
   "version": "3.11.0"
  },
  "vscode": {
   "interpreter": {
    "hash": "11b101de8802807ccc64a803063ae72c254aae076e4b81c5203b2f2fad9491c4"
   }
  }
 },
 "nbformat": 4,
 "nbformat_minor": 4
}
