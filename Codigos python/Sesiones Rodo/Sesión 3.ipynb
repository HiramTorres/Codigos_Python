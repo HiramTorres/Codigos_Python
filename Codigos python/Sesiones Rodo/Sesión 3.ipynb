{
 "cells": [
  {
   "cell_type": "markdown",
   "metadata": {},
   "source": [
    "## Repaso rápido\n",
    "\n",
    "> Para acceder a Jupyter Lab en línea de comandos:\n",
    "> 1. Abrir cmd\n",
    "> 2. Escribir `jupyter lab`\n",
    "\n",
    "- Colecciones\n",
    "  - Listas (y listas de listas)\n",
    "  - Tuplas\n",
    "  - Diccionarios\n",
    "  \n",
    "> **Revisar el caso de range pero pasando una función en el salto.**"
   ]
  },
  {
   "cell_type": "code",
   "execution_count": 1,
   "metadata": {},
   "outputs": [
    {
     "name": "stdout",
     "output_type": "stream",
     "text": [
      "<class 'list'>\n",
      "[3.1416, 18, True, 'perrito']\n"
     ]
    }
   ],
   "source": [
    "mi_lista = [3.1416, 27, True, \"perrito\"]\n",
    "pi = mi_lista[0]\n",
    "mi_lista[1] = 18\n",
    "print(type(mi_lista))\n",
    "print(mi_lista)"
   ]
  },
  {
   "cell_type": "code",
   "execution_count": 2,
   "metadata": {},
   "outputs": [
    {
     "name": "stdout",
     "output_type": "stream",
     "text": [
      "Volkswagen\n"
     ]
    }
   ],
   "source": [
    "coche = {\"marca\": \"Volkswagen\", \"modelo\": \"Jetta 2020\"}\n",
    "print(coche[\"marca\"])"
   ]
  },
  {
   "cell_type": "code",
   "execution_count": 3,
   "metadata": {},
   "outputs": [
    {
     "name": "stdout",
     "output_type": "stream",
     "text": [
      "{'marca': 'Volkswagen', 'modelo': 'Jetta 2020', 'dueño': 'Rodo'}\n"
     ]
    }
   ],
   "source": [
    "coche[\"dueño\"] = \"Rodo\"\n",
    "print(coche)"
   ]
  },
  {
   "cell_type": "markdown",
   "metadata": {},
   "source": [
    "## Para hoy...\n",
    "\n",
    "- `range`\n",
    "- Ciclo for\n",
    "- Ciclo while"
   ]
  },
  {
   "cell_type": "code",
   "execution_count": 7,
   "metadata": {},
   "outputs": [
    {
     "name": "stdout",
     "output_type": "stream",
     "text": [
      "[0, 2, 4, 6, 8, 10, 12, 14, 16, 18, 20, 22, 24, 26, 28, 30, 32, 34, 36, 38, 40, 42, 44, 46, 48, 50, 52, 54, 56, 58, 60, 62, 64, 66, 68, 70, 72, 74, 76, 78, 80, 82, 84, 86, 88, 90, 92, 94, 96, 98]\n"
     ]
    }
   ],
   "source": [
    "rango = list(range(0, 100, 2))  # inicio, fin, salto\n",
    "print(rango)"
   ]
  },
  {
   "cell_type": "code",
   "execution_count": 5,
   "metadata": {},
   "outputs": [
    {
     "name": "stdout",
     "output_type": "stream",
     "text": [
      "Pon tu edad:  27\n"
     ]
    },
    {
     "name": "stdout",
     "output_type": "stream",
     "text": [
      "27\n",
      "<class 'str'>\n"
     ]
    }
   ],
   "source": [
    "edad = input(\"Pon tu edad: \")\n",
    "print(edad)\n",
    "print(type(edad))"
   ]
  },
  {
   "cell_type": "code",
   "execution_count": 6,
   "metadata": {},
   "outputs": [
    {
     "name": "stdout",
     "output_type": "stream",
     "text": [
      "27\n",
      "<class 'int'>\n"
     ]
    }
   ],
   "source": [
    "edad = int(edad)\n",
    "print(edad)\n",
    "print(type(edad))"
   ]
  },
  {
   "cell_type": "code",
   "execution_count": 8,
   "metadata": {},
   "outputs": [
    {
     "name": "stdout",
     "output_type": "stream",
     "text": [
      "[5, 6, 7, 8, 9, 10, 11, 12, 13, 14, 15, 16, 17, 18, 19, 20, 21, 22, 23, 24, 25, 26, 27, 28, 29, 30, 31, 32, 33, 34, 35, 36, 37, 38, 39, 40, 41, 42, 43, 44, 45, 46, 47, 48, 49, 50, 51, 52, 53, 54, 55, 56, 57, 58, 59, 60, 61, 62, 63, 64, 65, 66, 67, 68, 69, 70, 71, 72, 73, 74, 75, 76, 77, 78, 79, 80, 81, 82, 83, 84, 85, 86, 87, 88, 89, 90, 91, 92, 93, 94, 95, 96, 97, 98, 99]\n"
     ]
    }
   ],
   "source": [
    "print(list(range(5, 100)))"
   ]
  },
  {
   "cell_type": "code",
   "execution_count": 9,
   "metadata": {},
   "outputs": [
    {
     "name": "stdout",
     "output_type": "stream",
     "text": [
      "[0, 1, 2, 3, 4, 5, 6, 7, 8, 9, 10, 11, 12, 13, 14, 15, 16, 17, 18, 19, 20, 21, 22, 23, 24, 25, 26, 27, 28, 29, 30, 31, 32, 33, 34, 35, 36, 37, 38, 39, 40, 41, 42, 43, 44, 45, 46, 47, 48, 49, 50, 51, 52, 53, 54, 55, 56, 57, 58, 59, 60, 61, 62, 63, 64, 65, 66, 67, 68, 69, 70, 71, 72, 73, 74, 75, 76, 77, 78, 79, 80, 81, 82, 83, 84, 85, 86, 87, 88, 89, 90, 91, 92, 93, 94, 95, 96, 97, 98, 99]\n"
     ]
    }
   ],
   "source": [
    "print(list(range(100)))"
   ]
  },
  {
   "cell_type": "markdown",
   "metadata": {},
   "source": [
    "_Contexto: Ciclos for en C_\n",
    "\n",
    "```c\n",
    "for (int i=0; i < 100; i++) {\n",
    "    // Algo\n",
    "}\n",
    "```\n",
    "\n",
    "_En Python:_\n",
    "```python\n",
    "for i in range(100):\n",
    "    # Algo\n",
    "```"
   ]
  },
  {
   "cell_type": "markdown",
   "metadata": {},
   "source": [
    "Iteración sobre elementos de las colecciones:"
   ]
  },
  {
   "cell_type": "code",
   "execution_count": 2,
   "metadata": {},
   "outputs": [
    {
     "name": "stdout",
     "output_type": "stream",
     "text": [
      "Pedro\n",
      "Hiram\n",
      "Rodo\n"
     ]
    }
   ],
   "source": [
    "a = [\"Pedro\", \"Hiram\", \"Rodo\"]\n",
    "\n",
    "for alumno in a:\n",
    "    print(alumno)"
   ]
  },
  {
   "cell_type": "code",
   "execution_count": 3,
   "metadata": {},
   "outputs": [
    {
     "name": "stdout",
     "output_type": "stream",
     "text": [
      "Rodo\n"
     ]
    }
   ],
   "source": [
    "print(alumno)"
   ]
  },
  {
   "cell_type": "markdown",
   "metadata": {},
   "source": [
    "Iteración sobre índices:"
   ]
  },
  {
   "cell_type": "code",
   "execution_count": 4,
   "metadata": {},
   "outputs": [
    {
     "name": "stdout",
     "output_type": "stream",
     "text": [
      "Pedro\n",
      "Hiram\n",
      "Rodo\n"
     ]
    }
   ],
   "source": [
    "for i in range(len(a)):\n",
    "    print(a[i])"
   ]
  },
  {
   "cell_type": "markdown",
   "metadata": {},
   "source": [
    "Ejemplo con enumerate:"
   ]
  },
  {
   "cell_type": "code",
   "execution_count": 5,
   "metadata": {},
   "outputs": [
    {
     "name": "stdout",
     "output_type": "stream",
     "text": [
      "Pedro 0\n",
      "Hiram 1\n",
      "Rodo 2\n"
     ]
    }
   ],
   "source": [
    "for indice, valor in enumerate(a):\n",
    "    print(indice, valor)"
   ]
  },
  {
   "cell_type": "markdown",
   "metadata": {},
   "source": [
    "Ejemplo de ciclo for con diccionarios."
   ]
  },
  {
   "cell_type": "code",
   "execution_count": 18,
   "metadata": {},
   "outputs": [
    {
     "name": "stdout",
     "output_type": "stream",
     "text": [
      "{'marca': 'Volkswagen', 'modelo': 'Jetta 2020', 'dueño': 'Rodo'}\n"
     ]
    }
   ],
   "source": [
    "print(coche)"
   ]
  },
  {
   "cell_type": "code",
   "execution_count": 19,
   "metadata": {},
   "outputs": [
    {
     "name": "stdout",
     "output_type": "stream",
     "text": [
      "marca\n",
      "modelo\n",
      "dueño\n"
     ]
    }
   ],
   "source": [
    "for item in coche:\n",
    "    print(item)"
   ]
  },
  {
   "cell_type": "code",
   "execution_count": 25,
   "metadata": {},
   "outputs": [
    {
     "name": "stdout",
     "output_type": "stream",
     "text": [
      "['marca', 'modelo', 'dueño']\n",
      "{'marca': 'Volkswagen', 'modelo': 'Jetta 2020', 'dueño': 'Rodo'}\n"
     ]
    }
   ],
   "source": [
    "print(list(coche))\n",
    "print(coche)"
   ]
  },
  {
   "cell_type": "code",
   "execution_count": 21,
   "metadata": {},
   "outputs": [
    {
     "name": "stdout",
     "output_type": "stream",
     "text": [
      "dict_keys(['marca', 'modelo', 'dueño'])\n"
     ]
    }
   ],
   "source": [
    "print(coche.keys())"
   ]
  },
  {
   "cell_type": "code",
   "execution_count": 22,
   "metadata": {},
   "outputs": [
    {
     "name": "stdout",
     "output_type": "stream",
     "text": [
      "Volkswagen\n",
      "Jetta 2020\n",
      "Rodo\n"
     ]
    }
   ],
   "source": [
    "for key in coche.keys():\n",
    "    print(coche[key])"
   ]
  },
  {
   "cell_type": "code",
   "execution_count": 23,
   "metadata": {},
   "outputs": [
    {
     "name": "stdout",
     "output_type": "stream",
     "text": [
      "dict_values(['Volkswagen', 'Jetta 2020', 'Rodo'])\n"
     ]
    }
   ],
   "source": [
    "print(coche.values())"
   ]
  },
  {
   "cell_type": "code",
   "execution_count": 27,
   "metadata": {},
   "outputs": [
    {
     "name": "stdout",
     "output_type": "stream",
     "text": [
      "marca : Volkswagen\n",
      "modelo : Jetta 2020\n",
      "dueño : Rodo\n"
     ]
    }
   ],
   "source": [
    "for llave, valor in coche.items():\n",
    "    print(llave, \":\", valor)"
   ]
  },
  {
   "cell_type": "code",
   "execution_count": 28,
   "metadata": {},
   "outputs": [
    {
     "name": "stdout",
     "output_type": "stream",
     "text": [
      "dict_items([('marca', 'Volkswagen'), ('modelo', 'Jetta 2020'), ('dueño', 'Rodo')])\n"
     ]
    }
   ],
   "source": [
    "print(coche.items())"
   ]
  },
  {
   "cell_type": "code",
   "execution_count": 33,
   "metadata": {},
   "outputs": [
    {
     "name": "stdout",
     "output_type": "stream",
     "text": [
      "Rodo - 5\n",
      "Hiram - 10\n",
      "Pedro - 8\n"
     ]
    }
   ],
   "source": [
    "califs = [\n",
    "    [\"Rodo\", 5, \"A\"],\n",
    "    [\"Hiram\", 10, \"B\"],\n",
    "    [\"Pedro\", 8, \"B\"]\n",
    "]\n",
    "\n",
    "for alumno, calif, grupo in califs:\n",
    "    print(alumno, \"-\", calif)"
   ]
  },
  {
   "cell_type": "markdown",
   "metadata": {},
   "source": [
    "_Contexto: Ciclos while en C_\n",
    "\n",
    "```c\n",
    "while (condicion) {\n",
    "    // Algo\n",
    "}\n",
    "```\n",
    "\n",
    "_En Python:_\n",
    "```python\n",
    "while condicion:\n",
    "    # Algo\n",
    "```"
   ]
  },
  {
   "cell_type": "code",
   "execution_count": 34,
   "metadata": {},
   "outputs": [
    {
     "name": "stdout",
     "output_type": "stream",
     "text": [
      "['Pedro', 'Hiram', 'Rodo']\n"
     ]
    }
   ],
   "source": [
    "print(a)"
   ]
  },
  {
   "cell_type": "code",
   "execution_count": 35,
   "metadata": {},
   "outputs": [
    {
     "name": "stdout",
     "output_type": "stream",
     "text": [
      "Pedro\n",
      "Hiram\n",
      "Rodo\n"
     ]
    }
   ],
   "source": [
    "indice = 0\n",
    "\n",
    "while indice < len(a):\n",
    "    print(a[indice])\n",
    "    indice = indice + 1 # indice += 1 "
   ]
  },
  {
   "cell_type": "code",
   "execution_count": 36,
   "metadata": {},
   "outputs": [
    {
     "name": "stdout",
     "output_type": "stream",
     "text": [
      "3 3\n",
      "False\n"
     ]
    }
   ],
   "source": [
    "print(indice, len(a))\n",
    "print(indice < len(a))"
   ]
  },
  {
   "cell_type": "code",
   "execution_count": 37,
   "metadata": {},
   "outputs": [
    {
     "name": "stdout",
     "output_type": "stream",
     "text": [
      "Pedro\n",
      "Hiram\n",
      "Rodo\n"
     ]
    }
   ],
   "source": [
    "indice = 0\n",
    "\n",
    "while True:\n",
    "    print(a[indice])\n",
    "    indice = indice + 1\n",
    "    \n",
    "    if indice >= len(a):\n",
    "        break\n",
    "    "
   ]
  },
  {
   "cell_type": "markdown",
   "metadata": {},
   "source": [
    "## Sección de dudas"
   ]
  },
  {
   "cell_type": "markdown",
   "metadata": {},
   "source": [
    "$x_{n+1} = x_{n} - \\dfrac{f(x_n)}{f'(x_n)}$"
   ]
  },
  {
   "cell_type": "code",
   "execution_count": 3,
   "metadata": {},
   "outputs": [
    {
     "ename": "SyntaxError",
     "evalue": "invalid syntax (<ipython-input-3-5875fd30c65e>, line 20)",
     "output_type": "error",
     "traceback": [
      "\u001b[1;36m  File \u001b[1;32m\"<ipython-input-3-5875fd30c65e>\"\u001b[1;36m, line \u001b[1;32m20\u001b[0m\n\u001b[1;33m    Tolerancia:\u001b[0m\n\u001b[1;37m               ^\u001b[0m\n\u001b[1;31mSyntaxError\u001b[0m\u001b[1;31m:\u001b[0m invalid syntax\n"
     ]
    }
   ],
   "source": [
    "import math\n",
    "\n",
    "# Inicializamos variables\n",
    "x_0 = math.pi / 4\n",
    "n_max_iter = 100\n",
    "tol = 1e-2  # 0.01\n",
    "\n",
    "def f(x):\n",
    "    return math.cos(x)\n",
    "\n",
    "def f_prime(x):\n",
    "    return -math.sin(x)\n",
    "\n",
    "\n",
    "x = x_0\n",
    "for i in range(n_max_iter):\n",
    "    x_next = x - (f(x) / f_prime(x))\n",
    "    print(\"Iteración:\", i, \"Valor de x:\", x_next)\n",
    "    \n",
    "    # Tolerancia:\n",
    "   # if f(x_next) < tol:\n",
    "      #  break\n",
    "    \n",
    "    x = x_next"
   ]
  },
  {
   "cell_type": "code",
   "execution_count": 47,
   "metadata": {},
   "outputs": [
    {
     "data": {
      "image/png": "[encoded data removed]",
      "text/plain": [
       "<Figure size 432x288 with 1 Axes>"
      ]
     },
     "metadata": {
      "needs_background": "light"
     },
     "output_type": "display_data"
    }
   ],
   "source": [
    "import matplotlib.pyplot as plt\n",
    "import numpy as np\n",
    "%matplotlib inline\n",
    "\n",
    "x = np.linspace(-10, 10, 1000)\n",
    "y = np.cos(x)\n",
    "plt.plot(x, y)\n",
    "plt.show()"
   ]
  },
  {
   "cell_type": "code",
   "execution_count": null,
   "metadata": {},
   "outputs": [],
   "source": []
  }
 ],
 "metadata": {
  "kernelspec": {
   "display_name": "Python 3.9.13 ('base')",
   "language": "python",
   "name": "python3"
  },
  "language_info": {
   "codemirror_mode": {
    "name": "ipython",
    "version": 3
   },
   "file_extension": ".py",
   "mimetype": "text/x-python",
   "name": "python",
   "nbconvert_exporter": "python",
   "pygments_lexer": "ipython3",
   "version": "3.9.13"
  },
  "vscode": {
   "interpreter": {
    "hash": "3924ed30227e34da5a4c68c183321c9d32f94e2bda1bf4a622c4e1f08e1e696d"
   }
  }
 },
 "nbformat": 4,
 "nbformat_minor": 4
}
