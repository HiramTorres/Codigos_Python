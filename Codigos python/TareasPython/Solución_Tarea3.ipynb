{
 "cells": [
  {
   "cell_type": "markdown",
   "metadata": {},
   "source": [
    "## Tarea 3: Método de bisección"
   ]
  },
  {
   "cell_type": "code",
   "execution_count": 1,
   "metadata": {},
   "outputs": [],
   "source": [
    "# Importamos las librerias que se van a usar\n",
    "import numpy as np\n",
    "import matplotlib.pyplot as plt\n",
    "import math "
   ]
  },
  {
   "cell_type": "markdown",
   "metadata": {},
   "source": [
    "### Ejercicio 1: Aplique el método de bisección para encontrar las soluciones exactas dentro de $10^{-2}$ para $x^3-7x^2+14x-6 = 0$ en cada intervalo. Grafique la función indicando dónde se encuentra cada raíz."
   ]
  },
  {
   "cell_type": "markdown",
   "metadata": {},
   "source": [
    "##### Para satisfacer la condición de exactitud dentro de $10^{-2}$, se debe cumplir la condición\n",
    "\\begin{equation}\n",
    "\\frac{b-a}{2^n}< 10^2,\n",
    "\\end{equation}\n",
    "##### donde $a$ y $b$ son los límites del intervalo y $n$ el número de iteraciones que grantiza la exactitud deseada. Para este ejercicio se tiene tres intervalos: [0,1], [1,3.2] y [3.2,4]. Calculamos el valor de $n$ para cada intervalo\n",
    "###### a)  [0,1]\n",
    "\\begin{equation}\n",
    "\\frac{1-0}{2^n}< 10^{-2} \\rightarrow \\log_{10}{2^{-n}}< \\log_{10}{10^{-2}}  \\rightarrow -n\\log_{10}{2}< -2 \\rightarrow  n > \\frac{2}{\\log_{10}2} \\approx 6.64\n",
    "\\end{equation}\n",
    "##### por tanto el número de iteraciones debe ser 7\n",
    "###### b)  [1,3.2]\n",
    "\\begin{equation}\n",
    "\\frac{3.2-1}{2^n}< 10^{-2} \\rightarrow \\log_{10}{(2.2(2^{-n}))}< \\log_{10}{10^{-2}}  \\rightarrow -n\\log_{10}{2} + \\log_{10}{2.2} < -2 \\rightarrow  n > \\frac{2 + \\log_{10} (2.2)}{\\log_{10}2} \\approx 7.78\n",
    "\\end{equation}\n",
    "##### por tanto el número de iteraciones debe ser 8\n",
    "###### b)  [3.2,4]\n",
    "\\begin{equation}\n",
    "\\frac{4-3.2}{2^n}< 10^{-2} \\rightarrow \\log_{10}{(0.8(2^{-n}))}< \\log_{10}{10^{-2}}  \\rightarrow -n\\log_{10}{2} + \\log_{10}{0.8} < -2 \\rightarrow  n > \\frac{2 + \\log_{10} (0.8)}{\\log_{10}2} \\approx 6.32\n",
    "\\end{equation}\n",
    "##### por tanto el número de iteraciones debe ser 7\n",
    "#### Se definió la siguiente función que calcula la raíz de la ecuación en cuestion y cuyos valores de entrada son los límites del intervalo y el número máximo de iteraciones\n"
   ]
  },
  {
   "cell_type": "code",
   "execution_count": 93,
   "metadata": {},
   "outputs": [],
   "source": [
    "def biseccion(a,b,Nmax):\n",
    "    TOL = 0.01  #TOL es el patámetro de tolerancia para la convergencia del algoritmo\n",
    "    FA = a**3-7*a**2+14*a-6    #F(a)\n",
    "    FP = 100                #F(p)\n",
    "    exito = False\n",
    "    i = 1\n",
    "    p = 5\n",
    "\n",
    "#Realizamos el proceso iterativo\n",
    "    while i <= Nmax:\n",
    "        p = a + (b-a)/2.00  # Calculamos el punto medio\n",
    "        FP = p**3-7*p**2+14*p-6 \n",
    "        ERR = abs(FP-FA)   #Calculamos el error relativo que queremos sea menor a 10^-2 (TOL)\n",
    "        print(i,a,b,p,FP,ERR)\n",
    "        if((ERR<=TOL)or(abs(FP)<TOL)):   #¿Es solución?   #abs(FP)< TOL \n",
    "            print(\"La raíz es:\")\n",
    "            print(p)\n",
    "            exito = True\n",
    "            break   # Salir del ciclo\n",
    "        elif(FA*FP > 0):\n",
    "            a = p\n",
    "            FA = FP\n",
    "        else:\n",
    "            b = p\n",
    "        i = i+1\n",
    "    \n",
    "    if exito == False:\n",
    "        print(\"Proceso no exitoso\")"
   ]
  },
  {
   "cell_type": "markdown",
   "metadata": {},
   "source": [
    "#### Llamamos la función para cada intervalo con el número máximo de iteraciones encontradas"
   ]
  },
  {
   "cell_type": "code",
   "execution_count": 94,
   "metadata": {},
   "outputs": [
    {
     "name": "stdout",
     "output_type": "stream",
     "text": [
      "1 0 1.0 0.5 -0.625 5.375\n",
      "2 0.5 1.0 0.75 0.984375 1.609375\n",
      "3 0.5 0.75 0.625 0.259765625 0.884765625\n",
      "4 0.5 0.625 0.5625 -0.161865234375 0.463134765625\n",
      "5 0.5625 0.625 0.59375 0.054046630859375 0.215911865234375\n",
      "6 0.5625 0.59375 0.578125 -0.052623748779296875 0.10924148559570312\n",
      "7 0.578125 0.59375 0.5859375 0.0010313987731933594 0.053655147552490234\n",
      "La raíz es:\n",
      "0.5859375\n"
     ]
    }
   ],
   "source": [
    "#Para el intervalo [0,1]\n",
    "biseccion(0,1.0,7)"
   ]
  },
  {
   "cell_type": "code",
   "execution_count": 95,
   "metadata": {},
   "outputs": [
    {
     "name": "stdout",
     "output_type": "stream",
     "text": [
      "1 1 3.2 2.1 1.7910000000000004 0.20899999999999963\n",
      "2 2.1 3.2 2.6500000000000004 0.5521250000000038 1.2388749999999966\n",
      "3 2.6500000000000004 3.2 2.9250000000000003 0.08582812500000614 0.4662968749999976\n",
      "4 2.9250000000000003 3.2 3.0625 -0.054443359375 0.14027148437500614\n",
      "5 2.9250000000000003 3.0625 2.9937500000000004 0.006327880859373636 0.0795002441406325\n",
      "La raíz es:\n",
      "2.9937500000000004\n"
     ]
    }
   ],
   "source": [
    "#Para el intervalo [1,3.2]\n",
    "biseccion(1,3.2,8)"
   ]
  },
  {
   "cell_type": "code",
   "execution_count": 96,
   "metadata": {},
   "outputs": [
    {
     "name": "stdout",
     "output_type": "stream",
     "text": [
      "1 3.2 4 3.6 0.3360000000000056 0.4480000000000004\n",
      "2 3.2 3.6 3.4000000000000004 -0.015999999999998238 0.09599999999999653\n",
      "3 3.4000000000000004 3.6 3.5 0.125 0.14099999999999824\n",
      "4 3.4000000000000004 3.5 3.45 0.046125000000003524 0.06212500000000176\n",
      "5 3.4000000000000004 3.45 3.4250000000000003 0.013015625000001307 0.029015624999999545\n",
      "6 3.4000000000000004 3.4250000000000003 3.4125000000000005 -0.0019980468750020464 0.014001953124996191\n",
      "La raíz es:\n",
      "3.4125000000000005\n"
     ]
    }
   ],
   "source": [
    "#Para el intervalo [3.2,4,7]\n",
    "biseccion(3.2,4,7)"
   ]
  },
  {
   "cell_type": "markdown",
   "metadata": {},
   "source": [
    "##### Las raíces aproximadas obtenidas son $x^*_1 = 0.59$, $x^*_2 = 2.99$ y $x^*_3 = 3.41$, para cada intervalo. Comparando con las soluciones exactas  $x_1 = 0.585786$, $x_2 = 2.999999$ y $x_3 = 3.414214$, se puede observar que todoas las soluciones encontradas tienen un error relativo menor a $10^{-2}$"
   ]
  },
  {
   "cell_type": "markdown",
   "metadata": {},
   "source": [
    "#### Finalmente realizamos la gráfica de la función (azul) junto con una recta y=0 (roja) para indicar las raíces de la ecuación (donde se cruzan las dos curvas)"
   ]
  },
  {
   "cell_type": "code",
   "execution_count": 110,
   "metadata": {},
   "outputs": [
    {
     "data": {
      "text/plain": [
       "Text(0, 0.5, 'y')"
      ]
     },
     "execution_count": 110,
     "metadata": {},
     "output_type": "execute_result"
    },
    {
     "data": {
      "image/png": "[encoded data removed]",
      "text/plain": [
       "<Figure size 432x288 with 1 Axes>"
      ]
     },
     "metadata": {
      "needs_background": "light"
     },
     "output_type": "display_data"
    }
   ],
   "source": [
    "x = np.arange(0,4,0.1)\n",
    "y = x**3-7*x**2+14*x-6 \n",
    "zeros = np.zeros(len(x))\n",
    "plt.plot(x,y,x,zeros, '--r')\n",
    "plt.xlabel('x')\n",
    "plt.ylabel('y')\n"
   ]
  },
  {
   "cell_type": "markdown",
   "metadata": {},
   "source": [
    "### Ejercicio 2: Sea $f(x) = (x+2)(x+1)x(x-1)^3(x-2)$ ¿A cuál cero de $f$ converge el método de bisección en los siguientes intervalos? a)  $[-3,2.5]$ b) $[-2.5,3]$ y c) $[-1.75,1.5]$"
   ]
  },
  {
   "cell_type": "markdown",
   "metadata": {},
   "source": [
    "#### Se definió la siguiente función que calcula la raíz de la ecuación en cuestion y cuyos valores de entrada son los límites del intervalo"
   ]
  },
  {
   "cell_type": "code",
   "execution_count": 121,
   "metadata": {},
   "outputs": [],
   "source": [
    "def biseccion2(a,b):\n",
    "    TOL = 0.01  #TOL es el patámetro de tolerancia para la convergencia del algoritmo\n",
    "    FA = (a+2)*(a+1)*a*(a-2)*(a-1)**3  #F(a)\n",
    "    FP = 100                #F(p)\n",
    "    Nmax = 100\n",
    "    exito = False\n",
    "    i = 1\n",
    "    p = 5\n",
    "\n",
    "#Realizamos el proceso iterativo\n",
    "    while i <= Nmax:\n",
    "        p = a + (b-a)/2.00  # Calculamos el punto medio\n",
    "        FP = (p+2)*(p+1)*p*(p-2)*(p-1)**3 \n",
    "        ERR = abs(FP-FA)   #Calculamos el error relativo que queremos sea menor a 10^-2 (TOL)\n",
    "        #print(i,a,b,p,FP,ERR)\n",
    "        if(FP==0):   #¿Es solución?   #abs(FP)< TOL \n",
    "            print(\"La raíz es:\")\n",
    "            print(p)\n",
    "            exito = True\n",
    "            break   # Salir del ciclo\n",
    "        elif(FA*FP > 0):\n",
    "            a = p\n",
    "            FA = FP\n",
    "        else:\n",
    "            b = p\n",
    "        i = i+1\n",
    "    \n",
    "    if exito == False:\n",
    "        print(\"Proceso no exitoso\")"
   ]
  },
  {
   "cell_type": "markdown",
   "metadata": {},
   "source": [
    "#### Llamamos la función para cada intervalo para encontrar la raíz correspondiente"
   ]
  },
  {
   "cell_type": "code",
   "execution_count": 122,
   "metadata": {},
   "outputs": [
    {
     "name": "stdout",
     "output_type": "stream",
     "text": [
      "La raíz es:\n",
      "2.0\n"
     ]
    }
   ],
   "source": [
    "# Para [-3,2.5]\n",
    "biseccion2(-3,2.5)"
   ]
  },
  {
   "cell_type": "code",
   "execution_count": 124,
   "metadata": {},
   "outputs": [
    {
     "name": "stdout",
     "output_type": "stream",
     "text": [
      "La raíz es:\n",
      "-2.0\n"
     ]
    }
   ],
   "source": [
    "# Para [-2.5,3]\n",
    "biseccion2(-2.5,3)"
   ]
  },
  {
   "cell_type": "code",
   "execution_count": 126,
   "metadata": {},
   "outputs": [
    {
     "name": "stdout",
     "output_type": "stream",
     "text": [
      "La raíz es:\n",
      "-1.0\n"
     ]
    }
   ],
   "source": [
    "# Para  [−1.75,1.5]\n",
    "biseccion2(-1.75,1.5)"
   ]
  },
  {
   "cell_type": "markdown",
   "metadata": {},
   "source": [
    "### Ejercicio 3: Un abrevadero de longitud $L$ tiene una sección transversal en forma de semicírculo con radio $r$. Cuando se llena de agua hasta una distancia $h$ de la parte superior, el volumen $V$ de agua es\n",
    "\n",
    "\\begin{equation}\n",
    "    V=L[0.5\\pi r^2- r^2 \\arcsin(h/r)-h (r^2 - h^2)^{1/2}].\n",
    "\\end{equation}\n",
    "Suponga que $L= 10 ft$, $r=1 ft$, y que $V = 12.4 ft^3$. Determine la profundidad de agua en el abrevadero hasta 0.01 ft usando el método de la bisección."
   ]
  },
  {
   "cell_type": "markdown",
   "metadata": {},
   "source": [
    "#### Debemos encontrarla raíz de la ecuación $L[0.5\\pi r^2- r^2 \\arcsin(h/r)-h (r^2 - h^2)^{1/2}]$ considerando los valores de $L$, $r$ y $V$ dados. Ya que la profundidad $h$ puede tomar valores de $0$ a $r$, los límites para buscar la raíz son $a=0$ y $b=1$."
   ]
  },
  {
   "cell_type": "code",
   "execution_count": 19,
   "metadata": {},
   "outputs": [],
   "source": [
    "def profundidad(a,b):\n",
    "    #Definimos los valores de las variables que da el problema\n",
    "    L=10\n",
    "    r=1\n",
    "    V=12.4\n",
    "    #Inicializamos parámetros\n",
    "    TOL = 0.01  #TOL es el patámetro de tolerancia para la convergencia del algoritmo\n",
    "    #L[0.5\\pi r^2- r^2 \\arcsin(h/r)-h (r^2 - h^2)^{1/2}]\n",
    "    FA = L*(0.5*math.pi*r*r-r*r*math.asin(a/r)-a*math.sqrt(r*r-a*a))-V #F(a)\n",
    "    FP = 100                #F(p)\n",
    "    Nmax = 100\n",
    "    exito = False\n",
    "    i = 1\n",
    "    p = 5\n",
    "\n",
    "#Realizamos el proceso iterativo\n",
    "    while i <= Nmax:\n",
    "        p = a + (b-a)/2.00  # Calculamos el punto medio\n",
    "        FP = L*(0.5*math.pi*r*r-r*r*math.asin(p/r)-p*math.sqrt(r*r-p*p))-V\n",
    "        ERR = abs(FP-FA)   #Calculamos el error relativo que queremos sea menor a 10^-2 (TOL)\n",
    "        #print(i,a,b,p,FP,ERR)\n",
    "        if(FP==0):   #¿Es solución?   #abs(FP)< TOL \n",
    "            print(\"La raíz es:\")\n",
    "            print(p)\n",
    "            exito = True\n",
    "            break   # Salir del ciclo\n",
    "        elif(FA*FP > 0):\n",
    "            a = p\n",
    "            FA = FP\n",
    "        else:\n",
    "            b = p\n",
    "        i = i+1\n",
    "    \n",
    "    if exito == False:\n",
    "        print(\"Proceso no exitoso\")\n",
    "    return p"
   ]
  },
  {
   "cell_type": "code",
   "execution_count": 20,
   "metadata": {},
   "outputs": [
    {
     "name": "stdout",
     "output_type": "stream",
     "text": [
      "La raíz es:\n",
      "0.1661660346583682\n"
     ]
    }
   ],
   "source": [
    "h = profundidad(0,1)"
   ]
  },
  {
   "cell_type": "markdown",
   "metadata": {},
   "source": [
    "#### La raíz encontrada es la es el valor de $h$ que satisface la ecuación. Dado que $h$ es la distancia respecto de la parte más alta del abrevadero hasta el nivel del agua, la profundidad $D= r-h$, dada por"
   ]
  },
  {
   "cell_type": "code",
   "execution_count": 21,
   "metadata": {},
   "outputs": [
    {
     "name": "stdout",
     "output_type": "stream",
     "text": [
      "La profundidad del abrevadero es:\n",
      "0.8338339653416318\n"
     ]
    }
   ],
   "source": [
    "print(\"La profundidad del abrevadero es:\")\n",
    "print(1-h)"
   ]
  }
 ],
 "metadata": {
  "kernelspec": {
   "display_name": "Python 3",
   "language": "python",
   "name": "python3"
  },
  "language_info": {
   "codemirror_mode": {
    "name": "ipython",
    "version": 3
   },
   "file_extension": ".py",
   "mimetype": "text/x-python",
   "name": "python",
   "nbconvert_exporter": "python",
   "pygments_lexer": "ipython3",
   "version": "3.7.6"
  }
 },
 "nbformat": 4,
 "nbformat_minor": 4
}
