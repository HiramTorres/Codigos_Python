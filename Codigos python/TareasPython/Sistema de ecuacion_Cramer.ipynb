{
 "cells": [
  {
   "cell_type": "markdown",
   "metadata": {},
   "source": [
    "# Método de cramer \n"
   ]
  },
  {
   "cell_type": "code",
   "execution_count": 33,
   "metadata": {},
   "outputs": [],
   "source": [
    "import numpy as np \n",
    "\n",
    "def cramer(A,b): \n",
    "    n = len(b) # longitud de b\n",
    "    D=np.linalg.det(A)\n",
    "    x= np.zeros(n)\n",
    "    for k in range(n):\n",
    "        Ak=A.copy()\n",
    "        Ak[:,k]=b #Reemplaza la columna k por el vector \n",
    "        Dk = np.linalg.det(Ak)\n",
    "        x_k = Dk/D\n",
    "        print('x', k+1,'=',round(x_k,4))\n",
    "\n",
    "A = np.array([[2,4,6],[4,5,6],[3,1,-2]])\n",
    "b = np.array([18,24,4])"
   ]
  },
  {
   "cell_type": "code",
   "execution_count": 34,
   "metadata": {},
   "outputs": [
    {
     "name": "stdout",
     "output_type": "stream",
     "text": [
      "x 1 = 4.0\n",
      "x 2 = -2.0\n",
      "x 3 = 3.0\n"
     ]
    }
   ],
   "source": [
    "cramer(A,b)\n"
   ]
  },
  {
   "cell_type": "code",
   "execution_count": 37,
   "metadata": {},
   "outputs": [
    {
     "name": "stdout",
     "output_type": "stream",
     "text": [
      "x = 4.0\n",
      "y = -2.0\n",
      "z = 3.0\n"
     ]
    }
   ],
   "source": [
    "A = np.array([[2,4,6],[4,5,6],[3,1,-2]]) # Matriz A \n",
    "b = np.array([18,24,4]) # Resultados de la matriz \n",
    "\n",
    "x = np.linalg.solve(A,b) #Soluión almacenada en una variable \n",
    "x1 = x[0]\n",
    "y = x[1]\n",
    "z = x[2]\n",
    "print(\"x =\", round(x1,3))\n",
    "print(\"y =\", round(y,3))\n",
    "print(\"z =\", round(z,3))"
   ]
  }
 ],
 "metadata": {
  "interpreter": {
   "hash": "85aa4e3860eb4c3d02516310ce7f1829d5a79fbdb325a1577fafe3f468751b9b"
  },
  "kernelspec": {
   "display_name": "Python 3.7.7 64-bit",
   "language": "python",
   "name": "python3"
  },
  "language_info": {
   "codemirror_mode": {
    "name": "ipython",
    "version": 3
   },
   "file_extension": ".py",
   "mimetype": "text/x-python",
   "name": "python",
   "nbconvert_exporter": "python",
   "pygments_lexer": "ipython3",
   "version": "3.9.7"
  },
  "orig_nbformat": 4
 },
 "nbformat": 4,
 "nbformat_minor": 2
}
