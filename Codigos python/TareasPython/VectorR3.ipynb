{
 "metadata": {
  "language_info": {
   "codemirror_mode": {
    "name": "ipython",
    "version": 3
   },
   "file_extension": ".py",
   "mimetype": "text/x-python",
   "name": "python",
   "nbconvert_exporter": "python",
   "pygments_lexer": "ipython3",
   "version": "3.7.7-final"
  },
  "orig_nbformat": 2,
  "kernelspec": {
   "name": "python377jvsc74a57bd085aa4e3860eb4c3d02516310ce7f1829d5a79fbdb325a1577fafe3f468751b9b",
   "display_name": "Python 3.7.7 64-bit"
  },
  "metadata": {
   "interpreter": {
    "hash": "85aa4e3860eb4c3d02516310ce7f1829d5a79fbdb325a1577fafe3f468751b9b"
   }
  }
 },
 "nbformat": 4,
 "nbformat_minor": 2,
 "cells": [
  {
   "source": [
    "### 1. Hacer una clase que se llame vector R3\n",
    "### 2. crear objeto que sera clase R3 , con tres atributos que seran los valores numericos  De las posiciones del vector en $x_1$ $x_2$ $x_3$\n",
    "### 3. Hacer otros atributos que se calcularan de manera interna, hacer una funcion con nombre \"norma\", donde si se hace vector.norma devuelva la norma del vector \n",
    "### 4. Hacer funcion que se llame producto punto donde se le pase otro objeto vector y devuelva el producto punto de ambos vectores\n",
    "### 5. hacer un tercer objeto vector y hacer otra funcion llamada producto cruz (vector.producto_cruz) y devolver resultado \n",
    " "
   ],
   "cell_type": "markdown",
   "metadata": {}
  },
  {
   "cell_type": "code",
   "execution_count": 12,
   "metadata": {},
   "outputs": [],
   "source": [
    "import numpy as np\n",
    "\n",
    "class VectorR3():\n",
    "    \n",
    "    def __init__(self,V1):\n",
    "        self.V1 = V1\n",
    "\n",
    "    def norma(self):\n",
    "        return \n",
    "\n"
   ]
  },
  {
   "cell_type": "code",
   "execution_count": null,
   "metadata": {},
   "outputs": [],
   "source": []
  }
 ]
}