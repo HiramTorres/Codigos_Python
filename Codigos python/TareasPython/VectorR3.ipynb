{
 "cells": [
  {
   "cell_type": "markdown",
   "metadata": {},
   "source": [
    "1. Hacer una clase que se llame vector R3\n",
    "2. crear objeto que sera clase R3 , con tres atributos que seran los valores numericos  De las posiciones del vector en $x_1$ $x_2$ $x_3$\n",
    "3. Hacer otros atributos que se calcularan de manera interna, hacer una funcion con nombre \"norma\", donde si se hace vector.norma devuelva la norma del vector \n",
    "4. Hacer funcion que se llame producto punto donde se le pase otro objeto vector y devuelva el producto punto de ambos vectores\n",
    "5. hacer un tercer objeto vector y hacer otra funcion llamada producto cruz (vector.producto_cruz) y devolver resultado \n",
    " "
   ]
  },
  {
   "cell_type": "code",
   "execution_count": 8,
   "metadata": {},
   "outputs": [],
   "source": [
    "import numpy as np\n",
    "\n",
    "class VectorR3:\n",
    "    x_1 = int(input(\"Ingrese el valor de x_1: \"))\n",
    "    x_2 = int(input(\"Ingrese el valor de x_2: \"))\n",
    "    x_3 = int(input(\"Ingrese el valor de x_3: \"))\n",
    "     \n",
    "\n",
    "    \n",
    "    def __init__(self, x_1, x_2, x_3):\n",
    "        self.x_1 = x_1\n",
    "        self.x_2 = x_2\n",
    "        self.x_3 = x_3\n",
    "\n",
    "    def norma(self,x_1,x_2,x_3):\n",
    "        return (self.x_1**2 + self.x_2**2 + self.x_3**2)**(1/2)\n",
    "\n",
    "    def producto_punto(self, vector):\n",
    "        return self.x*vector.x + self.y*vector.y + self.z*vector.z\n",
    "\n",
    "\n"
   ]
  },
  {
   "cell_type": "code",
   "execution_count": 9,
   "metadata": {},
   "outputs": [
    {
     "ename": "NameError",
     "evalue": "name 'x_1' is not defined",
     "output_type": "error",
     "traceback": [
      "\u001b[1;31m---------------------------------------------------------------------------\u001b[0m",
      "\u001b[1;31mNameError\u001b[0m                                 Traceback (most recent call last)",
      "\u001b[1;32m<ipython-input-9-abfe1dad9f72>\u001b[0m in \u001b[0;36m<module>\u001b[1;34m\u001b[0m\n\u001b[1;32m----> 1\u001b[1;33m \u001b[0mN\u001b[0m \u001b[1;33m=\u001b[0m \u001b[0mVectorR3\u001b[0m\u001b[1;33m.\u001b[0m\u001b[0mnorma\u001b[0m\u001b[1;33m(\u001b[0m\u001b[0mx_1\u001b[0m\u001b[1;33m,\u001b[0m\u001b[0mx_2\u001b[0m\u001b[1;33m,\u001b[0m\u001b[0mx_3\u001b[0m\u001b[1;33m)\u001b[0m\u001b[1;33m\u001b[0m\u001b[1;33m\u001b[0m\u001b[0m\n\u001b[0m\u001b[0;32m      2\u001b[0m \u001b[0mprint\u001b[0m\u001b[1;33m(\u001b[0m\u001b[1;34m\"La norma del vector es: \"\u001b[0m\u001b[1;33m,\u001b[0m \u001b[0mN\u001b[0m\u001b[1;33m)\u001b[0m\u001b[1;33m\u001b[0m\u001b[1;33m\u001b[0m\u001b[0m\n",
      "\u001b[1;31mNameError\u001b[0m: name 'x_1' is not defined"
     ]
    }
   ],
   "source": [
    "N = VectorR3.norma(1,2,3)\n",
    "print(\"La norma del vector es: \", N)"
   ]
  },
  {
   "cell_type": "code",
   "execution_count": null,
   "metadata": {},
   "outputs": [],
   "source": []
  }
 ],
 "metadata": {
  "interpreter": {
   "hash": "85aa4e3860eb4c3d02516310ce7f1829d5a79fbdb325a1577fafe3f468751b9b"
  },
  "kernelspec": {
   "display_name": "Python 3.7.7 64-bit",
   "language": "python",
   "name": "python3"
  },
  "language_info": {
   "codemirror_mode": {
    "name": "ipython",
    "version": 3
   },
   "file_extension": ".py",
   "mimetype": "text/x-python",
   "name": "python",
   "nbconvert_exporter": "python",
   "pygments_lexer": "ipython3",
   "version": "3.7.7"
  },
  "metadata": {
   "interpreter": {
    "hash": "85aa4e3860eb4c3d02516310ce7f1829d5a79fbdb325a1577fafe3f468751b9b"
   }
  },
  "orig_nbformat": 2
 },
 "nbformat": 4,
 "nbformat_minor": 2
}
