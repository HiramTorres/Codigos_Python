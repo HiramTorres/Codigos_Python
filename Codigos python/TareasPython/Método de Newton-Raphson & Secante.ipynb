{
 "cells": [
  {
   "cell_type": "markdown",
   "metadata": {},
   "source": [
    "### Método de Newton-Raphson"
   ]
  },
  {
   "cell_type": "code",
   "execution_count": 1,
   "metadata": {},
   "outputs": [
    {
     "name": "stdout",
     "output_type": "stream",
     "text": [
      "1 0.7395361335152383\n",
      "2 0.7390851781060102\n",
      "3 0.7390851332151611\n",
      "La solución es:\n",
      "0.7390851332151611\n"
     ]
    }
   ],
   "source": [
    "# Introduciomos datos de entrada e inicializamos variables\n",
    "import numpy as np\n",
    "import math\n",
    "\n",
    "p0 = math.pi/4       #Aproximación inicial\n",
    "TOL = 0.0001   #Tolerancia para la condición de paro\n",
    "Nmax = 100     #Número máximo de iteraciones\n",
    "p = 10.000\n",
    "i = 1          #Contador\n",
    "exito = False\n",
    "xp = []\n",
    "\n",
    "# Realizamos el proceso iterativo del algoritmo f(x) cos x-x\n",
    "while i <= Nmax:\n",
    "    q = -1-math.sin(p0)\n",
    "    f = math.cos(p0)-p0\n",
    "    p = p0-f/q\n",
    "    print(i, p)\n",
    "    xp = np.append(xp, p) \n",
    "    if(abs(p-p0)<=TOL):\n",
    "        print(\"La solución es:\")\n",
    "        print(p)\n",
    "        exito = True\n",
    "        break\n",
    "    i = i+1\n",
    "    p0 = p\n",
    "if exito == False:\n",
    "    print('Proceso no exitos')"
   ]
  },
  {
   "cell_type": "markdown",
   "metadata": {},
   "source": [
    "### Método de la secante"
   ]
  },
  {
   "cell_type": "code",
   "execution_count": 2,
   "metadata": {},
   "outputs": [
    {
     "name": "stdout",
     "output_type": "stream",
     "text": [
      "1 0.7363841388365822\n",
      "2 0.7390581392138897\n",
      "3 0.7390851493372764\n",
      "4 0.7390851332150645\n",
      "La solución es:\n",
      "0.7390851332150645\n"
     ]
    }
   ],
   "source": [
    "# Introduciomos datos de entrada e inicializamos variables\n",
    "import numpy as np\n",
    "import math\n",
    "\n",
    "p0 = 0.5\n",
    "p1 = math.pi/4       #Aproximaciones iniciales\n",
    "q0 = math.cos(p0)-p0\n",
    "q1 = math.cos(p1)-p1\n",
    "TOL = 0.0001   #Tolerancia para la condición de paro\n",
    "Nmax = 100     #Número máximo de iteraciones\n",
    "p = 10.000\n",
    "i = 1          #Contador\n",
    "exito = False\n",
    "\n",
    "# Realizamos el proceso iterativo del algoritmo f(x) cos x-x\n",
    "while i <= Nmax:\n",
    "    p = p1-q1*(p1-p0)/(q1-q0)\n",
    "    print(i, p)\n",
    "    if(abs(p-p0)<=TOL):\n",
    "        print(\"La solución es:\")\n",
    "        print(p)\n",
    "        exito = True\n",
    "        break\n",
    "    i = i+1\n",
    "    p0 = p1\n",
    "    p1 = p\n",
    "    q0 = q1\n",
    "    q1 = math.cos(p)-p\n",
    "if exito == False:\n",
    "    print('Proceso no exitos')"
   ]
  },
  {
   "cell_type": "code",
   "execution_count": null,
   "metadata": {},
   "outputs": [],
   "source": []
  },
  {
   "cell_type": "code",
   "execution_count": null,
   "metadata": {},
   "outputs": [],
   "source": []
  }
 ],
 "metadata": {
  "kernelspec": {
   "display_name": "Python 3",
   "language": "python",
   "name": "python3"
  },
  "language_info": {
   "codemirror_mode": {
    "name": "ipython",
    "version": 3
   },
   "file_extension": ".py",
   "mimetype": "text/x-python",
   "name": "python",
   "nbconvert_exporter": "python",
   "pygments_lexer": "ipython3",
   "version": "3.10.4"
  },
  "vscode": {
   "interpreter": {
    "hash": "3ad933181bd8a04b432d3370b9dc3b0662ad032c4dfaa4e4f1596c548f763858"
   }
  }
 },
 "nbformat": 4,
 "nbformat_minor": 4
}
