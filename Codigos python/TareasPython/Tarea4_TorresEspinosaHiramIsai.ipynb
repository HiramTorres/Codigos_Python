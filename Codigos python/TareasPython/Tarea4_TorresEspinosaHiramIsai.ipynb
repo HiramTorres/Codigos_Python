{
 "cells": [
  {
   "cell_type": "code",
   "execution_count": 1,
   "metadata": {},
   "outputs": [
    {
     "name": "stdout",
     "output_type": "stream",
     "text": [
      "Iteración: 0 Valor de x: 0.7395361335152383\n",
      "Iteración: 1 Valor de x: 0.7390851781060102\n"
     ]
    }
   ],
   "source": [
    "import math\n",
    "\n",
    "# Inicializamos variables\n",
    "x_0 = math.pi / 4\n",
    "n_max_iter = 100\n",
    "tol = 1e-4  # 0.01 \n",
    "\n",
    "def f(x):\n",
    "    return -(-x + math.cos(x) )\n",
    "\n",
    "def f_prime(x):\n",
    "    return math.sin(x) + 1\n",
    "\n",
    "\n",
    "x = x_0\n",
    "for i in range(n_max_iter):\n",
    "    x_next = x - (f(x) / f_prime(x))\n",
    "    print(\"Iteración:\", i, \"Valor de x:\", x_next)\n",
    "    \n",
    "    #Tolerancia:\n",
    "    if f(x_next) < tol:\n",
    "        break\n",
    "    \n",
    "    x = x_next"
   ]
  },
  {
   "cell_type": "code",
   "execution_count": 5,
   "metadata": {},
   "outputs": [
    {
     "data": {
      "image/png": "[encoded data removed]",
      "text/plain": [
       "<Figure size 432x288 with 1 Axes>"
      ]
     },
     "metadata": {
      "needs_background": "light"
     },
     "output_type": "display_data"
    }
   ],
   "source": [
    "import matplotlib.pyplot as plt\n",
    "import numpy as np\n",
    "%matplotlib inline\n",
    "\n",
    "x = np.linspace(-10, 10, 1000)\n",
    "y = np.cos(x)\n",
    "plt.plot(x, y)\n",
    "plt.show()"
   ]
  },
  {
   "cell_type": "markdown",
   "metadata": {},
   "source": [
    "## Método de la secante "
   ]
  },
  {
   "cell_type": "code",
   "execution_count": 20,
   "metadata": {},
   "outputs": [
    {
     "name": "stdout",
     "output_type": "stream",
     "text": [
      "ingrese el valor de inervalo a :\n"
     ]
    },
    {
     "name": "stdin",
     "output_type": "stream",
     "text": [
      " .5\n"
     ]
    },
    {
     "name": "stdout",
     "output_type": "stream",
     "text": [
      "ingrese el valor del intervalo b :\n"
     ]
    },
    {
     "name": "stdin",
     "output_type": "stream",
     "text": [
      " .7853982634\n"
     ]
    },
    {
     "name": "stdout",
     "output_type": "stream",
     "text": [
      "ingrese el valor de la tolerancia: \n"
     ]
    },
    {
     "name": "stdin",
     "output_type": "stream",
     "text": [
      " .0001\n"
     ]
    },
    {
     "name": "stdout",
     "output_type": "stream",
     "text": [
      "\n",
      "estos son los valores de fa {0: -0.37758256189037276, 1: 0.07829155292593837, 2: -0.004517728037990665}\n",
      "\n",
      "estos son los valores de fb {0: 0.07829155292593837, 1: -0.004517728037990665, 2: -4.517740647791424e-05}\n",
      "\n",
      "estos son los valores de fc {0: -0.004517728037990665, 1: -4.517740647791424e-05, 2: 2.6982337808512113e-08}\n",
      "\n",
      "este es el porcentaje de error de la ultima aproximación 2.7010237324209818e-05\n",
      "\n",
      "estas son todas las aproximaciones caluladas {0: 0.7363841331439854, 1: 0.7390581391000542, 2: 0.7390851493373785}\n",
      "\n",
      "Estas son todos los errores calulados {0: 0.0026740059560688145, 1: 2.7010237324209818e-05}\n"
     ]
    }
   ],
   "source": [
    "import numpy as np\n",
    "import math\n",
    "import cmath \n",
    "from math import exp \n",
    "c = {}\n",
    "a = 0 \n",
    "b = 0\n",
    "fa = {}\n",
    "fb={}\n",
    "fc={}\n",
    "sub = 0\n",
    "error = 100\n",
    "alme ={} #almacenado de errores \n",
    "\n",
    "\n",
    "fx = lambda x: (x - math.cos(x))\n",
    "\n",
    "print (\"ingrese el valor de inervalo a :\")\n",
    "a = float(input())\n",
    "print (\"ingrese el valor del intervalo b :\")\n",
    "b = float (input())\n",
    "print (\"ingrese el valor de la tolerancia: \")\n",
    "tol = float (input())\n",
    "\n",
    "fa[sub]=fx(a)\n",
    "fb[sub]=fx(b)\n",
    "c[sub] = b-((fb[sub]*(b-a))/(fb[sub]-fa[sub]))\n",
    "fc[sub] =fx(c[sub])\n",
    "if fc [sub]==0:\n",
    "\tprint (f\"Esta es la aproximación\",c)\n",
    "while error >tol:\n",
    "\ta = b \n",
    "\tb = c[sub]\n",
    "\tsub = sub + 1 \n",
    "\tfa[sub]=fx(a)\n",
    "\tfb[sub] = fx(b)\n",
    "\tc[sub] = b-((fb[sub]*(b-a))/(fb[sub]-fa[sub]))\n",
    "\tfc[sub] = fx(c[sub])\n",
    "\terror = abs (c[sub]-c[sub-1])\n",
    "\talme[sub-1]=error\n",
    "\t\n",
    "\t\n",
    "print (\"\")\n",
    "print(f\"estos son los valores de fa\",fa)\n",
    "print(\"\")\n",
    "print(f\"estos son los valores de fb\",fb)\n",
    "print(\"\")\n",
    "print (f\"estos son los valores de fc\",fc)\n",
    "print(\"\")\n",
    "print (\"este es el porcentaje de error de la ultima aproximación\",error)\n",
    "print(\"\")\n",
    "print(f\"estas son todas las aproximaciones caluladas\",c)\n",
    "print (\"\")\n",
    "print (f\"Estas son todos los errores calulados\",alme)"
   ]
  },
  {
   "cell_type": "code",
   "execution_count": null,
   "metadata": {},
   "outputs": [],
   "source": []
  },
  {
   "cell_type": "code",
   "execution_count": null,
   "metadata": {},
   "outputs": [],
   "source": []
  }
 ],
 "metadata": {
  "kernelspec": {
   "display_name": "Python 3",
   "language": "python",
   "name": "python3"
  },
  "language_info": {
   "codemirror_mode": {
    "name": "ipython",
    "version": 3
   },
   "file_extension": ".py",
   "mimetype": "text/x-python",
   "name": "python",
   "nbconvert_exporter": "python",
   "pygments_lexer": "ipython3",
   "version": "3.7.6"
  }
 },
 "nbformat": 4,
 "nbformat_minor": 4
}
