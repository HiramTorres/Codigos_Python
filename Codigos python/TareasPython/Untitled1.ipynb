{
 "cells": [
  {
   "cell_type": "code",
   "execution_count": 7,
   "metadata": {},
   "outputs": [],
   "source": [
    "# Importamos las librerias que se van a usar\n",
    "import numpy as np\n",
    "import matplotlib.pyplot as plt\n",
    "import math \n",
    "\n",
    "\n",
    "def biseccion(a,b,Nmax):\n",
    "    TOL = 0.001  #TOL es el patámetro de tolerancia para la convergencia del algoritmo\n",
    "    FA = a**3-7*a**2+14*a-6    #F(a)\n",
    "    FP = 100                #F(p)\n",
    "    exito = False\n",
    "    i = 1\n",
    "    p = 5\n",
    "\n",
    "#Realizamos el proceso iterativo\n",
    "    while i <= Nmax:\n",
    "        p = a + (b-a)/2.00  # Calculamos el punto medio\n",
    "        FP = p**3-7*p**2+14*p-6 \n",
    "        ERR = abs(FP-FA)   #Calculamos el error relativo que queremos sea menor a 10^-2 (TOL)\n",
    "        print(i,a,b,p,FP,ERR)\n",
    "        if((ERR<=TOL)or(abs(FP)<TOL)):   #¿Es solución?   #abs(FP)< TOL \n",
    "            print(\"La raíz es:\")\n",
    "            print(p)\n",
    "            exito = True\n",
    "            break   # Salir del ciclo\n",
    "        elif(FA*FP > 0):\n",
    "            a = p\n",
    "            FA = FP\n",
    "        else:\n",
    "            b = p\n",
    "        i = i+1\n",
    "    \n",
    "    if exito == False:\n",
    "        print(\"Proceso no exitoso\")"
   ]
  },
  {
   "cell_type": "code",
   "execution_count": null,
   "metadata": {},
   "outputs": [],
   "source": [
    "biseccion (0.5,10,100)"
   ]
  }
 ],
 "metadata": {
  "kernelspec": {
   "display_name": "Python 3",
   "language": "python",
   "name": "python3"
  },
  "language_info": {
   "codemirror_mode": {
    "name": "ipython",
    "version": 3
   },
   "file_extension": ".py",
   "mimetype": "text/x-python",
   "name": "python",
   "nbconvert_exporter": "python",
   "pygments_lexer": "ipython3",
   "version": "3.7.6"
  }
 },
 "nbformat": 4,
 "nbformat_minor": 4
}
