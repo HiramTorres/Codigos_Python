{
 "cells": [
  {
   "cell_type": "markdown",
   "metadata": {},
   "source": [
    "## _Programa para imprimir números con sus cuadrados_"
   ]
  },
  {
   "cell_type": "code",
   "execution_count": null,
   "metadata": {},
   "outputs": [],
   "source": []
  },
  {
   "cell_type": "code",
   "execution_count": 42,
   "metadata": {},
   "outputs": [
    {
     "name": "stdin",
     "output_type": "stream",
     "text": [
      "Ingresa valor inicial : 1\n",
      "Ingresa valor final : 800\n",
      "Ingresa valor de salto : 5\n"
     ]
    },
    {
     "name": "stdout",
     "output_type": "stream",
     "text": [
      "[1, 6, 11, 16, 21, 26, 31, 36, 41, 46, 51, 56, 61, 66, 71, 76, 81, 86, 91, 96, 101, 106, 111, 116, 121, 126, 131, 136, 141, 146, 151, 156, 161, 166, 171, 176, 181, 186, 191, 196, 201, 206, 211, 216, 221, 226, 231, 236, 241, 246, 251, 256, 261, 266, 271, 276, 281, 286, 291, 296, 301, 306, 311, 316, 321, 326, 331, 336, 341, 346, 351, 356, 361, 366, 371, 376, 381, 386, 391, 396, 401, 406, 411, 416, 421, 426, 431, 436, 441, 446, 451, 456, 461, 466, 471, 476, 481, 486, 491, 496, 501, 506, 511, 516, 521, 526, 531, 536, 541, 546, 551, 556, 561, 566, 571, 576, 581, 586, 591, 596, 601, 606, 611, 616, 621, 626, 631, 636, 641, 646, 651, 656, 661, 666, 671, 676, 681, 686, 691, 696, 701, 706, 711, 716, 721, 726, 731, 736, 741, 746, 751, 756, 761, 766, 771, 776, 781, 786, 791, 796]\n",
      "Lista al cuadrado --->\n",
      "[1, 36, 121, 256, 441, 676, 961, 1296, 1681, 2116, 2601, 3136, 3721, 4356, 5041, 5776, 6561, 7396, 8281, 9216, 10201, 11236, 12321, 13456, 14641, 15876, 17161, 18496, 19881, 21316, 22801, 24336, 25921, 27556, 29241, 30976, 32761, 34596, 36481, 38416, 40401, 42436, 44521, 46656, 48841, 51076, 53361, 55696, 58081, 60516, 63001, 65536, 68121, 70756, 73441, 76176, 78961, 81796, 84681, 87616, 90601, 93636, 96721, 99856, 103041, 106276, 109561, 112896, 116281, 119716, 123201, 126736, 130321, 133956, 137641, 141376, 145161, 148996, 152881, 156816, 160801, 164836, 168921, 173056, 177241, 181476, 185761, 190096, 194481, 198916, 203401, 207936, 212521, 217156, 221841, 226576, 231361, 236196, 241081, 246016, 251001, 256036, 261121, 266256, 271441, 276676, 281961, 287296, 292681, 298116, 303601, 309136, 314721, 320356, 326041, 331776, 337561, 343396, 349281, 355216, 361201, 367236, 373321, 379456, 385641, 391876, 398161, 404496, 410881, 417316, 423801, 430336, 436921, 443556, 450241, 456976, 463761, 470596, 477481, 484416, 491401, 498436, 505521, 512656, 519841, 527076, 534361, 541696, 549081, 556516, 564001, 571536, 579121, 586756, 594441, 602176, 609961, 617796, 625681, 633616]\n"
     ]
    }
   ],
   "source": [
    "n1= int(input(\"Ingresa valor inicial :\"))\n",
    "n2 = int(input(\"Ingresa valor final :\")) # al agregar el número final, considera que se toma el número anterior al puesto, ejem. si quieres\n",
    "n3 = int(input(\"Ingresa valor de salto :\")) # el 100 debes poner 101, python no toma el número que pongas si no n-1 \n",
    "def square (sample):\n",
    "    list = []\n",
    "    for i in sample : \n",
    "        list.append(i**2)\n",
    "    return list\n",
    "print (list(range(n1,n2,n3))) #Este print, imprimirá la lista de números elegida \n",
    "print (\"Lista al cuadrado --->\")\n",
    "print (square(range(n1,n2,n3))) #Este print, imprimirá la lista de números anterior elevada al cuadrado\n",
    "\n",
    "\n"
   ]
  },
  {
   "cell_type": "code",
   "execution_count": null,
   "metadata": {},
   "outputs": [],
   "source": []
  }
 ],
 "metadata": {
  "kernelspec": {
   "display_name": "Python 3",
   "language": "python",
   "name": "python3"
  },
  "language_info": {
   "codemirror_mode": {
    "name": "ipython",
    "version": 3
   },
   "file_extension": ".py",
   "mimetype": "text/x-python",
   "name": "python",
   "nbconvert_exporter": "python",
   "pygments_lexer": "ipython3",
   "version": "3.7.6"
  }
 },
 "nbformat": 4,
 "nbformat_minor": 4
}
