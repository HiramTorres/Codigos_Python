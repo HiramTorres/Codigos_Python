{
 "cells": [
  {
   "cell_type": "markdown",
   "metadata": {},
   "source": [
    "### Método de bisección\n",
    "#### Se buscan las raíces de la ecuación $f(x) = x^3 + 4x^2 -10 =0$ en el intervalo [1,2], donde $f(a)=f(1)=-5$ y $f(b)=f(2) = 14$"
   ]
  },
  {
   "cell_type": "markdown",
   "metadata": {},
   "source": [
    "#### Introducimos los datos de entrada"
   ]
  },
  {
   "cell_type": "code",
   "execution_count": 2,
   "metadata": {},
   "outputs": [],
   "source": [
    "import numpy as np\n",
    "a = 1  # a y b son los límites del intervalo\n",
    "b = 2\n",
    "TOL = 0.0001  #TOL es el patámetro de tolerancia para la convergencia del algoritmo\n",
    "Nmax = 100    #Nmax es el número máximo de iteraciones"
   ]
  },
  {
   "cell_type": "markdown",
   "metadata": {},
   "source": [
    "#### Inicializamos variables"
   ]
  },
  {
   "cell_type": "code",
   "execution_count": 3,
   "metadata": {},
   "outputs": [],
   "source": [
    "i = 1     #Contador del bucle\n",
    "FA = a**3 + 4*a**2-10    #F(a)\n",
    "FP = 100                #F(p)\n",
    "exito = False\n",
    "p = 10"
   ]
  },
  {
   "cell_type": "markdown",
   "metadata": {},
   "source": [
    "#### Realizamos el proceso iterativo"
   ]
  },
  {
   "cell_type": "code",
   "execution_count": 4,
   "metadata": {},
   "outputs": [
    {
     "name": "stdout",
     "output_type": "stream",
     "text": [
      "1 1 2 1.5 2.375\n",
      "2 1 1.5 1.25 -1.796875\n",
      "3 1.25 1.5 1.375 0.162109375\n",
      "4 1.25 1.375 1.3125 -0.848388671875\n",
      "5 1.3125 1.375 1.34375 -0.350982666015625\n",
      "6 1.34375 1.375 1.359375 -0.09640884399414062\n",
      "7 1.359375 1.375 1.3671875 0.03235578536987305\n",
      "8 1.359375 1.3671875 1.36328125 -0.03214997053146362\n",
      "9 1.36328125 1.3671875 1.365234375 7.202476263046265e-05\n",
      "LA raíz es:\n",
      "1.365234375\n"
     ]
    }
   ],
   "source": [
    "while i <= Nmax:\n",
    "    p = a + (b-a)/2.00  # Calculamos el punto medio\n",
    "    FP = p**3 + 4*p**2 -10\n",
    "    print(i,a,b,p,FP)\n",
    "    if(abs(FP)< TOL):   #¿Es solución?  FP==0\n",
    "        print(\"LA raíz es:\")\n",
    "        print(p)\n",
    "        exito = True\n",
    "        break   # Salir del ciclo\n",
    "    elif(FA*FP > 0):\n",
    "        a = p\n",
    "        FA = FP\n",
    "    else:\n",
    "        b = p\n",
    "    i = i+1\n",
    "    \n",
    "if exito == False:\n",
    "    print(\"Proceso no exitoso\")"
   ]
  },
  {
   "cell_type": "code",
   "execution_count": null,
   "metadata": {},
   "outputs": [],
   "source": []
  }
 ],
 "metadata": {
  "kernelspec": {
   "display_name": "Python 3",
   "language": "python",
   "name": "python3"
  },
  "language_info": {
   "codemirror_mode": {
    "name": "ipython",
    "version": 3
   },
   "file_extension": ".py",
   "mimetype": "text/x-python",
   "name": "python",
   "nbconvert_exporter": "python",
   "pygments_lexer": "ipython3",
   "version": "3.7.6"
  }
 },
 "nbformat": 4,
 "nbformat_minor": 4
}
