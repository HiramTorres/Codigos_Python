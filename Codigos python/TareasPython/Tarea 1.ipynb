{
 "cells": [
  {
   "cell_type": "markdown",
   "metadata": {},
   "source": [
    "# Tarea 1: Comandos básicos en Python"
   ]
  },
  {
   "cell_type": "markdown",
   "metadata": {},
   "source": [
    "### *Crea una o varias funciones que calculen el promedio, la moda,  la desviación estandar, el valor más grande y el valor más pequeño del siguiente conjunto de números:*"
   ]
  },
  {
   "cell_type": "markdown",
   "metadata": {},
   "source": [
    "$X = 30, 22, 18, 34, 45, 33, 12, 2, 22, 45, 44, 3, 16, 24, 18, 15, 44, 88$"
   ]
  },
  {
   "cell_type": "markdown",
   "metadata": {},
   "source": [
    "Defiinimos el arreglo que va a contener el conjunto de datos que vamos a anañizar y el tamaño de nuestro arreglo"
   ]
  },
  {
   "cell_type": "code",
   "execution_count": 29,
   "metadata": {},
   "outputs": [],
   "source": [
    "import numpy as np\n",
    "x = np.array([30,22,18,34,45,33,12,2,22,45,44,3,16,24,18,15,44,88])\n",
    "xsize = np.size(x)"
   ]
  },
  {
   "cell_type": "markdown",
   "metadata": {},
   "source": [
    "#### Promedio: <br/>\n",
    "Definimos la función para que calcule el **promedio** de los datos considerando que éste está dado como   \\begin{equation} \\bar{x} = \\frac{1}{n} \\sum_{i=1}^n x_i, \\end{equation}\n",
    "donde $n$ es el número de datos (tamaño de nuestro arreglo) y $x_i$ cada cado (elemento de nuestro arreglo).\n"
   ]
  },
  {
   "cell_type": "code",
   "execution_count": 21,
   "metadata": {},
   "outputs": [],
   "source": [
    "#Definición de la función\n",
    "def promedio(n,data):  # \"data\" es el nombre del arreglo de datos de entrada y \"n\" su tamaño\n",
    "    suma = 0           # Inicializamos la variable suma \n",
    "    #Sumamos todos los elementos en el arreglo\n",
    "    for elemento in data:\n",
    "        suma = suma + elemento\n",
    "    #Dividimos entre el número de elementos para obtener el promedio\n",
    "    prom_data = suma/n\n",
    "    return prom_data\n",
    "    #print( \"El promedio de los datos es:\")  #Imprimimos el promedio\n",
    "    print(prom_data)\n",
    "    "
   ]
  },
  {
   "cell_type": "code",
   "execution_count": 14,
   "metadata": {},
   "outputs": [
    {
     "name": "stdout",
     "output_type": "stream",
     "text": [
      "El promedio es:\n",
      "28.61111111111111\n"
     ]
    }
   ],
   "source": [
    "# Llamamos/ejecutamos la función con nuestros datos de entrada\n",
    "xprom = promedio(xsize,x)\n",
    "print(\"El promedio es:\")\n",
    "print(xprom)"
   ]
  },
  {
   "cell_type": "markdown",
   "metadata": {},
   "source": [
    "#### Moda"
   ]
  },
  {
   "cell_type": "markdown",
   "metadata": {},
   "source": [
    "Definimos la función que calcule la **moda** considerando que la moda es el valor que más se repite en un conjunto de datos"
   ]
  },
  {
   "cell_type": "raw",
   "metadata": {},
   "source": []
  },
  {
   "cell_type": "code",
   "execution_count": 35,
   "metadata": {},
   "outputs": [
    {
     "name": "stdout",
     "output_type": "stream",
     "text": [
      "La moda es:\n",
      "[22. 18. 45. 44.]\n"
     ]
    }
   ],
   "source": [
    "#Definimos la función\n",
    "def moda(n,data):    # \"data\" es el nombre del arreglo de datos de entrada y \"n\" su tamaño\n",
    "    medida=0         # Inicializamos el arreglo \n",
    "    arreglo = np.zeros(n)  #Incializamos un arreglo con ceros\n",
    "    i=0\n",
    "    for elemento in data:\n",
    "        #Definimos un arreglo con los elementos de \"data\" sin repertirse\n",
    "        if elemento in arreglo:\n",
    "            continue\n",
    "        else:\n",
    "            arreglo[i]=elemento\n",
    "            #print(arreglo[i])\n",
    "            i=i+1\n",
    "        #print(max(occurrences))\n",
    "    \n",
    "    arreglo=arreglo[arreglo != 0]\n",
    "    #Definimos un arreglo para el número de ocurrencias de cada dato en \"arreglo\"\n",
    "    ocurrencias = np.zeros(arreglo.size)\n",
    "    \n",
    "    #Calculamos el número de ocurrencias para cada elemento de \"arreglo\"\n",
    "    j=0\n",
    "    for elemento in arreglo:\n",
    "        oc_num = np.count_nonzero(data == elemento)\n",
    "        ocurrencias[j]=oc_num\n",
    "        j=j+1\n",
    "        \n",
    "    #Obtenemos los índices donde ocurre el máximo número de ocurrencias\n",
    "    index_oc = np.where(ocurrencias == np.amax(ocurrencias))\n",
    "    #Obtenemos la moda con los índices calculados:\n",
    "    #que son los elementos en \"arreglo\" que ocupan la posición \"index_oc\"\n",
    "    moda_val = arreglo[index_oc[0]]\n",
    "    return moda_val\n",
    "\n",
    "   \n",
    "moda_val = moda(xsize,x)\n",
    "print(\"La moda es:\")\n",
    "print(moda_val)"
   ]
  },
  {
   "cell_type": "markdown",
   "metadata": {},
   "source": [
    "#### Desviación estandar\n",
    "Definimos la función que calcule la **desviación estandar** considerando que éste está dado como\n",
    "\\begin{equation}\n",
    "\\sigma = \\sqrt{\\frac{1}{n} \\sum_{i=1}^n (x_i - \\bar{x})^2},\n",
    "\\end{equation}\n",
    "donde $\\bar{x}$ es el promedio de la muestra."
   ]
  },
  {
   "cell_type": "code",
   "execution_count": 36,
   "metadata": {},
   "outputs": [],
   "source": [
    "#Importamos el paqueque math que usaremos para calcular la raíz cuadrada\n",
    "import math\n",
    "#Definimos la función\n",
    "def desv(prom,n,data):  # \"data\" es el nombre del arreglo de datos de entrada, \"n\" su tamaño y \"prom\" su promedio\n",
    "    suma = 0           # Inicializamos la variable suma \n",
    "    #Sumamos todas las diferencias entre los datos y el promedio elevados al cuadrado\n",
    "    for elemento in data:\n",
    "        suma = suma + (elemento-prom)**2\n",
    "    #Dividimos entre el número de elementos y sacamos la raíz cuadrada para obtener la desviación\n",
    "    desv_data = math.sqrt(suma/n)\n",
    "    return desv_data\n",
    "\n",
    "    \n"
   ]
  },
  {
   "cell_type": "code",
   "execution_count": 37,
   "metadata": {},
   "outputs": [
    {
     "name": "stdout",
     "output_type": "stream",
     "text": [
      "La desviación estandar es:\n",
      "19.5878048480536\n"
     ]
    }
   ],
   "source": [
    "# Llamamos/ejecutamos la función con nuestros datos de entrada\n",
    "xdev = desv(xprom,xsize,x)\n",
    "print(\"La desviación estandar es:\")\n",
    "print(xdev)"
   ]
  },
  {
   "cell_type": "markdown",
   "metadata": {},
   "source": [
    "#### Máximo\n",
    "Definimos la función que calcule el máximo valor de un conjunto de datos"
   ]
  },
  {
   "cell_type": "code",
   "execution_count": null,
   "metadata": {},
   "outputs": [],
   "source": [
    "#Definimos la función\n",
    "def maximo(data):  # \"data\" es el nombre del arreglo de datos de entrada\n",
    "    val_max=0      # Inicializamos la variable val_max\n",
    "    for elemento in data:\n",
    "        if(elemento>=val_max):\n",
    "            val_max=elemento      \n",
    "    return val_max"
   ]
  },
  {
   "cell_type": "code",
   "execution_count": 40,
   "metadata": {},
   "outputs": [
    {
     "name": "stdout",
     "output_type": "stream",
     "text": [
      "El valor máximo es:\n",
      "88\n"
     ]
    }
   ],
   "source": [
    "# Llamamos/ejecutamos la función con nuestros datos de entrada\n",
    "xmax = maximo(x)\n",
    "print(\"El valor máximo es:\")\n",
    "print(xmax)"
   ]
  },
  {
   "cell_type": "markdown",
   "metadata": {},
   "source": [
    "#### Mínimo\n",
    "Definimos la función que calcule el mínimo valor de un conjunto de datos"
   ]
  },
  {
   "cell_type": "code",
   "execution_count": 44,
   "metadata": {},
   "outputs": [],
   "source": [
    "#Definimos la función\n",
    "def minimo(data):  # \"data\" es el nombre del arreglo de datos de entrada\n",
    "    val_min=100000      # Inicializamos la variable val_max\n",
    "    for elemento in data:\n",
    "        if(elemento<=val_min):\n",
    "            val_min=elemento      \n",
    "    return val_min"
   ]
  },
  {
   "cell_type": "code",
   "execution_count": 45,
   "metadata": {},
   "outputs": [
    {
     "name": "stdout",
     "output_type": "stream",
     "text": [
      "El valor mínimo es:\n",
      "2\n"
     ]
    }
   ],
   "source": [
    "# Llamamos/ejecutamos la función con nuestros datos de entrada\n",
    "xmin = minimo(x)\n",
    "print(\"El valor mínimo es:\")\n",
    "print(xmin)"
   ]
  },
  {
   "cell_type": "code",
   "execution_count": null,
   "metadata": {},
   "outputs": [],
   "source": []
  }
 ],
 "metadata": {
  "kernelspec": {
   "display_name": "Python 3",
   "language": "python",
   "name": "python3"
  },
  "language_info": {
   "codemirror_mode": {
    "name": "ipython",
    "version": 3
   },
   "file_extension": ".py",
   "mimetype": "text/x-python",
   "name": "python",
   "nbconvert_exporter": "python",
   "pygments_lexer": "ipython3",
   "version": "3.7.6"
  }
 },
 "nbformat": 4,
 "nbformat_minor": 4
}
