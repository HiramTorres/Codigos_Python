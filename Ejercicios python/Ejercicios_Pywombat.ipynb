{
 "cells": [
  {
   "cell_type": "markdown",
   "metadata": {},
   "source": [
    "# Ejercicios de Pywombat - Python"
   ]
  },
  {
   "cell_type": "markdown",
   "metadata": {},
   "source": [
    "### Contador de palabras"
   ]
  },
  {
   "cell_type": "code",
   "execution_count": 7,
   "metadata": {},
   "outputs": [
    {
     "name": "stdout",
     "output_type": "stream",
     "text": [
      "La palabra tiene 26 letras\n"
     ]
    }
   ],
   "source": [
    "letra = 0\n",
    "palabra = str(input(\"Ingrese palabra: \"))\n",
    "for i in palabra:\n",
    "    letra += 1\n",
    "print(f\"La palabra tiene {letra} letras\")\n",
    "\n"
   ]
  },
  {
   "cell_type": "markdown",
   "metadata": {},
   "source": [
    "Desarrolla un script el cual permita la lectura de un número entero (n) e imprima en consola el resultado de n + (n * n) + (n * n * n)"
   ]
  },
  {
   "cell_type": "code",
   "execution_count": 12,
   "metadata": {},
   "outputs": [
    {
     "name": "stdout",
     "output_type": "stream",
     "text": [
      "El resultado es 8420\n"
     ]
    }
   ],
   "source": [
    "def sum_x3(n):\n",
    "    return n + (n*n) + (n*n*n)\n",
    "n = int(input(\"Ingrese número: \"))\n",
    "print(f\"El resultado es {sum_x3(n)}\")\n"
   ]
  },
  {
   "cell_type": "code",
   "execution_count": 14,
   "metadata": {},
   "outputs": [
    {
     "name": "stdout",
     "output_type": "stream",
     "text": [
      "El resultado es 8420\n"
     ]
    }
   ],
   "source": [
    "n = int(input(\"ingrese numero: \"))\n",
    "resultado = n + (n*n) + (n*n*n)\n",
    "print(f\"El resultado es {resultado}\")"
   ]
  },
  {
   "cell_type": "markdown",
   "metadata": {},
   "source": [
    "Dada una lista de números enteros, desarrolla un programa que imprima en consola todos los elementos dentro de la lista que se encuentren en posición par.\n"
   ]
  },
  {
   "cell_type": "code",
   "execution_count": 21,
   "metadata": {},
   "outputs": [
    {
     "name": "stdout",
     "output_type": "stream",
     "text": [
      "[0, 2, 4, 6, 8, 10, 12, 14, 16, 18, 20, 22, 24, 26, 28, 30, 32, 34, 36, 38, 40, 42, 44, 46, 48, 50, 52, 54, 56, 58, 60, 62, 64, 66, 68, 70, 72, 74, 76, 78, 80, 82, 84, 86, 88, 90, 92, 94, 96, 98, 100]\n",
      "[1, 3, 5, 7, 9, 11, 13, 15, 17, 19, 21, 23, 25, 27, 29, 31, 33, 35, 37, 39, 41, 43, 45, 47, 49, 51, 53, 55, 57, 59, 61, 63, 65, 67, 69, 71, 73, 75, 77, 79, 81, 83, 85, 87, 89, 91, 93, 95, 97, 99]\n"
     ]
    }
   ],
   "source": [
    "lista = list(range(0,101))\n",
    "\n",
    "pares = [x for x in lista if x%2 == 0 ]\n",
    "print(pares)\n",
    "\n",
    "impares = [x for x in lista if x%2 != 0 ]\n",
    "print(impares)\n"
   ]
  },
  {
   "cell_type": "markdown",
   "metadata": {},
   "source": [
    "Desarrolla un programa el cual permita al usuario ingresar el radio de un circulo. El programa debe ser capaz de imprimir en consola el área del circulo."
   ]
  },
  {
   "cell_type": "code",
   "execution_count": 27,
   "metadata": {},
   "outputs": [
    {
     "name": "stdout",
     "output_type": "stream",
     "text": [
      "El área del círculo es: 153.93804002589985\n"
     ]
    }
   ],
   "source": [
    "import math\n",
    "\n",
    "def cal_radio(r):\n",
    "    return (math.pi)*(r)**2\n",
    "r = float(input(\"Ingrese valor de radio: \"))\n",
    "print(f\"El área del círculo es: {cal_radio(r)}\")"
   ]
  },
  {
   "cell_type": "markdown",
   "metadata": {},
   "source": [
    "Desarrolla un programa en Python que nos permita conocer el primer elemento duplicado en una lista.\n",
    "\n",
    "- El usuario podrá crear una lista de longitud n. \n",
    "- El usuario podrá definir la longitud y cada uno de los elementos dentro de la lista.\n",
    "- Todo los elementos dentro de la lista serán números enteros.\n",
    "- El programa deberá mostrar en consola el primer elemento duplicado de la lista.\n",
    "- En caso no existan elementos duplicados, el programa deberá retornar el siguiente mensaje:\n",
    "  No existen elementos duplicados.\n"
   ]
  },
  {
   "cell_type": "code",
   "execution_count": 34,
   "metadata": {},
   "outputs": [
    {
     "name": "stdout",
     "output_type": "stream",
     "text": [
      "[14, 55, 93, 24, 31, 1, 99, 15, 9, 24, 37, 53, 81, 31, 94, 23, 18, 29, 96, 3, 45, 63, 66, 68, 20, 25, 44, 58, 29, 5]\n"
     ]
    }
   ],
   "source": [
    "import random\n",
    "lista = [random.randrange(0,100) for x in range(30)]\n",
    "print(lista)\n",
    "# Pendiente\n",
    "\n"
   ]
  },
  {
   "cell_type": "code",
   "execution_count": null,
   "metadata": {},
   "outputs": [],
   "source": []
  }
 ],
 "metadata": {
  "kernelspec": {
   "display_name": "Python 3.9.12 ('base')",
   "language": "python",
   "name": "python3"
  },
  "language_info": {
   "codemirror_mode": {
    "name": "ipython",
    "version": 3
   },
   "file_extension": ".py",
   "mimetype": "text/x-python",
   "name": "python",
   "nbconvert_exporter": "python",
   "pygments_lexer": "ipython3",
   "version": "3.9.13"
  },
  "orig_nbformat": 4,
  "vscode": {
   "interpreter": {
    "hash": "3924ed30227e34da5a4c68c183321c9d32f94e2bda1bf4a622c4e1f08e1e696d"
   }
  }
 },
 "nbformat": 4,
 "nbformat_minor": 2
}
