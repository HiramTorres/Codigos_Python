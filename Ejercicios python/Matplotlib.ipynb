{
 "cells": [
  {
   "cell_type": "markdown",
   "metadata": {},
   "source": [
    "# Ejercicios Matplotlib \n"
   ]
  },
  {
   "cell_type": "markdown",
   "metadata": {},
   "source": [
    "### Escribir una función que reciba un diccionario con las notas de las asignaturas de un curso y una cadena con el nombre de un color y devuelva un diagrama de barras de las notas en el color dado."
   ]
  },
  {
   "cell_type": "code",
   "execution_count": 9,
   "metadata": {},
   "outputs": [
    {
     "data": {
      "image/png": "[encoded data removed]",
      "text/plain": [
       "<Figure size 432x288 with 1 Axes>"
      ]
     },
     "metadata": {
      "needs_background": "light"
     },
     "output_type": "display_data"
    }
   ],
   "source": [
    "import matplotlib.pyplot as plt \n",
    "\n",
    "def diagrama_barras_notas(notas, color):\n",
    "    '''Función que construye un diagrama de barras con las notas de las asignaturas de un curso.\n",
    "    \n",
    "    Parámetros:\n",
    "        - notas: Es un diccionario formado por pares con clave el nombre de la asignaturay valor la nota.\n",
    "        - color: Es una cadena con el color de las barras.\n",
    "    \n",
    "    Salida:\n",
    "        - Un diagrama de barras con las notas del diccionario dado en el color dado.\n",
    "    '''\n",
    "    # Definimos la figura y los ejes del gráfico con Matplotlib\n",
    "    fig, ax = plt.subplots()\n",
    "    # Dibujamos las barras con las notas a partir del diccionario\n",
    "    ax.bar(notas.keys(), notas.values(), color = color)\n",
    "    # Devolvemos un objeto con los ejes y las barras que contienen\n",
    "    return ax\n",
    "\n",
    "notas = {'Programación':9, 'Mates':6.5, 'Economía':4, 'Historia': 8}\n",
    "diagrama_barras_notas(notas, 'g')\n",
    "plt.show()"
   ]
  },
  {
   "cell_type": "markdown",
   "metadata": {},
   "source": [
    "### Escribir una función que reciba una serie de Pandas con las notas de los alumnos de un curso y devuelva un diagrama de cajas con las notas. El diagrama debe tener el título “Distribución de notas”."
   ]
  },
  {
   "cell_type": "code",
   "execution_count": null,
   "metadata": {},
   "outputs": [],
   "source": [
    "import pandas as pd\n",
    "\n",
    "def serie(x):\n",
    "    '''Función que devuelve un diagrama de cajas con las notas. \n",
    "    Parámetros:     \n",
    "        - x: Es una lista con las notas de las asignaturas.\n",
    "    Salida:\n",
    "        - Un diagrama de cajas con las notas de la lista dada.\n",
    "    '''\n",
    "    # Definimos la figura y los ejes del gráfico con Matplotlib\n",
    "    fig, ax = plt.subplots()\n",
    "    # Dibujamos las cajas con las notas a partir de la lista\n",
    "    ax.boxplot(x)\n",
    "    # Devolvemos un objeto con los ejes y las cajas que contienen\n",
    "    return ax    \n"
   ]
  }
 ],
 "metadata": {
  "interpreter": {
   "hash": "85aa4e3860eb4c3d02516310ce7f1829d5a79fbdb325a1577fafe3f468751b9b"
  },
  "kernelspec": {
   "display_name": "Python 3.7.7 64-bit",
   "language": "python",
   "name": "python3"
  },
  "language_info": {
   "codemirror_mode": {
    "name": "ipython",
    "version": 3
   },
   "file_extension": ".py",
   "mimetype": "text/x-python",
   "name": "python",
   "nbconvert_exporter": "python",
   "pygments_lexer": "ipython3",
   "version": "3.7.7"
  },
  "orig_nbformat": 4
 },
 "nbformat": 4,
 "nbformat_minor": 2
}
