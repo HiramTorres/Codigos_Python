{
 "cells": [
  {
   "cell_type": "code",
   "execution_count": 2,
   "metadata": {},
   "outputs": [
    {
     "name": "stdout",
     "output_type": "stream",
     "text": [
      "[0, 1, 2, 3, 4, 5, 6, 7, 8, 9, 10]\n"
     ]
    }
   ],
   "source": [
    "datos = [x for x in range(11)]\n",
    "print(datos)"
   ]
  },
  {
   "cell_type": "code",
   "execution_count": 6,
   "metadata": {},
   "outputs": [
    {
     "name": "stdout",
     "output_type": "stream",
     "text": [
      "El segundo valor es mayor que el primero\n"
     ]
    }
   ],
   "source": [
    "valor1 = int(input(\"Ingrese el primer valor: \"))\n",
    "valor2 = int(input(\"Ingrese el segundo valor: \"))\n",
    "\n",
    "if valor1 > valor2:\n",
    "    print(\"El primer valor es mayor que el segundo\")\n",
    "elif valor1 < valor2:\n",
    "    print(\"El segundo valor es mayor que el primero\")\n",
    "else:\n",
    "    print(\"Los valores son iguales\")"
   ]
  },
  {
   "cell_type": "code",
   "execution_count": 8,
   "metadata": {},
   "outputs": [
    {
     "data": {
      "text/plain": [
       "5"
      ]
     },
     "execution_count": 8,
     "metadata": {},
     "output_type": "execute_result"
    }
   ],
   "source": [
    "# listas \n",
    "lista = [\"Carlos\", \"Juan\", \"Sandra\", \"Maria\", \"Ana\"]\n",
    "longitud = len(lista)\n",
    "longitud"
   ]
  },
  {
   "cell_type": "code",
   "execution_count": 9,
   "metadata": {},
   "outputs": [
    {
     "name": "stdout",
     "output_type": "stream",
     "text": [
      "Hola, mi nombre es R2D2\n",
      "Hola, mi nombre es R2D2\n",
      "Hola, mi nombre es R2D2\n",
      "Hola, mi nombre es R2D2\n",
      "Hola, mi nombre es R2D2\n",
      "Hola, mi nombre es R2D2\n",
      "Hola, mi nombre es R2D2\n",
      "Hola, mi nombre es R2D2\n"
     ]
    }
   ],
   "source": [
    "while True :\n",
    "    print(\"Hola, mi nombre es R2D2\")\n",
    "    nombres = input(\"Cual es tu nombre: \")\n",
    "    \n",
    "    if nommbres in lista:\n"
   ]
  },
  {
   "cell_type": "code",
   "execution_count": 4,
   "metadata": {},
   "outputs": [],
   "source": [
    "# strip() elimina los espacios en blanco\n",
    "# capitalize() convierte la primera letra en mayuscula\n",
    "# lower() convierte todo en minuscula\n",
    "# upper() convierte todo en mayuscula\n",
    "\n",
    "\n"
   ]
  },
  {
   "cell_type": "code",
   "execution_count": 6,
   "metadata": {},
   "outputs": [
    {
     "name": "stdout",
     "output_type": "stream",
     "text": [
      "La suma de 2918 y 213 es 3131\n",
      "La resta de 2918 y 213 es 2705\n",
      "La multiplicacion de 2918 y 213 es 621534\n",
      "La division de 2918 y 213 es 13.699530516431924\n",
      "La resta de 2918 y 213 es 2705\n"
     ]
    }
   ],
   "source": [
    "valor1 = int(input(\"Digite um valor: \"))\n",
    "valor2 = int(input(\"Digite outro valor: \"))\n",
    "\n",
    "suma = valor1 + valor2\n",
    "resta = valor1 - valor2\n",
    "multiplicacion = valor1 * valor2\n",
    "division = valor1 / valor2\n",
    "resta = valor1 - valor2\n",
    "\n",
    "print(f\"La suma de {valor1} y {valor2} es {suma}\")\n",
    "print(f\"La resta de {valor1} y {valor2} es {resta}\")\n",
    "print(f\"La multiplicacion de {valor1} y {valor2} es {multiplicacion}\")\n",
    "print(f\"La division de {valor1} y {valor2} es {division}\")\n",
    "print(f\"La resta de {valor1} y {valor2} es {resta}\")\n",
    "\n"
   ]
  },
  {
   "cell_type": "code",
   "execution_count": 11,
   "metadata": {},
   "outputs": [
    {
     "name": "stdout",
     "output_type": "stream",
     "text": [
      "El numero es par\n"
     ]
    }
   ],
   "source": [
    "numero = int(input(\"Digite um valor: \"))\n",
    "\n",
    "if numero % 2 == 0:\n",
    "    print(\"El número es par\")\n",
    "else:\n",
    "    print(\"El número es impar\")\n"
   ]
  },
  {
   "cell_type": "code",
   "execution_count": 45,
   "metadata": {},
   "outputs": [
    {
     "name": "stdout",
     "output_type": "stream",
     "text": [
      "El número no es primo\n"
     ]
    }
   ],
   "source": [
    "# numero primo\n",
    "numero = int(input(\"Digite un valor: \"))\n",
    "contador = 0\n",
    "\n",
    "for i in range(1, numero + 1):\n",
    "    if i == 1 or i == numero:\n",
    "        continue\n",
    "    if numero % i == 0:\n",
    "        contador = contador + 1\n",
    "\n",
    "if contador == 0:\n",
    "    print(\"El número es primo\")\n",
    "else:\n",
    "    print(\"El número no es primo\")\n"
   ]
  },
  {
   "cell_type": "code",
   "execution_count": 47,
   "metadata": {},
   "outputs": [
    {
     "name": "stdout",
     "output_type": "stream",
     "text": [
      "Es un número primo\n"
     ]
    }
   ],
   "source": [
    "numero1 = int(input(\"Digite un valor: \"))\n",
    "\n",
    "for i in range(1,numero1 +1):\n",
    "    \t\n",
    "    if i==1 or i==numero:\n",
    "        continue\n",
    "if numero1 % i==0:\n",
    "    print(\"Es un número primo\")\n",
    "\n",
    "else: \n",
    "    print(\"No es número primo\")\n",
    "\n",
    "\n"
   ]
  },
  {
   "cell_type": "code",
   "execution_count": null,
   "metadata": {},
   "outputs": [],
   "source": []
  }
 ],
 "metadata": {
  "kernelspec": {
   "display_name": "Python 3.9.13 ('base')",
   "language": "python",
   "name": "python3"
  },
  "language_info": {
   "codemirror_mode": {
    "name": "ipython",
    "version": 3
   },
   "file_extension": ".py",
   "mimetype": "text/x-python",
   "name": "python",
   "nbconvert_exporter": "python",
   "pygments_lexer": "ipython3",
   "version": "3.9.13"
  },
  "orig_nbformat": 4,
  "vscode": {
   "interpreter": {
    "hash": "3924ed30227e34da5a4c68c183321c9d32f94e2bda1bf4a622c4e1f08e1e696d"
   }
  }
 },
 "nbformat": 4,
 "nbformat_minor": 2
}
