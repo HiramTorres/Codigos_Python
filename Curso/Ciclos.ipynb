{
 "cells": [
  {
   "cell_type": "markdown",
   "metadata": {},
   "source": [
    "# While "
   ]
  },
  {
   "cell_type": "code",
   "execution_count": 7,
   "metadata": {},
   "outputs": [
    {
     "output_type": "stream",
     "name": "stdout",
     "text": [
      "0\n1\n2\n3\n4\nestamos en el numero 5\n5\n6\n7\n8\n9\nel while a terminado\n"
     ]
    }
   ],
   "source": [
    "# se usa cuando no sabemos cuantos ciclos o iteraciones haremos \n",
    "\n",
    "'''while condicion :\n",
    "    código\n",
    "else:\n",
    "    código'''\n",
    "contador = 0\n",
    "\n",
    "while contador < 10:\n",
    "    print(contador)\n",
    "    contador +=1\n",
    "    if contador ==5:\n",
    "        print(\"estamos en el numero 5\")\n",
    "else:\n",
    "    print(\"el while a terminado\")\n",
    "    \n"
   ]
  },
  {
   "cell_type": "code",
   "execution_count": 16,
   "metadata": {},
   "outputs": [],
   "source": [
    "# existen dos palabras  \n",
    "# continue y break "
   ]
  },
  {
   "cell_type": "code",
   "execution_count": 17,
   "metadata": {},
   "outputs": [
    {
     "name": "stdout",
     "output_type": "stream",
     "text": [
      "0\n",
      "1\n",
      "2\n",
      "3\n",
      "4\n",
      "estamos en el numero 5\n",
      "5\n"
     ]
    }
   ],
   "source": [
    "contador = 0\n",
    "\n",
    "while contador < 10:\n",
    "    print(contador)\n",
    "    contador +=1\n",
    "    if contador ==5:\n",
    "        print(\"estamos en el numero 5\")\n",
    "        continue\n",
    "    if contador ==6:\n",
    "        break\n",
    "else:\n",
    "    print(\"el while a terminado\")\n",
    "    "
   ]
  },
  {
   "cell_type": "code",
   "execution_count": 18,
   "metadata": {},
   "outputs": [
    {
     "name": "stdout",
     "output_type": "stream",
     "text": [
      "0\n",
      "1\n",
      "2\n",
      "3\n",
      "4\n",
      "estamos en el numero 5\n",
      "5\n",
      "el while a terminado\n"
     ]
    }
   ],
   "source": [
    "# tambien se puede finalizar el ciclo de esta forma \n",
    "\n",
    "contador = 0\n",
    "bandera = True\n",
    "\n",
    "while bandera:\n",
    "    print(contador)\n",
    "    contador +=1\n",
    "    if contador ==5:\n",
    "        print(\"estamos en el numero 5\")\n",
    "        continue\n",
    "    if contador ==6:\n",
    "        bandera=False\n",
    "else:\n",
    "    print(\"el while a terminado\")"
   ]
  },
  {
   "cell_type": "markdown",
   "metadata": {},
   "source": [
    "# For"
   ]
  },
  {
   "cell_type": "code",
   "execution_count": 19,
   "metadata": {},
   "outputs": [
    {
     "name": "stdout",
     "output_type": "stream",
     "text": [
      "1\n",
      "2\n",
      "3\n",
      "4\n",
      "5\n",
      "6\n",
      "7\n",
      "8\n",
      "9\n",
      "10\n"
     ]
    }
   ],
   "source": [
    "# se utiliza cuando sepamos cuantas iteraciones o ciclos haremos \n",
    "\n",
    "lista = [1,2,3,4,5,6,7,8,9,10]\n",
    "for valor in lista :\n",
    "    print(valor)"
   ]
  },
  {
   "cell_type": "code",
   "execution_count": 20,
   "metadata": {},
   "outputs": [
    {
     "name": "stdout",
     "output_type": "stream",
     "text": [
      "0\n",
      "1\n",
      "2\n",
      "3\n",
      "4\n",
      "5\n",
      "6\n",
      "7\n",
      "8\n",
      "9\n",
      "10\n"
     ]
    }
   ],
   "source": [
    "Nnumero = range(0,11)\n",
    "for valor in Nnumero :\n",
    "    print(valor)"
   ]
  },
  {
   "cell_type": "code",
   "execution_count": 2,
   "metadata": {},
   "outputs": [
    {
     "output_type": "error",
     "ename": "NameError",
     "evalue": "name 'lista' is not defined",
     "traceback": [
      "\u001b[1;31m---------------------------------------------------------------------------\u001b[0m",
      "\u001b[1;31mNameError\u001b[0m                                 Traceback (most recent call last)",
      "\u001b[1;32m<ipython-input-2-dc75879d9b55>\u001b[0m in \u001b[0;36m<module>\u001b[1;34m\u001b[0m\n\u001b[0;32m      1\u001b[0m \u001b[0mlista2\u001b[0m \u001b[1;33m=\u001b[0m \u001b[1;36m0\u001b[0m\u001b[1;33m\u001b[0m\u001b[1;33m\u001b[0m\u001b[0m\n\u001b[0;32m      2\u001b[0m \u001b[0mindice\u001b[0m \u001b[1;33m=\u001b[0m \u001b[1;36m0\u001b[0m\u001b[1;33m\u001b[0m\u001b[1;33m\u001b[0m\u001b[0m\n\u001b[1;32m----> 3\u001b[1;33m \u001b[1;32mfor\u001b[0m \u001b[0mvalor\u001b[0m \u001b[1;32min\u001b[0m \u001b[0mlista\u001b[0m\u001b[1;33m:\u001b[0m\u001b[1;33m\u001b[0m\u001b[1;33m\u001b[0m\u001b[0m\n\u001b[0m\u001b[0;32m      4\u001b[0m     \u001b[0mprint\u001b[0m\u001b[1;33m(\u001b[0m\u001b[0mvalor\u001b[0m\u001b[1;33m,\u001b[0m\u001b[1;34m\"tiene el indice\"\u001b[0m\u001b[1;33m,\u001b[0m\u001b[0mlista2\u001b[0m\u001b[1;33m)\u001b[0m\u001b[1;33m\u001b[0m\u001b[1;33m\u001b[0m\u001b[0m\n\u001b[0;32m      5\u001b[0m \u001b[1;33m\u001b[0m\u001b[0m\n",
      "\u001b[1;31mNameError\u001b[0m: name 'lista' is not defined"
     ]
    }
   ],
   "source": [
    "lista2 = 0\n",
    "indice = 0\n",
    "for valor in lista:\n",
    "    print(valor,\"tiene el indice\",lista2)\n",
    "    \n",
    "indice +=1\n",
    "lista2 +=1"
   ]
  },
  {
   "cell_type": "code",
   "execution_count": 22,
   "metadata": {},
   "outputs": [
    {
     "name": "stdout",
     "output_type": "stream",
     "text": [
      "1 tiene el indice 0\n",
      "2 tiene el indice 1\n",
      "3 tiene el indice 2\n",
      "4 tiene el indice 3\n",
      "5 tiene el indice 4\n",
      "6 tiene el indice 5\n",
      "7 tiene el indice 6\n",
      "8 tiene el indice 7\n",
      "9 tiene el indice 8\n",
      "10 tiene el indice 9\n"
     ]
    }
   ],
   "source": [
    "indice = 0\n",
    "for valor in lista: \n",
    "    print(valor,\"tiene el indice\",indice)\n",
    "    indice +=1"
   ]
  },
  {
   "cell_type": "code",
   "execution_count": 23,
   "metadata": {},
   "outputs": [
    {
     "name": "stdout",
     "output_type": "stream",
     "text": [
      "1 tiene el valor 0\n",
      "2 tiene el valor 1\n",
      "3 tiene el valor 2\n",
      "4 tiene el valor 3\n",
      "5 tiene el valor 4\n",
      "6 tiene el valor 5\n",
      "7 tiene el valor 6\n",
      "8 tiene el valor 7\n",
      "9 tiene el valor 8\n",
      "10 tiene el valor 9\n"
     ]
    }
   ],
   "source": [
    "for indice, valor in enumerate(lista):\n",
    "    print(valor,\"tiene el valor\",indice)"
   ]
  },
  {
   "cell_type": "code",
   "execution_count": 26,
   "metadata": {},
   "outputs": [
    {
     "name": "stdout",
     "output_type": "stream",
     "text": [
      "0\n",
      "1\n",
      "2\n",
      "3\n",
      "4\n",
      "5\n",
      "6\n",
      "7\n",
      "8\n",
      "9\n"
     ]
    }
   ],
   "source": [
    "for valor in range(0, len(lista)):\n",
    "    print(valor)"
   ]
  },
  {
   "cell_type": "code",
   "execution_count": 28,
   "metadata": {},
   "outputs": [
    {
     "name": "stdout",
     "output_type": "stream",
     "text": [
      "c\n",
      "u\n",
      "r\n",
      "s\n",
      "o\n",
      " \n",
      "d\n",
      "e\n",
      " \n",
      "c\n",
      "o\n",
      "d\n",
      "i\n",
      "g\n",
      "o\n",
      " \n",
      "f\n",
      "a\n",
      "c\n",
      "i\n",
      "l\n",
      "i\n",
      "t\n",
      "o\n"
     ]
    }
   ],
   "source": [
    "for valor in \"curso de codigo facilito\":\n",
    "    print(valor)   # las strings son iterables pero los numeros no"
   ]
  },
  {
   "cell_type": "code",
   "execution_count": 32,
   "metadata": {},
   "outputs": [
    {
     "name": "stdout",
     "output_type": "stream",
     "text": [
      "la llave a tiene el valor de 10\n",
      "la llave b tiene el valor de 20\n",
      "la llave c tiene el valor de 500\n"
     ]
    }
   ],
   "source": [
    "diccionario = {\"a\":10,\"b\":20,\"c\":500}\n",
    "for llave, valor in diccionario.items(): #puede ir diccionario.keys y diccionario.values\n",
    "    print(\"la llave\",llave,\"tiene el valor de\",valor)"
   ]
  },
  {
   "cell_type": "code",
   "execution_count": 10,
   "metadata": {},
   "outputs": [
    {
     "output_type": "stream",
     "name": "stdout",
     "text": [
      "(10, 20)\n['strings', 'strings']\n(True, False)\n"
     ]
    }
   ],
   "source": [
    "valores = ((10,20),[\"strings\",\"strings\"],(True,False)) #para objetos que almacenan otros y a su vez otros objetos dentro de los mismo \n",
    "for valor in valores : \n",
    "    print(valor)"
   ]
  },
  {
   "cell_type": "code",
   "execution_count": 14,
   "metadata": {},
   "outputs": [
    {
     "output_type": "stream",
     "name": "stdout",
     "text": [
      "10 20\nstrings strings\nTrue False\n"
     ]
    }
   ],
   "source": [
    "valores = ((10,20),[\"strings\",\"strings\"],(True,False)) #para objetos que almacenan otros y a su vez otros objetos dentro de los mismo \n",
    "for valor1, valor2 in valores : \n",
    "    print(valor1, valor2)\n",
    " "
   ]
  },
  {
   "cell_type": "code",
   "execution_count": null,
   "metadata": {},
   "outputs": [],
   "source": []
  }
 ],
 "metadata": {
  "kernelspec": {
   "name": "python385jvsc74a57bd03f800561dde6209f0c647b1ec24b295364b37801e2a63d392a491285ef4d5a88",
   "display_name": "Python 3.8.5 64-bit ('base': conda)"
  },
  "language_info": {
   "codemirror_mode": {
    "name": "ipython",
    "version": 3
   },
   "file_extension": ".py",
   "mimetype": "text/x-python",
   "name": "python",
   "nbconvert_exporter": "python",
   "pygments_lexer": "ipython3",
   "version": "3.8.5"
  }
 },
 "nbformat": 4,
 "nbformat_minor": 4
}