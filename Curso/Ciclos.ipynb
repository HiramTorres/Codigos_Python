{
 "cells": [
  {
   "cell_type": "markdown",
   "metadata": {},
   "source": [
    "# While "
   ]
  },
  {
   "cell_type": "code",
   "execution_count": 15,
   "metadata": {},
   "outputs": [
    {
     "name": "stdout",
     "output_type": "stream",
     "text": [
      "0\n",
      "1\n",
      "2\n",
      "3\n",
      "4\n",
      "estamos en el numero 5\n",
      "5\n",
      "6\n",
      "7\n",
      "8\n",
      "9\n",
      "el while a terminado\n"
     ]
    }
   ],
   "source": [
    "# se usa cuando no sabemos cuantos ciclos o iteraciones haremos \n",
    "\n",
    "'''while condicion :\n",
    "    código\n",
    "else:\n",
    "    código'''\n",
    "contador = 0\n",
    "\n",
    "while contador < 10:\n",
    "    print(contador)\n",
    "    contador +=1\n",
    "    if contador ==5:\n",
    "        print(\"estamos en el numero 5\")\n",
    "else:\n",
    "    print(\"el while a terminado\")\n",
    "    \n"
   ]
  },
  {
   "cell_type": "code",
   "execution_count": 16,
   "metadata": {},
   "outputs": [],
   "source": [
    "# existen dos palabras  \n",
    "# continue y break "
   ]
  },
  {
   "cell_type": "code",
   "execution_count": 17,
   "metadata": {},
   "outputs": [
    {
     "name": "stdout",
     "output_type": "stream",
     "text": [
      "0\n",
      "1\n",
      "2\n",
      "3\n",
      "4\n",
      "estamos en el numero 5\n",
      "5\n"
     ]
    }
   ],
   "source": [
    "contador = 0\n",
    "\n",
    "while contador < 10:\n",
    "    print(contador)\n",
    "    contador +=1\n",
    "    if contador ==5:\n",
    "        print(\"estamos en el numero 5\")\n",
    "        continue\n",
    "    if contador ==6:\n",
    "        break\n",
    "else:\n",
    "    print(\"el while a terminado\")\n",
    "    "
   ]
  },
  {
   "cell_type": "code",
   "execution_count": 18,
   "metadata": {},
   "outputs": [
    {
     "name": "stdout",
     "output_type": "stream",
     "text": [
      "0\n",
      "1\n",
      "2\n",
      "3\n",
      "4\n",
      "estamos en el numero 5\n",
      "5\n",
      "el while a terminado\n"
     ]
    }
   ],
   "source": [
    "# tambien se puede finalizar el ciclo de esta forma \n",
    "\n",
    "contador = 0\n",
    "bandera = True\n",
    "\n",
    "while bandera:\n",
    "    print(contador)\n",
    "    contador +=1\n",
    "    if contador ==5:\n",
    "        print(\"estamos en el numero 5\")\n",
    "        continue\n",
    "    if contador ==6:\n",
    "        bandera=False\n",
    "else:\n",
    "    print(\"el while a terminado\")"
   ]
  },
  {
   "cell_type": "markdown",
   "metadata": {},
   "source": [
    "# For"
   ]
  },
  {
   "cell_type": "code",
   "execution_count": 19,
   "metadata": {},
   "outputs": [
    {
     "name": "stdout",
     "output_type": "stream",
     "text": [
      "1\n",
      "2\n",
      "3\n",
      "4\n",
      "5\n",
      "6\n",
      "7\n",
      "8\n",
      "9\n",
      "10\n"
     ]
    }
   ],
   "source": [
    "# se utiliza cuando sepamos cuantas iteraciones o ciclos haremos \n",
    "\n",
    "lista = [1,2,3,4,5,6,7,8,9,10]\n",
    "for valor in lista :\n",
    "    print(valor)"
   ]
  },
  {
   "cell_type": "code",
   "execution_count": 20,
   "metadata": {},
   "outputs": [
    {
     "name": "stdout",
     "output_type": "stream",
     "text": [
      "0\n",
      "1\n",
      "2\n",
      "3\n",
      "4\n",
      "5\n",
      "6\n",
      "7\n",
      "8\n",
      "9\n",
      "10\n"
     ]
    }
   ],
   "source": [
    "Nnumero = range(0,11)\n",
    "for valor in Nnumero :\n",
    "    print(valor)"
   ]
  },
  {
   "cell_type": "code",
   "execution_count": 21,
   "metadata": {},
   "outputs": [
    {
     "name": "stdout",
     "output_type": "stream",
     "text": [
      "1 tiene el indice 0\n",
      "2 tiene el indice 0\n",
      "3 tiene el indice 0\n",
      "4 tiene el indice 0\n",
      "5 tiene el indice 0\n",
      "6 tiene el indice 0\n",
      "7 tiene el indice 0\n",
      "8 tiene el indice 0\n",
      "9 tiene el indice 0\n",
      "10 tiene el indice 0\n"
     ]
    }
   ],
   "source": [
    "lista2 = 0\n",
    "indice = 0\n",
    "for valor in lista:\n",
    "    print(valor,\"tiene el indice\",lista2)\n",
    "indice +=1\n",
    "lista2 +=1"
   ]
  },
  {
   "cell_type": "code",
   "execution_count": 22,
   "metadata": {},
   "outputs": [
    {
     "name": "stdout",
     "output_type": "stream",
     "text": [
      "1 tiene el indice 0\n",
      "2 tiene el indice 1\n",
      "3 tiene el indice 2\n",
      "4 tiene el indice 3\n",
      "5 tiene el indice 4\n",
      "6 tiene el indice 5\n",
      "7 tiene el indice 6\n",
      "8 tiene el indice 7\n",
      "9 tiene el indice 8\n",
      "10 tiene el indice 9\n"
     ]
    }
   ],
   "source": [
    "indice = 0\n",
    "for valor in lista: \n",
    "    print(valor,\"tiene el indice\",indice)\n",
    "    indice +=1"
   ]
  },
  {
   "cell_type": "code",
   "execution_count": 23,
   "metadata": {},
   "outputs": [
    {
     "name": "stdout",
     "output_type": "stream",
     "text": [
      "1 tiene el valor 0\n",
      "2 tiene el valor 1\n",
      "3 tiene el valor 2\n",
      "4 tiene el valor 3\n",
      "5 tiene el valor 4\n",
      "6 tiene el valor 5\n",
      "7 tiene el valor 6\n",
      "8 tiene el valor 7\n",
      "9 tiene el valor 8\n",
      "10 tiene el valor 9\n"
     ]
    }
   ],
   "source": [
    "for indice, valor in enumerate(lista):\n",
    "    print(valor,\"tiene el valor\",indice)"
   ]
  },
  {
   "cell_type": "code",
   "execution_count": 26,
   "metadata": {},
   "outputs": [
    {
     "name": "stdout",
     "output_type": "stream",
     "text": [
      "0\n",
      "1\n",
      "2\n",
      "3\n",
      "4\n",
      "5\n",
      "6\n",
      "7\n",
      "8\n",
      "9\n"
     ]
    }
   ],
   "source": [
    "for valor in range(0, len(lista)):\n",
    "    print(valor)"
   ]
  },
  {
   "cell_type": "code",
   "execution_count": 28,
   "metadata": {},
   "outputs": [
    {
     "name": "stdout",
     "output_type": "stream",
     "text": [
      "c\n",
      "u\n",
      "r\n",
      "s\n",
      "o\n",
      " \n",
      "d\n",
      "e\n",
      " \n",
      "c\n",
      "o\n",
      "d\n",
      "i\n",
      "g\n",
      "o\n",
      " \n",
      "f\n",
      "a\n",
      "c\n",
      "i\n",
      "l\n",
      "i\n",
      "t\n",
      "o\n"
     ]
    }
   ],
   "source": [
    "for valor in \"curso de codigo facilito\":\n",
    "    print(valor)   # las strings son iterables pero los numeros no"
   ]
  },
  {
   "cell_type": "code",
   "execution_count": 32,
   "metadata": {},
   "outputs": [
    {
     "name": "stdout",
     "output_type": "stream",
     "text": [
      "la llave a tiene el valor de 10\n",
      "la llave b tiene el valor de 20\n",
      "la llave c tiene el valor de 500\n"
     ]
    }
   ],
   "source": [
    "diccionario = {\"a\":10,\"b\":20,\"c\":500}\n",
    "for llave, valor in diccionario.items(): #puede ir diccionario.keys y diccionario.values\n",
    "    print(\"la llave\",llave,\"tiene el valor de\",valor)"
   ]
  },
  {
   "cell_type": "code",
   "execution_count": null,
   "metadata": {},
   "outputs": [],
   "source": []
  }
 ],
 "metadata": {
  "kernelspec": {
   "display_name": "Python 3",
   "language": "python",
   "name": "python3"
  },
  "language_info": {
   "codemirror_mode": {
    "name": "ipython",
    "version": 3
   },
   "file_extension": ".py",
   "mimetype": "text/x-python",
   "name": "python",
   "nbconvert_exporter": "python",
   "pygments_lexer": "ipython3",
   "version": "3.8.5"
  }
 },
 "nbformat": 4,
 "nbformat_minor": 4
}
