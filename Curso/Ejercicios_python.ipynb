{
 "cells": [
  {
   "cell_type": "markdown",
   "metadata": {},
   "source": [
    "## Ejercicios python "
   ]
  },
  {
   "cell_type": "code",
   "execution_count": 1,
   "metadata": {},
   "outputs": [
    {
     "name": "stdin",
     "output_type": "stream",
     "text": [
      "ingresa tu numbre:  Hiram Torres\n",
      "ingresa un numero:  3\n"
     ]
    },
    {
     "name": "stdout",
     "output_type": "stream",
     "text": [
      "Hiram Torres\n",
      "Hiram Torres\n",
      "Hiram Torres\n",
      "\n"
     ]
    }
   ],
   "source": [
    "name = input(\"ingresa tu numbre: \" )\n",
    "num = input(\"ingresa un numero: \" )\n",
    "\n",
    "result = (name + \"\\n\" )* int(num)\n",
    "print(result)"
   ]
  },
  {
   "cell_type": "code",
   "execution_count": 2,
   "metadata": {},
   "outputs": [
    {
     "name": "stdin",
     "output_type": "stream",
     "text": [
      "ingresa tu nombre:   Hiram \n",
      "ingresa primer apellido:   Torres\n"
     ]
    },
    {
     "name": "stdout",
     "output_type": "stream",
     "text": [
      "hiram torres\n",
      "HIRAM TORRES\n",
      "Hiram Torres\n",
      "\n"
     ]
    }
   ],
   "source": [
    "fname = input(\"ingresa tu nombre:  \" )\n",
    "lname = input(\"ingresa primer apellido:  \")\n",
    "\n",
    "nombre_completo = fname + lname\n",
    "nombre_completo_m = nombre_completo.lower()\n",
    "nombre_completo_M = nombre_completo.upper()\n",
    "nombre_completo_T = nombre_completo.title()\n",
    "result = nombre_completo_m + \"\\n\" + nombre_completo_M + \"\\n\" + nombre_completo_T + \"\\n\"\n",
    "print(result)"
   ]
  },
  {
   "cell_type": "code",
   "execution_count": 8,
   "metadata": {},
   "outputs": [
    {
     "name": "stdin",
     "output_type": "stream",
     "text": [
      "Ingresa tu nombre :  Hiram\n"
     ]
    },
    {
     "name": "stdout",
     "output_type": "stream",
     "text": [
      "HIRAM tiene 5 letras\n"
     ]
    }
   ],
   "source": [
    "Name = input(\"Ingresa tu nombre : \")\n",
    "longitud = len(Name)\n",
    "print(Name.upper(), \"tiene\", longitud,\"letras\") "
   ]
  },
  {
   "cell_type": "code",
   "execution_count": 11,
   "metadata": {},
   "outputs": [
    {
     "name": "stdin",
     "output_type": "stream",
     "text": [
      "inserte numero de telefono:  +52-4184916-98\n"
     ]
    },
    {
     "name": "stdout",
     "output_type": "stream",
     "text": [
      "El numero de telefono es : 4184916\n"
     ]
    }
   ],
   "source": [
    "tel = input(\"inserte numero de telefono: \")\n",
    "print(\"El numero de telefono es :\",tel[4:11] )\n",
    "\n"
   ]
  },
  {
   "cell_type": "code",
   "execution_count": 15,
   "metadata": {},
   "outputs": [
    {
     "name": "stdin",
     "output_type": "stream",
     "text": [
      "inserte frase : Hiram Isai Torres Espinosa\n"
     ]
    },
    {
     "name": "stdout",
     "output_type": "stream",
     "text": [
      "asonipsE serroT iasI mariH\n"
     ]
    }
   ],
   "source": [
    "frase = input(\"inserte frase :\")\n",
    "frase_invertida= frase[::-1]\n",
    "print(frase_invertida)"
   ]
  },
  {
   "cell_type": "code",
   "execution_count": null,
   "metadata": {},
   "outputs": [],
   "source": []
  }
 ],
 "metadata": {
  "kernelspec": {
   "display_name": "Python 3",
   "language": "python",
   "name": "python3"
  },
  "language_info": {
   "codemirror_mode": {
    "name": "ipython",
    "version": 3
   },
   "file_extension": ".py",
   "mimetype": "text/x-python",
   "name": "python",
   "nbconvert_exporter": "python",
   "pygments_lexer": "ipython3",
   "version": "3.8.3"
  }
 },
 "nbformat": 4,
 "nbformat_minor": 4
}
