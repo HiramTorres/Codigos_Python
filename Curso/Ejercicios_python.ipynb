{
 "cells": [
  {
   "cell_type": "markdown",
   "metadata": {},
   "source": [
    "## Ejercicios python "
   ]
  },
  {
   "cell_type": "code",
   "execution_count": 1,
   "metadata": {},
   "outputs": [
    {
     "name": "stdin",
     "output_type": "stream",
     "text": [
      "ingresa tu numbre:  Hiram Torres\n",
      "ingresa un numero:  3\n"
     ]
    },
    {
     "name": "stdout",
     "output_type": "stream",
     "text": [
      "Hiram Torres\n",
      "Hiram Torres\n",
      "Hiram Torres\n",
      "\n"
     ]
    }
   ],
   "source": [
    "name = input(\"ingresa tu numbre: \" )\n",
    "num = input(\"ingresa un numero: \" )\n",
    "\n",
    "result = (name + \"\\n\" )* int(num)\n",
    "print(result)"
   ]
  },
  {
   "cell_type": "code",
   "execution_count": 2,
   "metadata": {},
   "outputs": [
    {
     "name": "stdin",
     "output_type": "stream",
     "text": [
      "ingresa tu nombre:   Hiram \n",
      "ingresa primer apellido:   Torres\n"
     ]
    },
    {
     "name": "stdout",
     "output_type": "stream",
     "text": [
      "hiram torres\n",
      "HIRAM TORRES\n",
      "Hiram Torres\n",
      "\n"
     ]
    }
   ],
   "source": [
    "fname = input(\"ingresa tu nombre:  \" )\n",
    "lname = input(\"ingresa primer apellido:  \")\n",
    "\n",
    "nombre_completo = fname + lname\n",
    "nombre_completo_m = nombre_completo.lower()\n",
    "nombre_completo_M = nombre_completo.upper()\n",
    "nombre_completo_T = nombre_completo.title()\n",
    "result = nombre_completo_m + \"\\n\" + nombre_completo_M + \"\\n\" + nombre_completo_T + \"\\n\"\n",
    "print(result)"
   ]
  },
  {
   "cell_type": "code",
   "execution_count": 8,
   "metadata": {},
   "outputs": [
    {
     "name": "stdin",
     "output_type": "stream",
     "text": [
      "Ingresa tu nombre :  Hiram\n"
     ]
    },
    {
     "name": "stdout",
     "output_type": "stream",
     "text": [
      "HIRAM tiene 5 letras\n"
     ]
    }
   ],
   "source": [
    "Name = input(\"Ingresa tu nombre : \")\n",
    "longitud = len(Name)\n",
    "print(Name.upper(), \"tiene\", longitud,\"letras\") "
   ]
  },
  {
   "cell_type": "code",
   "execution_count": 11,
   "metadata": {},
   "outputs": [
    {
     "name": "stdin",
     "output_type": "stream",
     "text": [
      "inserte numero de telefono:  +52-4184916-98\n"
     ]
    },
    {
     "name": "stdout",
     "output_type": "stream",
     "text": [
      "El numero de telefono es : 4184916\n"
     ]
    }
   ],
   "source": [
    "tel = input(\"inserte numero de telefono: \")\n",
    "print(\"El numero de telefono es :\",tel[4:11] )\n",
    "\n"
   ]
  },
  {
   "cell_type": "code",
   "execution_count": 15,
   "metadata": {},
   "outputs": [
    {
     "name": "stdin",
     "output_type": "stream",
     "text": [
      "inserte frase : Hiram Isai Torres Espinosa\n"
     ]
    },
    {
     "name": "stdout",
     "output_type": "stream",
     "text": [
      "asonipsE serroT iasI mariH\n"
     ]
    }
   ],
   "source": [
    "frase = input(\"inserte frase :\")\n",
    "frase_invertida= frase[::-1]\n",
    "print(frase_invertida)"
   ]
  },
  {
   "source": [
    "## Ejercicio de ciclos y condicionales  "
   ],
   "cell_type": "markdown",
   "metadata": {}
  },
  {
   "cell_type": "code",
   "execution_count": 11,
   "metadata": {},
   "outputs": [
    {
     "output_type": "stream",
     "name": "stdout",
     "text": [
      "calculo\n"
     ]
    }
   ],
   "source": [
    "calificaciones = {\"calculo\": 10, \"algreba\" : 9 , \"Español\" : 6.87 , \"Quimica\" : 5.23}\n",
    "Mayor_calif = max(calificaciones)\n",
    "print(Mayor_calif)"
   ]
  },
  {
   "cell_type": "code",
   "execution_count": 18,
   "metadata": {},
   "outputs": [
    {
     "output_type": "stream",
     "name": "stdout",
     "text": [
      "Suma es igual a : 676\nEl promedio es igual a : 67.6\nEl numero mayor es : 125\nEl numero menor es : 10\n"
     ]
    }
   ],
   "source": [
    "numeros = [10,40,68,92,54,120,65,45,57,125]\n",
    "Suma = sum(numeros,0)\n",
    "longitud = len(numeros)\n",
    "promedio = Suma/longitud\n",
    "num_mayor = max(numeros)\n",
    "num_menor = min(numeros)\n",
    "\n",
    "print(\"Suma es igual a :\", Suma)\n",
    "print(\"El promedio es igual a :\",promedio)\n",
    "print(\"El numero mayor es :\",num_mayor)\n",
    "print(\"El numero menor es :\",num_menor)\n"
   ]
  },
  {
   "cell_type": "code",
   "execution_count": null,
   "metadata": {},
   "outputs": [],
   "source": []
  }
 ],
 "metadata": {
  "kernelspec": {
   "display_name": "Python 3",
   "language": "python",
   "name": "python3"
  },
  "language_info": {
   "codemirror_mode": {
    "name": "ipython",
    "version": 3
   },
   "file_extension": ".py",
   "mimetype": "text/x-python",
   "name": "python",
   "nbconvert_exporter": "python",
   "pygments_lexer": "ipython3",
   "version": "3.8.5-final"
  }
 },
 "nbformat": 4,
 "nbformat_minor": 4
}