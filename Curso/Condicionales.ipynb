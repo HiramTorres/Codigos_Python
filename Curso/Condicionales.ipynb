{
 "metadata": {
  "language_info": {
   "codemirror_mode": {
    "name": "ipython",
    "version": 3
   },
   "file_extension": ".py",
   "mimetype": "text/x-python",
   "name": "python",
   "nbconvert_exporter": "python",
   "pygments_lexer": "ipython3",
   "version": "3.8.5-final"
  },
  "orig_nbformat": 2,
  "kernelspec": {
   "name": "python3",
   "display_name": "Python 3.8.5 64-bit (conda)",
   "metadata": {
    "interpreter": {
     "hash": "3f800561dde6209f0c647b1ec24b295364b37801e2a63d392a491285ef4d5a88"
    }
   }
  }
 },
 "nbformat": 4,
 "nbformat_minor": 2,
 "cells": [
  {
   "source": [
    "# Condicionales if "
   ],
   "cell_type": "markdown",
   "metadata": {}
  },
  {
   "cell_type": "code",
   "execution_count": 11,
   "metadata": {},
   "outputs": [
    {
     "output_type": "stream",
     "name": "stdout",
     "text": [
      "Alto parcial\n"
     ]
    }
   ],
   "source": [
    "color_luz = \"amarillo\"\n",
    "if color_luz == \"verde\":\n",
    "    print(\"Puede avanzar\")\n",
    "elif color_luz == \"amarillo\":\n",
    "    print(\"Alto parcial\")\n",
    "else :\n",
    "    print(\"Detente\")"
   ]
  },
  {
   "cell_type": "code",
   "execution_count": 12,
   "metadata": {},
   "outputs": [
    {
     "output_type": "stream",
     "name": "stdout",
     "text": [
      "Es verdadero\nEs falso\n"
     ]
    }
   ],
   "source": [
    "variable = True\n",
    "if variable:\n",
    "    print(\"Es verdadero\")\n",
    "else:\n",
    "    print(\"Es falso\")\n",
    "\n",
    "#como False, \"\",'',[],(),{},0,0.0\n",
    "\n",
    "if []:\n",
    "    print(\"Es verdadero\")\n",
    "else:\n",
    "    print(\"Es falso\")\n"
   ]
  }
 ]
}