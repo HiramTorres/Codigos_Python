{
 "cells": [
  {
   "cell_type": "markdown",
   "metadata": {},
   "source": [
    "# Diccionarios \n"
   ]
  },
  {
   "cell_type": "code",
   "execution_count": 2,
   "metadata": {},
   "outputs": [],
   "source": [
    "#Los diccionarios se pueden describir de las dos formas\n",
    "\n",
    "diccionario = {}\n",
    "diccionario = dict()"
   ]
  },
  {
   "cell_type": "code",
   "execution_count": 3,
   "metadata": {},
   "outputs": [
    {
     "name": "stdout",
     "output_type": "stream",
     "text": [
      "{'a': 55, 'c': False}\n"
     ]
    }
   ],
   "source": [
    "diccionario = { \"a\" :55 , \"c\" : False} # el diccionario lleva una llave \"a\" que tiene el valor del segundo digito \"55\"\n",
    "print(diccionario) #las claves deben de ser inmutables"
   ]
  },
  {
   "cell_type": "code",
   "execution_count": 4,
   "metadata": {},
   "outputs": [
    {
     "name": "stdout",
     "output_type": "stream",
     "text": [
      "{'a': 55, 'c': False, 'b': 45}\n"
     ]
    }
   ],
   "source": [
    "# para agregar un valor al diccionario se acomoda de esta forma \n",
    "\n",
    "diccionario[\"b\"] = 45\n",
    "print(diccionario)"
   ]
  },
  {
   "cell_type": "code",
   "execution_count": 5,
   "metadata": {},
   "outputs": [
    {
     "name": "stdout",
     "output_type": "stream",
     "text": [
      "{'a': 34, 'c': True, 'b': 45}\n"
     ]
    }
   ],
   "source": [
    "# para reemplazar algun valor se acomoda de esta forma \n",
    "\n",
    "diccionario[\"a\"] = 34  # si la llave no se encuentra en el diccionario, se crea un nuevo objeto dentro del mismo, si  \n",
    "diccionario[\"c\"] = True # si  si se encuentra actualiza el valor\n",
    "print(diccionario)"
   ]
  },
  {
   "cell_type": "code",
   "execution_count": 6,
   "metadata": {},
   "outputs": [
    {
     "name": "stdout",
     "output_type": "stream",
     "text": [
      "{'a': 34, 'c': True, 'b': 45}\n",
      "34\n",
      "True\n"
     ]
    }
   ],
   "source": [
    "#para obtener un valor obtenido de alguna llave del diccionario se acomoda :\n",
    "valor = diccionario[\"a\"]\n",
    "valor2 = diccionario[\"c\"]\n",
    "print(diccionario)\n",
    "print(valor)\n",
    "print(valor2)"
   ]
  },
  {
   "cell_type": "code",
   "execution_count": 7,
   "metadata": {},
   "outputs": [
    {
     "name": "stdout",
     "output_type": "stream",
     "text": [
      "No está en el diccionario\n"
     ]
    }
   ],
   "source": [
    "# para buscar si una llave esta o no en el diccionario utilizamos la herramienta de .get\n",
    "#como primer parametro agregaremos la lleve que queremos encontrar y como segundo lo que \n",
    "# que arroje en caso de no encontrar dicha llave \n",
    "\n",
    "Busquedafalsa = diccionario.get(\"v\",\"No está en el diccionario\")\n",
    "print (Busquedafalsa)"
   ]
  },
  {
   "cell_type": "code",
   "execution_count": 8,
   "metadata": {},
   "outputs": [
    {
     "name": "stdout",
     "output_type": "stream",
     "text": [
      "45\n"
     ]
    }
   ],
   "source": [
    "busquedaverdadera = diccionario.get(\"b\",\"No está en el diccionario\")\n",
    "print(busquedaverdadera) # si la llave se encuentra en el diccionario, arrojara el valor que tiene esa llave "
   ]
  },
  {
   "cell_type": "code",
   "execution_count": 9,
   "metadata": {},
   "outputs": [
    {
     "name": "stdout",
     "output_type": "stream",
     "text": [
      "{'c': True, 'b': 45}\n"
     ]
    }
   ],
   "source": [
    "# para eliminar un objeto del diccionario utlizamos la palabra reservada \"del\"\n",
    "\n",
    "del diccionario[\"a\"]\n",
    "print(diccionario)"
   ]
  },
  {
   "cell_type": "code",
   "execution_count": 10,
   "metadata": {},
   "outputs": [
    {
     "name": "stdout",
     "output_type": "stream",
     "text": [
      "45\n",
      "{'c': True}\n",
      "1\n"
     ]
    }
   ],
   "source": [
    "pop = diccionario.pop(\"b\") #pop saca la llave del diccionario y la elimina al momento de sacarla\n",
    "\n",
    "print(pop)\n",
    "print(diccionario)\n",
    "print(len(diccionario))\n"
   ]
  },
  {
   "cell_type": "code",
   "execution_count": 11,
   "metadata": {},
   "outputs": [
    {
     "name": "stdout",
     "output_type": "stream",
     "text": [
      "{}\n"
     ]
    }
   ],
   "source": [
    "# para eliminar todos los valores del diccionario se utiliza : \n",
    "\n",
    "diccionario.clear()\n",
    "print(diccionario)"
   ]
  },
  {
   "cell_type": "code",
   "execution_count": 12,
   "metadata": {},
   "outputs": [
    {
     "name": "stdout",
     "output_type": "stream",
     "text": [
      "dict_keys(['juan', 'Pedro'])\n"
     ]
    }
   ],
   "source": [
    "# para consultar las llaver de un diccionario se utiliza \n",
    "diccionario = {\"juan\": 23, \"Pedro\":12}\n",
    "llaves = diccionario.keys()\n",
    "print(llaves)"
   ]
  },
  {
   "cell_type": "code",
   "execution_count": 13,
   "metadata": {},
   "outputs": [],
   "source": [
    "# para agregar un diccionario a algun otro existen dos formas \n",
    "\n",
    "#forma 1\n",
    "diccionario2 = {2 : \"strings\", \"n\" : 99,\"x\" : True}\n",
    "diccionario[2] = diccionario2[2]\n",
    "diccionario[\"n\"] = diccionario2[\"n\"]\n",
    "diccionario[\"x\"] = diccionario2[\"x\"]\n",
    "#print(diccionario)"
   ]
  },
  {
   "cell_type": "code",
   "execution_count": 14,
   "metadata": {},
   "outputs": [
    {
     "name": "stdout",
     "output_type": "stream",
     "text": [
      "{'juan': 23, 'Pedro': 12, 2: 'strings', 'n': 99, 'x': True}\n"
     ]
    }
   ],
   "source": [
    "# forma 2\n",
    "diccionario.update(diccionario2)\n",
    "print(diccionario)"
   ]
  },
  {
   "cell_type": "code",
   "execution_count": 15,
   "metadata": {},
   "outputs": [
    {
     "name": "stdout",
     "output_type": "stream",
     "text": [
      "juan 23\n",
      "Pedro 12\n",
      "2 strings\n",
      "n 99\n",
      "x True\n"
     ]
    }
   ],
   "source": [
    "for key, value in diccionario.items():\n",
    "    print(key,value)"
   ]
  },
  {
   "cell_type": "markdown",
   "metadata": {},
   "source": [
    "## funcionamiento"
   ]
  },
  {
   "cell_type": "code",
   "execution_count": 16,
   "metadata": {},
   "outputs": [
    {
     "name": "stdout",
     "output_type": "stream",
     "text": [
      "{'nombre': 'codi'}\n"
     ]
    }
   ],
   "source": [
    "diccionario = {}\n",
    "diccionario[\"nombre\"] = \"codi\" # para agregar una llave con su valor \n",
    "print(diccionario)"
   ]
  },
  {
   "cell_type": "code",
   "execution_count": 17,
   "metadata": {},
   "outputs": [
    {
     "data": {
      "text/plain": [
       "'codi'"
      ]
     },
     "execution_count": 17,
     "metadata": {},
     "output_type": "execute_result"
    }
   ],
   "source": [
    "valor = diccionario[\"nombre\"] # para obtener un valor \n",
    "valor"
   ]
  },
  {
   "cell_type": "code",
   "execution_count": 18,
   "metadata": {},
   "outputs": [
    {
     "name": "stdout",
     "output_type": "stream",
     "text": [
      "{'nombre': 90}\n"
     ]
    }
   ],
   "source": [
    "diccionario [\"nombre\"] = 90\n",
    "print(diccionario)"
   ]
  },
  {
   "cell_type": "code",
   "execution_count": 19,
   "metadata": {},
   "outputs": [
    {
     "name": "stdout",
     "output_type": "stream",
     "text": [
      "{'a': 1, 'b': 2, 'c': 3, 'z': 3}\n"
     ]
    }
   ],
   "source": [
    "# si ingresamos una llave que si exista, entoces retornara su valor, de lo contrario creará una nueva llave valor al diccionario\n",
    "diccionario = {\"a\" : 1, \"b\" : 2, \"c\":3}\n",
    "resultado_dos = diccionario.setdefault(\"z\",3)\n",
    "print(diccionario)"
   ]
  },
  {
   "cell_type": "code",
   "execution_count": 20,
   "metadata": {},
   "outputs": [
    {
     "name": "stdout",
     "output_type": "stream",
     "text": [
      "dict_items([('a', 1), ('b', 2), ('c', 3), ('z', 3)])\n"
     ]
    }
   ],
   "source": [
    "resultado_new = diccionario.items()\n",
    "print(resultado_new)"
   ]
  },
  {
   "cell_type": "code",
   "execution_count": 21,
   "metadata": {},
   "outputs": [
    {
     "name": "stdout",
     "output_type": "stream",
     "text": [
      "1, 2, 3, 3, "
     ]
    }
   ],
   "source": [
    "for i in diccionario.values():\n",
    "    print(i, end=\", \")\n"
   ]
  },
  {
   "cell_type": "code",
   "execution_count": 22,
   "metadata": {},
   "outputs": [
    {
     "name": "stdout",
     "output_type": "stream",
     "text": [
      "a, b, c, z, "
     ]
    }
   ],
   "source": [
    "for letras in diccionario.keys():\n",
    "    print(letras, end=\", \" )"
   ]
  },
  {
   "cell_type": "code",
   "execution_count": 23,
   "metadata": {},
   "outputs": [
    {
     "data": {
      "text/plain": [
       "[('a', 1), ('b', 2), ('c', 3), ('z', 3)]"
      ]
     },
     "execution_count": 23,
     "metadata": {},
     "output_type": "execute_result"
    }
   ],
   "source": [
    "list(diccionario.items())"
   ]
  },
  {
   "cell_type": "code",
   "execution_count": 26,
   "metadata": {},
   "outputs": [
    {
     "name": "stdout",
     "output_type": "stream",
     "text": [
      "a, b, c, z, "
     ]
    }
   ],
   "source": [
    "for letras in sorted(diccionario.keys()):\n",
    "    print(letras, end=\", \")"
   ]
  },
  {
   "cell_type": "code",
   "execution_count": 27,
   "metadata": {},
   "outputs": [],
   "source": [
    "municipios_poblacion = {\"Acatic\":23175,\"Acatlan de juarez\": 25250, \"Ameca\": 60386, \"Arandas\": 80609}\n"
   ]
  },
  {
   "cell_type": "code",
   "execution_count": 32,
   "metadata": {},
   "outputs": [
    {
     "name": "stdout",
     "output_type": "stream",
     "text": [
      "['Acatic', 'Acatlan de juarez', 'Ameca', 'Arandas'], "
     ]
    }
   ],
   "source": [
    "llaves = list(municipios_poblacion.keys())\n",
    "valores = list(municipios_poblacion.values())\n",
    "items = list(municipios_poblacion.items())\n",
    "print(llaves, end=\", \",)\n"
   ]
  },
  {
   "cell_type": "code",
   "execution_count": 33,
   "metadata": {},
   "outputs": [
    {
     "name": "stdout",
     "output_type": "stream",
     "text": [
      "[23175, 25250, 60386, 80609], "
     ]
    }
   ],
   "source": [
    "print(valores, end=\", \")\n"
   ]
  },
  {
   "cell_type": "code",
   "execution_count": 34,
   "metadata": {},
   "outputs": [
    {
     "name": "stdout",
     "output_type": "stream",
     "text": [
      "[('Acatic', 23175), ('Acatlan de juarez', 25250), ('Ameca', 60386), ('Arandas', 80609)], "
     ]
    }
   ],
   "source": [
    "print(items, end=\", \")"
   ]
  },
  {
   "cell_type": "markdown",
   "metadata": {},
   "source": [
    "El método **split** se utiliza para dividir o separar un string en partes "
   ]
  },
  {
   "cell_type": "code",
   "execution_count": 15,
   "metadata": {},
   "outputs": [],
   "source": [
    "cuento = ('Lorem Ipsum is simply dummy text of the printing'\n",
    "          'and typesetting industry. Lorem Ipsum has been the industrys'\n",
    "          'standard dummy text ever since the 1500s, when an unknown printer took a galley')\n"
   ]
  },
  {
   "cell_type": "code",
   "execution_count": 16,
   "metadata": {},
   "outputs": [],
   "source": [
    "\n",
    "palcont = {}"
   ]
  },
  {
   "cell_type": "code",
   "execution_count": 17,
   "metadata": {},
   "outputs": [
    {
     "name": "stdout",
     "output_type": "stream",
     "text": [
      "palabra      Repreticiones\n",
      "1500s,           1\n",
      "Ipsum            2\n",
      "Lorem            2\n",
      "a                1\n",
      "an               1\n",
      "been             1\n",
      "dummy            2\n",
      "ever             1\n",
      "galley           1\n",
      "has              1\n",
      "industry.        1\n",
      "industrysstandard 1\n",
      "is               1\n",
      "of               1\n",
      "printer          1\n",
      "printingand      1\n",
      "simply           1\n",
      "since            1\n",
      "text             2\n",
      "the              3\n",
      "took             1\n",
      "typesetting      1\n",
      "unknown          1\n",
      "when             1\n",
      "Número de palabras unicas en el texto 24\n"
     ]
    }
   ],
   "source": [
    "for palabra in cuento.split():\n",
    "    if palabra in palcont:\n",
    "        palcont[palabra] += 1\n",
    "    else:\n",
    "        palcont[palabra] = 1\n",
    "\n",
    "print(f'{\"palabra\":<12} Repreticiones')\n",
    "\n",
    "for palabra, veces in sorted(palcont.items()):\n",
    "    print(f'{palabra:<16} {veces}')\n",
    "\n",
    "print(\"Número de palabras unicas en el texto\", len(palcont))"
   ]
  },
  {
   "cell_type": "markdown",
   "metadata": {},
   "source": [
    "Otra forma de hacerlo es con la librería de collections importando Counter\n"
   ]
  },
  {
   "cell_type": "code",
   "execution_count": 18,
   "metadata": {},
   "outputs": [
    {
     "name": "stdout",
     "output_type": "stream",
     "text": [
      "1500s,          1\n",
      "Ipsum           2\n",
      "Lorem           2\n",
      "a               1\n",
      "an              1\n",
      "been            1\n",
      "dummy           2\n",
      "ever            1\n",
      "galley          1\n",
      "has             1\n",
      "industry.       1\n",
      "industrysstandard 1\n",
      "is              1\n",
      "of              1\n",
      "printer         1\n",
      "printingand     1\n",
      "simply          1\n",
      "since           1\n",
      "text            2\n",
      "the             3\n",
      "took            1\n",
      "typesetting     1\n",
      "unknown         1\n",
      "when            1\n"
     ]
    }
   ],
   "source": [
    "from collections import Counter\n",
    "cuento = ('Lorem Ipsum is simply dummy text of the printing'\n",
    "          'and typesetting industry. Lorem Ipsum has been the industrys'\n",
    "          'standard dummy text ever since the 1500s, when an unknown printer took a galley')\n",
    "          \n",
    "contador = Counter(cuento.split())\n",
    "\n",
    "for palabra, veces in sorted(contador.items()):\n",
    "    print(f'{palabra :<15} {veces}')\n"
   ]
  },
  {
   "cell_type": "markdown",
   "metadata": {},
   "source": [
    "## Comprension de Diccionarios"
   ]
  },
  {
   "cell_type": "code",
   "execution_count": 19,
   "metadata": {},
   "outputs": [],
   "source": [
    "usuario_edad = {'Laura':28, \"Daniel\":31,'Alberto': 27, 'Rogelio':65}"
   ]
  },
  {
   "cell_type": "code",
   "execution_count": 21,
   "metadata": {},
   "outputs": [
    {
     "data": {
      "text/plain": [
       "{28: 'Laura', 31: 'Daniel', 27: 'Alberto', 65: 'Rogelio'}"
      ]
     },
     "execution_count": 21,
     "metadata": {},
     "output_type": "execute_result"
    }
   ],
   "source": [
    "edad_usuario = {edad:usuario for usuario, edad in usuario_edad.items()}\n",
    "edad_usuario"
   ]
  },
  {
   "cell_type": "code",
   "execution_count": 24,
   "metadata": {},
   "outputs": [],
   "source": [
    "ventas_agentes = {'Laura': [12000,10500,9800,11100], 'Daniel': [11000,7800,7200,6500],'Alberto':[11200,9500,10800,10100]}\n"
   ]
  },
  {
   "cell_type": "code",
   "execution_count": 25,
   "metadata": {},
   "outputs": [
    {
     "data": {
      "text/plain": [
       "{'Laura': 10850.0, 'Daniel': 8125.0, 'Alberto': 10400.0}"
      ]
     },
     "execution_count": 25,
     "metadata": {},
     "output_type": "execute_result"
    }
   ],
   "source": [
    "promedioventas = {agente:sum(ventas)/len(ventas) for agente,ventas in ventas_agentes.items()}\n",
    "promedioventas"
   ]
  },
  {
   "cell_type": "markdown",
   "metadata": {},
   "source": [
    "Ejercicio"
   ]
  },
  {
   "cell_type": "markdown",
   "metadata": {},
   "source": [
    "Usa una compresión de diccionario para crear un diccionario de los números 4-10 mapeado a sus cuadrados.\n"
   ]
  },
  {
   "cell_type": "code",
   "execution_count": 30,
   "metadata": {},
   "outputs": [
    {
     "data": {
      "text/plain": [
       "{4: 16, 5: 25, 6: 36, 7: 49, 8: 64, 9: 81, 10: 100}"
      ]
     },
     "execution_count": 30,
     "metadata": {},
     "output_type": "execute_result"
    }
   ],
   "source": [
    "newdiccionario = {num:num**2 for num in range(4,11)}\n",
    "newdiccionario"
   ]
  },
  {
   "cell_type": "markdown",
   "metadata": {},
   "source": [
    "## Conjuntos\n",
    "\n",
    "Los conjuntos son una colección de elementos únicos. No hay orden en los conjuntos. Los conjuntos son mutables. Los conjuntos son útiles para eliminar duplicados de una lista. Los conjuntos son útiles para realizar operaciones matemáticas como la intersección, la unión y la diferencia."
   ]
  },
  {
   "cell_type": "code",
   "execution_count": 33,
   "metadata": {},
   "outputs": [
    {
     "data": {
      "text/plain": [
       "{'garza', 'gato', 'pato', 'perro', 'raton'}"
      ]
     },
     "execution_count": 33,
     "metadata": {},
     "output_type": "execute_result"
    }
   ],
   "source": [
    "animales = {'gato', 'raton', 'perro', 'garza', 'perro', 'pato'} \n",
    "animales # Los datos no se repiten en los conjuntos"
   ]
  },
  {
   "cell_type": "code",
   "execution_count": 34,
   "metadata": {},
   "outputs": [
    {
     "data": {
      "text/plain": [
       "5"
      ]
     },
     "execution_count": 34,
     "metadata": {},
     "output_type": "execute_result"
    }
   ],
   "source": [
    "len(animales)"
   ]
  },
  {
   "cell_type": "code",
   "execution_count": 35,
   "metadata": {},
   "outputs": [
    {
     "data": {
      "text/plain": [
       "True"
      ]
     },
     "execution_count": 35,
     "metadata": {},
     "output_type": "execute_result"
    }
   ],
   "source": [
    "\"gato\" in animales"
   ]
  },
  {
   "cell_type": "code",
   "execution_count": 36,
   "metadata": {},
   "outputs": [
    {
     "name": "stdout",
     "output_type": "stream",
     "text": [
      "RATON\n",
      "GARZA\n",
      "PERRO\n",
      "PATO\n",
      "GATO\n"
     ]
    }
   ],
   "source": [
    "for animal in animales:\n",
    "    print(animal.upper())"
   ]
  },
  {
   "cell_type": "code",
   "execution_count": 37,
   "metadata": {},
   "outputs": [
    {
     "name": "stdout",
     "output_type": "stream",
     "text": [
      "[0, 2, 4, 6, 8, 10, 12, 14, 16, 18, 20, 22, 24, 26, 28, 30, 32, 34, 36, 38, 40, 42, 44, 46, 48, 50, 52, 54, 56, 58, 60, 62, 64, 66, 68, 70, 72, 74, 76, 78, 80, 82, 84, 86, 88, 90, 92, 94, 96, 98, 100, 98, 96, 94, 92, 90, 88, 86, 84, 82, 80, 78, 76, 74, 72, 70, 68, 66, 64, 62, 60, 58, 56, 54, 52, 50, 48, 46, 44, 42, 40, 38, 36, 34, 32, 30, 28, 26, 24, 22, 20, 18, 16, 14, 12, 10, 8, 6, 4, 2], "
     ]
    }
   ],
   "source": [
    "pares = list(range(0,100,2)) + list(range(100,0,-2))\n",
    "print(pares, end=\", \")"
   ]
  },
  {
   "cell_type": "markdown",
   "metadata": {},
   "source": [
    "El método **set** crea un conjunto a partir de una lista. y como no se pueden duplicar los elementos, se eliminan los duplicados."
   ]
  },
  {
   "cell_type": "code",
   "execution_count": 41,
   "metadata": {},
   "outputs": [
    {
     "name": "stdout",
     "output_type": "stream",
     "text": [
      "{0, 2, 4, 6, 8, 10, 12, 14, 16, 18, 20, 22, 24, 26, 28, 30, 32, 34, 36, 38, 40, 42, 44, 46, 48, 50, 52, 54, 56, 58, 60, 62, 64, 66, 68, 70, 72, 74, 76, 78, 80, 82, 84, 86, 88, 90, 92, 94, 96, 98, 100}, "
     ]
    }
   ],
   "source": [
    "conjunto = set(pares)\n",
    "print(conjunto, end=\", \")"
   ]
  },
  {
   "cell_type": "markdown",
   "metadata": {},
   "source": [
    "**Ejercicio**"
   ]
  },
  {
   "cell_type": "markdown",
   "metadata": {},
   "source": [
    "Asigna la siguiente cadena a una variable **texto** y luego dividela usando el método split y crea un set de los resultados. Muestra kas palabras únicas en orden sorted. \n"
   ]
  },
  {
   "cell_type": "code",
   "execution_count": 51,
   "metadata": {},
   "outputs": [
    {
     "data": {
      "text/plain": [
       "{'Un',\n",
       " 'ah',\n",
       " 'carbón',\n",
       " 'dragón',\n",
       " 'panzón,',\n",
       " 'que',\n",
       " 'quedó',\n",
       " 'tan',\n",
       " 'tragó',\n",
       " 'tragón',\n",
       " 'y'}"
      ]
     },
     "execution_count": 51,
     "metadata": {},
     "output_type": "execute_result"
    }
   ],
   "source": [
    "texto = 'Un dragón tragó carbón y quedó panzón, ah que dragón tan tragón'\n",
    "newtex = set(texto.split())\n",
    "newtex\n"
   ]
  },
  {
   "cell_type": "code",
   "execution_count": null,
   "metadata": {},
   "outputs": [],
   "source": []
  }
 ],
 "metadata": {
  "kernelspec": {
   "display_name": "Python 3.9.12 ('base')",
   "language": "python",
   "name": "python3"
  },
  "language_info": {
   "codemirror_mode": {
    "name": "ipython",
    "version": 3
   },
   "file_extension": ".py",
   "mimetype": "text/x-python",
   "name": "python",
   "nbconvert_exporter": "python",
   "pygments_lexer": "ipython3",
   "version": "3.9.12"
  },
  "vscode": {
   "interpreter": {
    "hash": "3924ed30227e34da5a4c68c183321c9d32f94e2bda1bf4a622c4e1f08e1e696d"
   }
  }
 },
 "nbformat": 4,
 "nbformat_minor": 4
}
