{
 "cells": [
  {
   "cell_type": "markdown",
   "metadata": {},
   "source": [
    "# Diccionarios \n"
   ]
  },
  {
   "cell_type": "code",
   "execution_count": 105,
   "metadata": {},
   "outputs": [],
   "source": [
    "#Los diccionarios se pueden describir de las dos formas\n",
    "\n",
    "diccionario = {}\n",
    "diccionario = dict()"
   ]
  },
  {
   "cell_type": "code",
   "execution_count": 106,
   "metadata": {},
   "outputs": [
    {
     "output_type": "stream",
     "name": "stdout",
     "text": [
      "{'a': 55, 'c': False}\n"
     ]
    }
   ],
   "source": [
    "diccionario = { \"a\" :55 , \"c\" : False} # el diccionario lleva una llave \"a\" que tiene el valor del segundo digito \"55\"\n",
    "print(diccionario) #las claves deben de ser inmutables"
   ]
  },
  {
   "cell_type": "code",
   "execution_count": 107,
   "metadata": {},
   "outputs": [
    {
     "output_type": "stream",
     "name": "stdout",
     "text": [
      "{'a': 55, 'c': False, 'b': 45}\n"
     ]
    }
   ],
   "source": [
    "# para agregar un valor al diccionario se acomoda de esta forma \n",
    "\n",
    "diccionario[\"b\"] = 45\n",
    "print(diccionario)"
   ]
  },
  {
   "cell_type": "code",
   "execution_count": 108,
   "metadata": {},
   "outputs": [
    {
     "output_type": "stream",
     "name": "stdout",
     "text": [
      "{'a': 34, 'c': True, 'b': 45}\n"
     ]
    }
   ],
   "source": [
    "# para reemplazar algun valor se acomoda de esta forma \n",
    "\n",
    "diccionario[\"a\"] = 34  # si la llave no se encuentra en el diccionario, se crea un nuevo objeto dentro del mismo, si  \n",
    "diccionario[\"c\"] = True # si  si se encuentra actualiza el valor\n",
    "\n",
    "print(diccionario)"
   ]
  },
  {
   "cell_type": "code",
   "execution_count": 109,
   "metadata": {},
   "outputs": [
    {
     "output_type": "stream",
     "name": "stdout",
     "text": [
      "{'a': 34, 'c': True, 'b': 45}\n34\nTrue\n"
     ]
    }
   ],
   "source": [
    "#para obtener un valor obtenido de alguna llave del diccionario se acomoda :\n",
    "valor = diccionario[\"a\"]\n",
    "valor2 = diccionario[\"c\"]\n",
    "print(diccionario)\n",
    "print(valor)\n",
    "print(valor2)"
   ]
  },
  {
   "cell_type": "code",
   "execution_count": 110,
   "metadata": {},
   "outputs": [
    {
     "output_type": "stream",
     "name": "stdout",
     "text": [
      "False\n"
     ]
    }
   ],
   "source": [
    "# para buscar si una llave esta o no en el diccionario utilizamos la herramienta de .get\n",
    "#como primer parametro agregaremos la lleve que queremos encontrar y como segundo lo que \n",
    "# que arroje en caso de no encontrar dicha llave \n",
    "\n",
    "Busquedafalsa = diccionario.get(\"v\",False)\n",
    "print (Busquedafalsa)"
   ]
  },
  {
   "cell_type": "code",
   "execution_count": 111,
   "metadata": {},
   "outputs": [
    {
     "output_type": "stream",
     "name": "stdout",
     "text": [
      "45\n"
     ]
    }
   ],
   "source": [
    "busquedaverdadera = diccionario.get(\"b\",False)\n",
    "print(busquedaverdadera) # si la llave se encuentra en el diccionario, arrojara el valor que tiene esa llave "
   ]
  },
  {
   "cell_type": "code",
   "execution_count": 112,
   "metadata": {},
   "outputs": [
    {
     "output_type": "stream",
     "name": "stdout",
     "text": [
      "{'c': True, 'b': 45}\n"
     ]
    }
   ],
   "source": [
    "# para eliminar un objeto del diccionario utlizamos la palabra reservada \"del\"\n",
    "\n",
    "del diccionario[\"a\"]\n",
    "print(diccionario)"
   ]
  },
  {
   "cell_type": "code",
   "execution_count": 113,
   "metadata": {},
   "outputs": [
    {
     "output_type": "stream",
     "name": "stdout",
     "text": [
      "45\n{'c': True}\n1\n"
     ]
    }
   ],
   "source": [
    "pop = diccionario.pop(\"b\") #pop saca la llave del diccionario y la elimina al momento de sacarla\n",
    "\n",
    "print(pop)\n",
    "print(diccionario)\n",
    "print(len(diccionario))\n"
   ]
  },
  {
   "cell_type": "code",
   "execution_count": 114,
   "metadata": {},
   "outputs": [
    {
     "output_type": "stream",
     "name": "stdout",
     "text": [
      "{}\n"
     ]
    }
   ],
   "source": [
    "# para eliminar todos los valores del diccionario se utiliza : \n",
    "\n",
    "diccionario.clear()\n",
    "print(diccionario)"
   ]
  },
  {
   "cell_type": "code",
   "execution_count": 115,
   "metadata": {},
   "outputs": [
    {
     "output_type": "stream",
     "name": "stdout",
     "text": [
      "dict_keys([])\n"
     ]
    }
   ],
   "source": [
    "# para consultar las llaver de un diccionario se utiliza \n",
    "\n",
    "llaves = diccionario.keys()\n",
    "print(llaves)"
   ]
  },
  {
   "cell_type": "code",
   "execution_count": 116,
   "metadata": {},
   "outputs": [],
   "source": [
    "# para agregar un diccionario a algun otro existen dos formas \n",
    "\n",
    "#forma 1\n",
    "diccionario2 = {2 : \"strings\", \"n\" : 99,\"x\" : True}\n",
    "diccionario[2] = diccionario2[2]\n",
    "diccionario[\"n\"] = diccionario2[\"n\"]\n",
    "diccionario[\"x\"] = diccionario2[\"x\"]\n",
    "#print(diccionario)"
   ]
  },
  {
   "cell_type": "code",
   "execution_count": 117,
   "metadata": {},
   "outputs": [
    {
     "output_type": "stream",
     "name": "stdout",
     "text": [
      "{2: 'strings', 'n': 99, 'x': True}\n"
     ]
    }
   ],
   "source": [
    "# forma 2\n",
    "diccionario.update(diccionario2)\n",
    "print(diccionario)"
   ]
  },
  {
   "cell_type": "code",
   "execution_count": 118,
   "metadata": {},
   "outputs": [
    {
     "output_type": "stream",
     "name": "stdout",
     "text": [
      "2 strings\nn 99\nx True\n"
     ]
    }
   ],
   "source": [
    "for key, value in diccionario.items():\n",
    "    print(key,value)"
   ]
  },
  {
   "source": [
    "## funcionamiento"
   ],
   "cell_type": "markdown",
   "metadata": {}
  },
  {
   "cell_type": "code",
   "execution_count": 119,
   "metadata": {},
   "outputs": [
    {
     "output_type": "stream",
     "name": "stdout",
     "text": [
      "{'nombre': 'codi'}\n"
     ]
    }
   ],
   "source": [
    "diccionario = {}\n",
    "diccionario[\"nombre\"] = \"codi\" # para agregar una llave con su valor \n",
    "print(diccionario)"
   ]
  },
  {
   "cell_type": "code",
   "execution_count": 120,
   "metadata": {},
   "outputs": [
    {
     "output_type": "execute_result",
     "data": {
      "text/plain": [
       "'codi'"
      ]
     },
     "metadata": {},
     "execution_count": 120
    }
   ],
   "source": [
    "valor = diccionario[\"nombre\"] # para obtener un valor \n",
    "valor"
   ]
  },
  {
   "cell_type": "code",
   "execution_count": 121,
   "metadata": {},
   "outputs": [
    {
     "output_type": "stream",
     "name": "stdout",
     "text": [
      "{'nombre': 90}\n"
     ]
    }
   ],
   "source": [
    "diccionario [\"nombre\"] = 90\n",
    "print(diccionario)"
   ]
  },
  {
   "cell_type": "code",
   "execution_count": 122,
   "metadata": {},
   "outputs": [
    {
     "output_type": "stream",
     "name": "stdout",
     "text": [
      "{'a': 1, 'b': 2, 'c': 3, 'z': 3}\n"
     ]
    }
   ],
   "source": [
    "# si ingresamos una llave que si exista, entoces retornara su valor, de lo contrario creará una nueva llave valor al diccionario\n",
    "diccionario = {\"a\" : 1, \"b\" : 2, \"c\":3}\n",
    "resltado_dos = diccionario.setdefault(\"z\",3)\n",
    "print(diccionario)"
   ]
  },
  {
   "cell_type": "code",
   "execution_count": 123,
   "metadata": {},
   "outputs": [
    {
     "output_type": "stream",
     "name": "stdout",
     "text": [
      "dict_items([('a', 1), ('b', 2), ('c', 3), ('z', 3)])\n"
     ]
    }
   ],
   "source": [
    "resultado_new = diccionario.items()\n",
    "print(resultado_new)"
   ]
  },
  {
   "cell_type": "code",
   "execution_count": null,
   "metadata": {},
   "outputs": [],
   "source": []
  }
 ],
 "metadata": {
  "kernelspec": {
   "display_name": "Python 3",
   "language": "python",
   "name": "python3"
  },
  "language_info": {
   "codemirror_mode": {
    "name": "ipython",
    "version": 3
   },
   "file_extension": ".py",
   "mimetype": "text/x-python",
   "name": "python",
   "nbconvert_exporter": "python",
   "pygments_lexer": "ipython3",
   "version": "3.8.5-final"
  }
 },
 "nbformat": 4,
 "nbformat_minor": 4
}