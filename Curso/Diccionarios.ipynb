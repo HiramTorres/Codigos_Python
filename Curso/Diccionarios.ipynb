{
 "cells": [
  {
   "cell_type": "markdown",
   "metadata": {},
   "source": [
    "# Diccionarios \n"
   ]
  },
  {
   "cell_type": "code",
   "execution_count": 32,
   "metadata": {},
   "outputs": [
    {
     "name": "stdout",
     "output_type": "stream",
     "text": [
      "{'a': 55, 'c': False}\n"
     ]
    }
   ],
   "source": [
    "diccionario = { \"a\" :55 , \"c\" : False} # el diccionario lleva una llave \"a\" que tiene el valor del segundo digito \"55\"\n",
    "print(diccionario) #las claves deben de ser inmutables"
   ]
  },
  {
   "cell_type": "code",
   "execution_count": 33,
   "metadata": {},
   "outputs": [
    {
     "name": "stdout",
     "output_type": "stream",
     "text": [
      "{'a': 55, 'c': False, 'b': 45}\n"
     ]
    }
   ],
   "source": [
    "# para agregar un valor al diccionario se acomoda de esta forma \n",
    "\n",
    "diccionario[\"b\"] = 45\n",
    "print(diccionario)"
   ]
  },
  {
   "cell_type": "code",
   "execution_count": 34,
   "metadata": {},
   "outputs": [
    {
     "name": "stdout",
     "output_type": "stream",
     "text": [
      "{'a': 34, 'c': True, 'b': 45}\n"
     ]
    }
   ],
   "source": [
    "# para reemplazar algun valor se acomoda de esta forma \n",
    "\n",
    "diccionario[\"a\"] = 34  # si la llave no se encuentra en el diccionario, se crea un nuevo objeto dentro del mismo, si  \n",
    "diccionario[\"c\"] = True # si  si se encuentra actualiza el valor\n",
    "\n",
    "print(diccionario)"
   ]
  },
  {
   "cell_type": "code",
   "execution_count": 37,
   "metadata": {},
   "outputs": [
    {
     "name": "stdout",
     "output_type": "stream",
     "text": [
      "{'a': 34, 'c': True, 'b': 45}\n",
      "34\n",
      "True\n"
     ]
    }
   ],
   "source": [
    "#para obtener un valor obtenido de alguna llave del diccionario se acomoda :\n",
    "valor = diccionario[\"a\"]\n",
    "valor2 = diccionario[\"c\"]\n",
    "print(diccionario)\n",
    "print(valor)\n",
    "print(valor2)"
   ]
  },
  {
   "cell_type": "code",
   "execution_count": 38,
   "metadata": {},
   "outputs": [
    {
     "name": "stdout",
     "output_type": "stream",
     "text": [
      "False\n"
     ]
    }
   ],
   "source": [
    "# para buscar si una llave esta o no en el diccionario utilizamos la herramienta de .get\n",
    "#como primer parametro agregaremos la lleve que queremos encontrar y como segundo lo que \n",
    "# que arroje en caso de no encontrar dicha llave \n",
    "\n",
    "Busquedafalsa = diccionario.get(\"v\",False)\n",
    "print (Busquedafalsa)"
   ]
  },
  {
   "cell_type": "code",
   "execution_count": 39,
   "metadata": {},
   "outputs": [
    {
     "name": "stdout",
     "output_type": "stream",
     "text": [
      "45\n"
     ]
    }
   ],
   "source": [
    "busquedaverdadera = diccionario.get(\"b\",False)\n",
    "print(busquedaverdadera) # si la llave se encuentra en el diccionario, arrojara el valor que tiene esa llave "
   ]
  },
  {
   "cell_type": "code",
   "execution_count": 40,
   "metadata": {},
   "outputs": [
    {
     "name": "stdout",
     "output_type": "stream",
     "text": [
      "{'c': True, 'b': 45}\n"
     ]
    }
   ],
   "source": [
    "# para eliminar un objeto del diccionario utlizamos la palabra reservada \"del\"\n",
    "\n",
    "del diccionario[\"a\"]\n",
    "print(diccionario)"
   ]
  },
  {
   "cell_type": "code",
   "execution_count": 41,
   "metadata": {},
   "outputs": [
    {
     "name": "stdout",
     "output_type": "stream",
     "text": [
      "dict_keys(['c', 'b'])\n"
     ]
    }
   ],
   "source": [
    "# para consultar las llaver de un diccionario se utiliza \n",
    "\n",
    "llaves = diccionario.keys()\n",
    "print(llaves)"
   ]
  },
  {
   "cell_type": "code",
   "execution_count": 47,
   "metadata": {},
   "outputs": [],
   "source": [
    "# para agregar un diccionario a algun otro existen dos formas \n",
    "\n",
    "#forma 1\n",
    "diccionario2 = {2 : \"strings\", \"n\" : 99,\"x\" : True}\n",
    "diccionario[2] = diccionario2[2]\n",
    "diccionario[\"n\"] = diccionario2[\"n\"]\n",
    "diccionario[\"x\"] = diccionario2[\"x\"]\n",
    "#print(diccionario)"
   ]
  },
  {
   "cell_type": "code",
   "execution_count": 49,
   "metadata": {},
   "outputs": [
    {
     "name": "stdout",
     "output_type": "stream",
     "text": [
      "{'c': True, 'b': 45, 2: 'strings', 'n': 99, 'x': True}\n"
     ]
    }
   ],
   "source": [
    "# forma 2\n",
    "diccionario.update(diccionario2)\n",
    "print(diccionario)"
   ]
  },
  {
   "cell_type": "code",
   "execution_count": null,
   "metadata": {},
   "outputs": [],
   "source": []
  }
 ],
 "metadata": {
  "kernelspec": {
   "display_name": "Python 3",
   "language": "python",
   "name": "python3"
  },
  "language_info": {
   "codemirror_mode": {
    "name": "ipython",
    "version": 3
   },
   "file_extension": ".py",
   "mimetype": "text/x-python",
   "name": "python",
   "nbconvert_exporter": "python",
   "pygments_lexer": "ipython3",
   "version": "3.8.5"
  }
 },
 "nbformat": 4,
 "nbformat_minor": 4
}
