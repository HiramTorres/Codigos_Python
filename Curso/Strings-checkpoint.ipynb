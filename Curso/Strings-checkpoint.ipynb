{
 "cells": [
  {
   "cell_type": "markdown",
   "metadata": {},
   "source": [
    "# *Strings* "
   ]
  },
  {
   "cell_type": "code",
   "execution_count": 3,
   "metadata": {},
   "outputs": [
    {
     "name": "stdout",
     "output_type": "stream",
     "text": [
      "Hiram Isai Torres Espinosa \n"
     ]
    }
   ],
   "source": [
    "#forma 1 para escribir cadenas de strings\n",
    "\n",
    "Segundo_Nombre = \" Isai \" \n",
    "Apellido_Materno = \" Espinosa \"         \n",
    "\n",
    "final_message = \"Hiram\" + Segundo_Nombre + \"Torres\" + Apellido_Materno\n",
    "print(final_message)"
   ]
  },
  {
   "cell_type": "code",
   "execution_count": 4,
   "metadata": {},
   "outputs": [
    {
     "name": "stdout",
     "output_type": "stream",
     "text": [
      "Hiram  Isai  Torres  Espinosa \n"
     ]
    }
   ],
   "source": [
    "#forma 2 para escribir cadenas de strings \n",
    "\n",
    "Segundo_Nombre = \" Isai \" \n",
    "Apellido_Materno = \" Espinosa \"  \n",
    "\n",
    "final_message2 = \"Hiram %s Torres %s\" %(Segundo_Nombre,Apellido_Materno)\n",
    "print(final_message2)"
   ]
  },
  {
   "cell_type": "code",
   "execution_count": 6,
   "metadata": {},
   "outputs": [
    {
     "name": "stdout",
     "output_type": "stream",
     "text": [
      "Hiram  Isai  Torres  Espinosa \n"
     ]
    }
   ],
   "source": [
    "#forma 3 para escribir cadenas de strings\n",
    "\n",
    "Segundo_Nombre = \" Isai \" \n",
    "Apellido_Materno = \" Espinosa \"  \n",
    "\n",
    "final_message3 = \"Hiram {} Torres {}\".format(Segundo_Nombre,Apellido_Materno)\n",
    "print(final_message3)"
   ]
  },
  {
   "cell_type": "code",
   "execution_count": 19,
   "metadata": {},
   "outputs": [
    {
     "name": "stdout",
     "output_type": "stream",
     "text": [
      "T\n"
     ]
    }
   ],
   "source": [
    "#ejemplo de strings como listas\n",
    "string = \"Hiram Isai Torres Espinosa\"\n",
    "\n",
    "print(string[11])"
   ]
  },
  {
   "cell_type": "code",
   "execution_count": 20,
   "metadata": {},
   "outputs": [
    {
     "name": "stdout",
     "output_type": "stream",
     "text": [
      "Hiram Isai\n"
     ]
    }
   ],
   "source": [
    "string = \"Hiram Isai Torres Espinosa\"\n",
    "\n",
    "print(string[0:10])"
   ]
  },
  {
   "cell_type": "code",
   "execution_count": 22,
   "metadata": {},
   "outputs": [
    {
     "name": "stdout",
     "output_type": "stream",
     "text": [
      "HrmIa\n"
     ]
    }
   ],
   "source": [
    "string = \"Hiram Isai Torres Espinosa\"\n",
    "\n",
    "print(string[0:10:2]) #con saltos de 2 en 2"
   ]
  },
  {
   "cell_type": "markdown",
   "metadata": {},
   "source": [
    "#### _Métodos de cadenas_ "
   ]
  },
  {
   "cell_type": "code",
   "execution_count": 26,
   "metadata": {},
   "outputs": [
    {
     "name": "stdout",
     "output_type": "stream",
     "text": [
      "Hiram Isai Torres Espinosa\n"
     ]
    }
   ],
   "source": [
    "Nombres = \"Hiram Isai \"\n",
    "Apellidos = \"Torres Espinosa\"\n",
    "\n",
    "result = \"{}{}\".format(Nombres,Apellidos)\n",
    "print(result)"
   ]
  },
  {
   "cell_type": "code",
   "execution_count": 29,
   "metadata": {},
   "outputs": [
    {
     "name": "stdout",
     "output_type": "stream",
     "text": [
      "Hiram Isai Torres Espinosa\n"
     ]
    }
   ],
   "source": [
    "#variacion \n",
    "Nombres = \"Hiram Isai \"\n",
    "Apellidos = \"Torres Espinosa\"\n",
    "\n",
    "result = \"{a}{b}\".format(a = Nombres,b = Apellidos)\n",
    "print(result)"
   ]
  },
  {
   "cell_type": "markdown",
   "metadata": {},
   "source": [
    "### Metodos de formato en strings"
   ]
  },
  {
   "cell_type": "code",
   "execution_count": 31,
   "metadata": {},
   "outputs": [
    {
     "name": "stdout",
     "output_type": "stream",
     "text": [
      "hiram isai torres espinosa\n"
     ]
    }
   ],
   "source": [
    "result = result.lower() # para hacer todo el string en minusculas \n",
    "print ( result)"
   ]
  },
  {
   "cell_type": "code",
   "execution_count": 32,
   "metadata": {},
   "outputs": [
    {
     "name": "stdout",
     "output_type": "stream",
     "text": [
      "HIRAM ISAI TORRES ESPINOSA\n"
     ]
    }
   ],
   "source": [
    "result = result.upper() # para hacer todo el string en mayusculas \n",
    "print ( result)"
   ]
  },
  {
   "cell_type": "code",
   "execution_count": 34,
   "metadata": {},
   "outputs": [
    {
     "name": "stdout",
     "output_type": "stream",
     "text": [
      "Hiram Isai Torres Espinosa\n"
     ]
    }
   ],
   "source": [
    " result = result.title() # para acomodar como titulo \n",
    "print (result)\n"
   ]
  },
  {
   "cell_type": "markdown",
   "metadata": {},
   "source": [
    "### Metodos de busqueda"
   ]
  },
  {
   "cell_type": "code",
   "execution_count": 38,
   "metadata": {},
   "outputs": [
    {
     "name": "stdout",
     "output_type": "stream",
     "text": [
      "11\n"
     ]
    }
   ],
   "source": [
    "pos = result.find(\"Torres\") #para saber en que posicion del caracter comienza\n",
    "print(pos)"
   ]
  },
  {
   "cell_type": "code",
   "execution_count": 45,
   "metadata": {},
   "outputs": [
    {
     "name": "stdout",
     "output_type": "stream",
     "text": [
      "3\n"
     ]
    }
   ],
   "source": [
    "count = result.count(\"i\") # para buscar cuantas veces se repiten las palabras o letras\n",
    "print(count)"
   ]
  },
  {
   "cell_type": "code",
   "execution_count": 50,
   "metadata": {},
   "outputs": [
    {
     "name": "stdout",
     "output_type": "stream",
     "text": [
      "Hirxm Isxi Torres Espinosx\n"
     ]
    }
   ],
   "source": [
    "New_strings = result.replace(\"a\", \"x\") # reemplazar letras o palbras \n",
    "print(New_strings)"
   ]
  },
  {
   "cell_type": "code",
   "execution_count": 54,
   "metadata": {},
   "outputs": [
    {
     "name": "stdout",
     "output_type": "stream",
     "text": [
      "['Hiram', 'Isai', 'Torres', 'Espinosa']\n"
     ]
    }
   ],
   "source": [
    "New_string = result.split(\" \") # en todos los lugares donde encuentre la letra o el espacion losa va a fraccionar y hará una lista \n",
    "print(New_string)"
   ]
  },
  {
   "cell_type": "code",
   "execution_count": null,
   "metadata": {},
   "outputs": [],
   "source": []
  }
 ],
 "metadata": {
  "kernelspec": {
   "display_name": "Python 3",
   "language": "python",
   "name": "python3"
  },
  "language_info": {
   "codemirror_mode": {
    "name": "ipython",
    "version": 3
   },
   "file_extension": ".py",
   "mimetype": "text/x-python",
   "name": "python",
   "nbconvert_exporter": "python",
   "pygments_lexer": "ipython3",
   "version": "3.8.3"
  }
 },
 "nbformat": 4,
 "nbformat_minor": 4
}
