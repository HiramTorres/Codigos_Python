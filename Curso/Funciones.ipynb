{
 "cells": [
  {
   "cell_type": "code",
   "execution_count": 95,
   "metadata": {},
   "outputs": [
    {
     "name": "stdout",
     "output_type": "stream",
     "text": [
      "Hola mundo!\n"
     ]
    }
   ],
   "source": [
    "def saluda ():   #Se define la funcion \n",
    "    print(\"Hola mundo!\") \n",
    "saluda()    # Se manda llamar la funcion \n"
   ]
  },
  {
   "cell_type": "code",
   "execution_count": 96,
   "metadata": {},
   "outputs": [
    {
     "name": "stdout",
     "output_type": "stream",
     "text": [
      "Hola Hiram, bienvenido al curso de python 3\n"
     ]
    }
   ],
   "source": [
    "def crear_mensaje(nombre):\n",
    "    mensaje = \"Hola {}, bienvenido al curso de python 3\".format(nombre)\n",
    "    return mensaje \n",
    "\n",
    "nuevo_mensaje = crear_mensaje(\"Hiram\")\n",
    "print(nuevo_mensaje)"
   ]
  },
  {
   "cell_type": "code",
   "execution_count": 97,
   "metadata": {},
   "outputs": [
    {
     "name": "stdout",
     "output_type": "stream",
     "text": [
      "60\n"
     ]
    }
   ],
   "source": [
    "def valores (v1,v2,v3):\n",
    "    return v1 + v2 +v3\n",
    "resultado = valores(10,20,30)\n",
    "print(resultado)"
   ]
  },
  {
   "cell_type": "code",
   "execution_count": 98,
   "metadata": {},
   "outputs": [
    {
     "name": "stdout",
     "output_type": "stream",
     "text": [
      "Hiram\n",
      "Torres\n",
      "11\n"
     ]
    }
   ],
   "source": [
    "def crear_usuario(nombre, apellido, edad=6):\n",
    "    return{\n",
    "        \"nombre\" : nombre,\n",
    "        \"apellido\" : apellido,\n",
    "        \"nombre_completo\" : \"{} {}\".format(nombre,apellido),\n",
    "        \"edad\" : edad\n",
    "         }\n",
    "codi = crear_usuario(edad =11, apellido=\"Torres\", nombre=\"Hiram\")\n",
    "print(codi[\"nombre\"])\n",
    "print(codi[\"apellido\"])\n",
    "print(codi[\"edad\"])"
   ]
  },
  {
   "cell_type": "code",
   "execution_count": 99,
   "metadata": {},
   "outputs": [
    {
     "name": "stdout",
     "output_type": "stream",
     "text": [
      "60\n"
     ]
    }
   ],
   "source": [
    "def suma(val1, val2, val3):\n",
    "    return val1 + val2 + val3\n",
    "resultado = suma(10,20,30)\n",
    "print(resultado)"
   ]
  },
  {
   "cell_type": "code",
   "execution_count": null,
   "metadata": {},
   "outputs": [
    {
     "name": "stdout",
     "output_type": "stream",
     "text": [
      "Este es un argumento requerido\n",
      "210\n"
     ]
    }
   ],
   "source": [
    "def suma(parametro_requerido,*args):\n",
    "    '''el asterico agrupará en una tupla todos los argumentos que se le pasen a la funcion'''\n",
    "    total=0\n",
    "    print(parametro_requerido)\n",
    "    for valor in args:\n",
    "        total+=valor \n",
    "    return total\n",
    "\n",
    "\n",
    "resultado = suma(\"Este es un argumento requerido\",10,20,30,40,50,60)\n",
    "print(resultado)"
   ]
  },
  {
   "cell_type": "code",
   "execution_count": 101,
   "metadata": {},
   "outputs": [
    {
     "name": "stdout",
     "output_type": "stream",
     "text": [
      "Este es un argumento requerido\n",
      "210\n",
      "{'codi': True, 'facilito': False}\n"
     ]
    }
   ],
   "source": [
    "def usuarios_autemticados(**kwargs):\n",
    "    '''Esta funcion recibe un numero indeterminado de argumentos, que seran asignados a un diccionario'''\n",
    "    print(kwargs)\n",
    "\n",
    "resultado = suma(\"Este es un argumento requerido\",10,20,30,40,50,60)\n",
    "print(resultado)\n",
    "usuarios_autemticados(codi=True, facilito=False)\n"
   ]
  },
  {
   "cell_type": "code",
   "execution_count": 102,
   "metadata": {},
   "outputs": [
    {
     "name": "stdout",
     "output_type": "stream",
     "text": [
      "Este es un argumento requerido\n",
      "210\n",
      "valor requerido\n",
      "(10, 20)\n",
      "{'valor_uno': True, 'valor_2': False}\n"
     ]
    }
   ],
   "source": [
    "def usuarios_autemticados(**kwargs):\n",
    "    print(kwargs)\n",
    "\n",
    "resultado = suma(\"Este es un argumento requerido\",10,20,30,40,50,60)\n",
    "print(resultado)\n",
    "\n",
    "def combinacion(requerido, *args, **kwargs):\n",
    "    print(requerido)\n",
    "    print(args)\n",
    "    print(kwargs)\n",
    "\n",
    "\n",
    "combinacion(\"valor requerido\", 10,20, valor_uno=True, valor_2 = False)"
   ]
  },
  {
   "cell_type": "code",
   "execution_count": 103,
   "metadata": {},
   "outputs": [
    {
     "name": "stdout",
     "output_type": "stream",
     "text": [
      "un mensaje\n",
      "un mensaje dos\n",
      "2\n"
     ]
    }
   ],
   "source": [
    "def mi_funcion():\n",
    "    print(\"un mensaje\")\n",
    "    print(\"un mensaje dos\")\n",
    "    return 2 # la funcion termina en el return \n",
    "    print(\"un mensaje tres \")\n",
    "resultado = mi_funcion()\n",
    "print(resultado)"
   ]
  },
  {
   "cell_type": "code",
   "execution_count": 104,
   "metadata": {},
   "outputs": [
    {
     "name": "stdout",
     "output_type": "stream",
     "text": [
      "resultado no es none\n"
     ]
    }
   ],
   "source": [
    "def mi_funcion(parametro):\n",
    "    if parametro: \n",
    "        return 100\n",
    "    print(\"\")\n",
    "resultado = mi_funcion(\"a\")\n",
    "if resultado:\n",
    "    print(\"resultado no es none\")\n"
   ]
  },
  {
   "cell_type": "code",
   "execution_count": 105,
   "metadata": {},
   "outputs": [
    {
     "name": "stdout",
     "output_type": "stream",
     "text": [
      "Ballena\n",
      "León\n"
     ]
    }
   ],
   "source": [
    "animal = \"León\"  #las variables que esten fuera de la funcion se llamaran variables globales \n",
    "def mostrar_animal():\n",
    "    animal = \"Ballena\" #variable local son las que estan dentro de las funciones \n",
    "    print(animal)\n",
    "\n",
    "mostrar_animal()\n",
    "print(animal)"
   ]
  },
  {
   "cell_type": "code",
   "execution_count": 106,
   "metadata": {},
   "outputs": [
    {
     "name": "stdout",
     "output_type": "stream",
     "text": [
      "Ballena\n",
      "Ballena\n"
     ]
    }
   ],
   "source": [
    "animal = \"León\"  #las variables que esten fuera de la funcion se llamaran variables globales \n",
    "def mostrar_animal():\n",
    "    global animal\n",
    "    animal = \"Ballena\" #variable local son las que estan dentro de las funciones \n",
    "    print(animal)\n",
    "\n",
    "mostrar_animal()\n",
    "print(animal)"
   ]
  },
  {
   "cell_type": "markdown",
   "metadata": {},
   "source": [
    "## Expresiones lambda"
   ]
  },
  {
   "cell_type": "code",
   "execution_count": 107,
   "metadata": {},
   "outputs": [
    {
     "name": "stdout",
     "output_type": "stream",
     "text": [
      "89.6\n"
     ]
    }
   ],
   "source": [
    "def centigrados_a_farhenheit(grados):\n",
    "    return grados * 1.8 + 32\n",
    "funcion_variable = centigrados_a_farhenheit\n",
    "resultado = funcion_variable(32)\n",
    "print(resultado)"
   ]
  },
  {
   "cell_type": "markdown",
   "metadata": {},
   "source": [
    "## Funciones Lambda o anonimas"
   ]
  },
  {
   "cell_type": "code",
   "execution_count": 108,
   "metadata": {},
   "outputs": [
    {
     "name": "stdout",
     "output_type": "stream",
     "text": [
      "89.6\n"
     ]
    }
   ],
   "source": [
    "mi_funcion = lambda grados = 0 :grados *1.8 + 32# si se requieren más parametros se separan con una coma \n",
    "# no se ocupa el return, porque todas las funciones lambda retornan un valor \n",
    "resultado = mi_funcion(32)\n",
    "print(resultado)\n"
   ]
  },
  {
   "cell_type": "markdown",
   "metadata": {},
   "source": [
    "## Otras formas de crear lambdas más complejas "
   ]
  },
  {
   "cell_type": "markdown",
   "metadata": {},
   "source": [
    "- #### sin_parametros = lambda : True\n",
    "\n",
    "- #### con_valores = lambda val, val1=10, val2=10 : val + val1 + val2\n",
    "\n",
    "- #### con_asterisco = lambda *args : args[0]\n",
    "\n",
    "- #### con_doble_asterisco = lambda **kwargs : args[0]\n",
    "\n",
    "- #### con_asteriscos = lambda *args , **kwargs : kwargs.get('key', False)"
   ]
  },
  {
   "cell_type": "markdown",
   "metadata": {},
   "source": [
    "## Función map"
   ]
  },
  {
   "cell_type": "markdown",
   "metadata": {},
   "source": [
    "- ### En Python, la función map nos permite aplicar una función sobre los items de un objeto iterable (lista, tupla, etc...).\n",
    "\n",
    "#### Sintaxis\n",
    "\n",
    "<pre><code>map(function, objeto iterable)</code></pre>\n",
    "\n",
    "- ### La función retornará un objeto map que posteriormente podemos convertir a una lista o tupla.\n",
    "\n",
    "<pre><code>def cuadrado(numero):\n",
    " return numero * numero\n",
    "\n",
    "lista = [1,2,3,4,5]\n",
    "resultado = map(cuadrado, lista)\n",
    "\n",
    "lista_resultado = list(resultado)\n",
    "print(lista_resultado)</code></pre>\n",
    "\n",
    "- ### Es posible utilizar map junto con una función lambda. En lo personal considero esta la mejor opción.\n",
    "\n",
    "<pre><code>lista = [1,2,3,4,5]\n",
    "resultado = map(lambda numero: numero * numero , lista)\n",
    "\n",
    "lista_resultado = list(resultado)\n",
    "print(lista_resultado)</code></pre>\n",
    "\n",
    "\n"
   ]
  },
  {
   "cell_type": "markdown",
   "metadata": {},
   "source": [
    "## Funciones anidadas"
   ]
  },
  {
   "cell_type": "code",
   "execution_count": 109,
   "metadata": {},
   "outputs": [
    {
     "name": "stdout",
     "output_type": "stream",
     "text": [
      "track 1\n",
      "track 2\n",
      "track 3\n",
      "track 4\n",
      "['track 1', 'track 2', 'track 3', 'track 4']\n"
     ]
    }
   ],
   "source": [
    "def comenzar_playlist(lista):\n",
    "    def reproducir():\n",
    "        for val in lista:\n",
    "            print(val)\n",
    "    reproducir()\n",
    "    print(lista)\n",
    "    \n",
    "lista = [\"track 1\",\"track 2\",\"track 3\",\"track 4\"]\n",
    "comenzar_playlist(lista)\n"
   ]
  },
  {
   "cell_type": "code",
   "execution_count": 110,
   "metadata": {},
   "outputs": [
    {
     "name": "stdout",
     "output_type": "stream",
     "text": [
      "1\n",
      "2\n",
      "3\n",
      "[1, 2, 3]\n"
     ]
    }
   ],
   "source": [
    "def comenzar_playlist(lista):\n",
    "    def reproducir(): \n",
    "        nonlocal lista    \n",
    "        lista=[1,2,3]# no se puede modificar variables loscales en funciones anidadas  pero con nonlocal si se puede\n",
    "        for val in lista:\n",
    "            print(val)\n",
    "    reproducir()\n",
    "    print(lista)\n",
    "    \n",
    "lista = [\"track 1\",\"track 2\",\"track 3\",\"track 4\"]\n",
    "comenzar_playlist(lista)\n"
   ]
  },
  {
   "cell_type": "markdown",
   "metadata": {},
   "source": [
    "## Closures\n",
    "\n",
    "### Es cuando una funcion genere dinamicamente una nueva funcion, y que la nueva funcion pueda entrar a las variables locales aunque la primera haya terminado "
   ]
  },
  {
   "cell_type": "code",
   "execution_count": 111,
   "metadata": {},
   "outputs": [
    {
     "name": "stdout",
     "output_type": "stream",
     "text": [
      "Hiramtorres\n"
     ]
    }
   ],
   "source": [
    "def mostrar_mensaje(mensaje):\n",
    "    mensaje = mensaje.title() #variable local\n",
    "    \n",
    "    def mostrar():\n",
    "        print(mensaje)\n",
    "    return mostrar\n",
    "\n",
    "nueva_funcion = mostrar_mensaje(\"HiramTorres\")\n",
    "nueva_funcion()\n"
   ]
  },
  {
   "cell_type": "markdown",
   "metadata": {},
   "source": [
    "## Decoradores "
   ]
  },
  {
   "cell_type": "code",
   "execution_count": 112,
   "metadata": {},
   "outputs": [
    {
     "name": "stdout",
     "output_type": "stream",
     "text": [
      "Podemos agregar codigo antes\n",
      "esta es una funcion a decorar\n",
      "Podemos agregar código después\n",
      "\n",
      "\n",
      "Podemos agregar codigo antes\n",
      "Podemos agregar código después\n",
      "30\n"
     ]
    }
   ],
   "source": [
    "#Se debe trabajar por lo menos con 3 funciones \n",
    "#a , b , c\n",
    "#a(b) -> c\n",
    "\n",
    "def decorador(funcion):\n",
    "    def nueva_funcion(*args,**kwargs):\n",
    "        print(\"Podemos agregar codigo antes\")\n",
    "        resultado = funcion(*args,**kwargs)\n",
    "        print(\"Podemos agregar código después\")\n",
    "        return resultado\n",
    "    return nueva_funcion\n",
    "@decorador\n",
    "def funcion_a_decorar():\n",
    "    print(\"esta es una funcion a decorar\")\n",
    "@decorador\n",
    "def suma(val1,val2):\n",
    "    return val1 + val2 \n",
    "\n",
    "funcion_a_decorar()\n",
    "print(\"\\n\")\n",
    "resultado =suma(10,20)\n",
    "print(resultado)\n",
    "\n",
    "\n"
   ]
  },
  {
   "cell_type": "markdown",
   "metadata": {},
   "source": [
    "## Generadores "
   ]
  },
  {
   "cell_type": "code",
   "execution_count": 113,
   "metadata": {},
   "outputs": [
    {
     "name": "stdout",
     "output_type": "stream",
     "text": [
      "9\n",
      "18\n",
      "27\n",
      "36\n",
      "45\n",
      "54\n",
      "63\n",
      "72\n",
      "81\n",
      "90\n"
     ]
    }
   ],
   "source": [
    "def tabla_multiplicar(numero,maximo=10):\n",
    "    for posicion in range(1,maximo+1):\n",
    "        yield numero * posicion #Retorna el resultado sin terminar la funcion\n",
    "\n",
    "for resultado in tabla_multiplicar(9):\n",
    "    print(resultado)"
   ]
  },
  {
   "cell_type": "code",
   "execution_count": 114,
   "metadata": {},
   "outputs": [
    {
     "name": "stdout",
     "output_type": "stream",
     "text": [
      "9 * 1 = 9\n",
      "9 * 2 = 18\n",
      "9 * 3 = 27\n",
      "9 * 4 = 36\n",
      "9 * 5 = 45\n",
      "9 * 6 = 54\n",
      "9 * 7 = 63\n",
      "9 * 8 = 72\n",
      "9 * 9 = 81\n",
      "9 * 10 = 90\n",
      "9 * 11 = 99\n",
      "9 * 12 = 108\n",
      "9 * 13 = 117\n",
      "9 * 14 = 126\n",
      "9 * 15 = 135\n",
      "9 * 16 = 144\n",
      "9 * 17 = 153\n",
      "9 * 18 = 162\n",
      "9 * 19 = 171\n",
      "9 * 20 = 180\n"
     ]
    }
   ],
   "source": [
    "def tabla_multiplicar(numero,maximo=10):\n",
    "    for posicion in range(1,maximo+1):\n",
    "        yield numero * posicion, numero, posicion #Retorna el resultado sin terminar la funcion\n",
    "\n",
    "for resultado, numero, posicion in tabla_multiplicar(9,20):\n",
    "    print(numero,\"*\", posicion,\"=\", resultado)"
   ]
  },
  {
   "cell_type": "markdown",
   "metadata": {},
   "source": [
    "## Documentación de las funciones \n",
    "\n",
    "#### Cómo mencionamos anteriormente, una vez que nosotros definimos una función, podemos llamarla n cantidad de veces, inclusive, fuera de nuestro script, cómo lo veremos más adelante (módulos y paquetes) es por ello que una muy buena practica de programación es documentar nuestras funciones.\n",
    "\n",
    "#### Para que nosotros podamos documentar una función lo haremos mediante un comentario, comentario, el cual debe de encontrarse dentro de la función y utilizando triples comillas dobles, cómo podemos observar en el siguiente ejemplo.\n",
    "\n",
    "<pre><code>def mi_funcion(*args):\n",
    "  \"\"\"Esta es la documentación de mi_función\"\"\"\n",
    "  print(args)</code></pre>\n",
    "\n"
   ]
  },
  {
   "cell_type": "markdown",
   "metadata": {},
   "source": [
    "#### Podemos trabajar con la documentación a través de su atributo ____doc____\n",
    "\n",
    "<pre><code>print(mi_funcion.__doc__)</code></pre>\n"
   ]
  },
  {
   "cell_type": "markdown",
   "metadata": {},
   "source": [
    "#### Ahora veamos un ejemplo en el cual podemos sacar provecho a nuestra documentación.\n",
    "\n",
    "\n",
    "<pre><code>def suma(a, b):\n",
    "  \"\"\"Función suma\"\"\"\n",
    "  return a + b\n",
    "\n",
    "def resta(a, b):\n",
    "  \"\"\"Función resta\"\"\"\n",
    "  return a - b\n",
    "\n",
    "opciones = {'a' : suma, 'b': resta}\n",
    "print(\"Ingrese la opción deseada\")\n",
    "\n",
    "for opcion, funcion in opciones.items():\n",
    "  mensaje = '{}) {}'.format(opcion, funcion.__doc__)\n",
    "  print(mensaje)\n",
    "\n",
    "opcion = input(\"Opción : \")</code></pre>\n",
    "\n",
    "#### Almacenamos las funciones dentro de nuestro diccionario, posteriormente iteramos los elementos del diccionario y en cada iteración imprimimos la documentación.\n",
    "\n"
   ]
  }
 ],
 "metadata": {
  "kernelspec": {
   "display_name": "Python 3.9.12 ('base')",
   "language": "python",
   "name": "python3"
  },
  "language_info": {
   "codemirror_mode": {
    "name": "ipython",
    "version": 3
   },
   "file_extension": ".py",
   "mimetype": "text/x-python",
   "name": "python",
   "nbconvert_exporter": "python",
   "pygments_lexer": "ipython3",
   "version": "3.9.12"
  },
  "orig_nbformat": 2,
  "vscode": {
   "interpreter": {
    "hash": "3924ed30227e34da5a4c68c183321c9d32f94e2bda1bf4a622c4e1f08e1e696d"
   }
  }
 },
 "nbformat": 4,
 "nbformat_minor": 2
}
