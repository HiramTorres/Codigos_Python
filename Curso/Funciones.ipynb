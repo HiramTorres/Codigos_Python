{
 "metadata": {
  "language_info": {
   "codemirror_mode": {
    "name": "ipython",
    "version": 3
   },
   "file_extension": ".py",
   "mimetype": "text/x-python",
   "name": "python",
   "nbconvert_exporter": "python",
   "pygments_lexer": "ipython3",
   "version": "3.8.5-final"
  },
  "orig_nbformat": 2,
  "kernelspec": {
   "name": "python3",
   "display_name": "Python 3.8.5 64-bit (conda)",
   "metadata": {
    "interpreter": {
     "hash": "3f800561dde6209f0c647b1ec24b295364b37801e2a63d392a491285ef4d5a88"
    }
   }
  }
 },
 "nbformat": 4,
 "nbformat_minor": 2,
 "cells": [
  {
   "cell_type": "code",
   "execution_count": 4,
   "metadata": {},
   "outputs": [
    {
     "output_type": "stream",
     "name": "stdout",
     "text": [
      "Hola mundo!\n"
     ]
    }
   ],
   "source": [
    "def saluda ():   #Se define la funcion \n",
    "    print(\"Hola mundo!\") \n",
    "saluda()    # Se manda llamar la funcion \n"
   ]
  },
  {
   "cell_type": "code",
   "execution_count": 5,
   "metadata": {},
   "outputs": [
    {
     "output_type": "stream",
     "name": "stdout",
     "text": [
      "Hola Hiram, bienvenido al curso de python 3\n"
     ]
    }
   ],
   "source": [
    "def crear_mensaje(nombre):\n",
    "    mensaje = \"Hola {}, bienvenido al curso de python 3\".format(nombre)\n",
    "    return mensaje \n",
    "\n",
    "nuevo_mensaje = crear_mensaje(\"Hiram\")\n",
    "print(nuevo_mensaje)"
   ]
  },
  {
   "cell_type": "code",
   "execution_count": 6,
   "metadata": {},
   "outputs": [
    {
     "output_type": "stream",
     "name": "stdout",
     "text": [
      "60\n"
     ]
    }
   ],
   "source": [
    "def valores (v1,v2,v3):\n",
    "    return v1 + v2 +v3\n",
    "resultado = valores(10,20,30)\n",
    "print(resultado)"
   ]
  },
  {
   "cell_type": "code",
   "execution_count": null,
   "metadata": {},
   "outputs": [],
   "source": []
  }
 ]
}