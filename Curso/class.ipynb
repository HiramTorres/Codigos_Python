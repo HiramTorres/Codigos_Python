{
 "metadata": {
  "language_info": {
   "codemirror_mode": {
    "name": "ipython",
    "version": 3
   },
   "file_extension": ".py",
   "mimetype": "text/x-python",
   "name": "python",
   "nbconvert_exporter": "python",
   "pygments_lexer": "ipython3",
   "version": "3.7.7-final"
  },
  "orig_nbformat": 2,
  "kernelspec": {
   "name": "python3",
   "display_name": "Python 3.7.7 64-bit",
   "metadata": {
    "interpreter": {
     "hash": "85aa4e3860eb4c3d02516310ce7f1829d5a79fbdb325a1577fafe3f468751b9b"
    }
   }
  }
 },
 "nbformat": 4,
 "nbformat_minor": 2,
 "cells": [
  {
   "cell_type": "code",
   "execution_count": 4,
   "metadata": {},
   "outputs": [
    {
     "output_type": "stream",
     "name": "stdout",
     "text": [
      "<class '__main__.Usuario'>\n"
     ]
    }
   ],
   "source": [
    "class Usuario:\n",
    "    \n",
    "\n",
    "    def saluda(self,nombre):\n",
    "        print(\"hola soy un usuario\" + nombre)\n",
    "\n",
    "codi = Usuario()\n",
    "facilito = Usuario()\n",
    "\n",
    "print(type(codi))"
   ]
  },
  {
   "cell_type": "code",
   "execution_count": 5,
   "metadata": {},
   "outputs": [
    {
     "output_type": "stream",
     "name": "stdout",
     "text": [
      "hola soy un usuario\nhola soy un usuario\n"
     ]
    }
   ],
   "source": [
    "print(codi.saluda())\n",
    "facilito.saluda()\n"
   ]
  },
  {
   "cell_type": "code",
   "execution_count": null,
   "metadata": {},
   "outputs": [],
   "source": []
  }
 ]
}