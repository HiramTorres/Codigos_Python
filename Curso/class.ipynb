{
 "cells": [
  {
   "cell_type": "code",
   "execution_count": 4,
   "metadata": {},
   "outputs": [
    {
     "name": "stdout",
     "output_type": "stream",
     "text": [
      "<class '__main__.Usuario'>\n"
     ]
    }
   ],
   "source": [
    "class Usuario:\n",
    "    \n",
    "\n",
    "    def saluda(self,nombre):\n",
    "        print(\"hola soy un usuario\" + nombre)\n",
    "\n",
    "codi = Usuario()\n",
    "facilito = Usuario()\n",
    "\n",
    "print(type(codi))"
   ]
  },
  {
   "cell_type": "code",
   "execution_count": 5,
   "metadata": {},
   "outputs": [
    {
     "name": "stdout",
     "output_type": "stream",
     "text": [
      "hola soy un usuario\n",
      "hola soy un usuario\n"
     ]
    }
   ],
   "source": [
    "print(codi.saluda())\n",
    "facilito.saluda()\n"
   ]
  },
  {
   "cell_type": "markdown",
   "metadata": {},
   "source": [
    "### Atributos \n"
   ]
  },
  {
   "cell_type": "code",
   "execution_count": 5,
   "metadata": {},
   "outputs": [
    {
     "name": "stdout",
     "output_type": "stream",
     "text": [
      "codi\n",
      "facilito\n",
      "codi\n"
     ]
    }
   ],
   "source": [
    "class Usuario:\n",
    "\n",
    "\n",
    "    def saluda(self,nombre):\n",
    "        return \"hola soy un usuario\" + nombre\n",
    "    def mostrar_username(self):\n",
    "        print(self.username)\n",
    "    def crear_nombre(self,nombre):\n",
    "        self.nombre = nombre\n",
    "    def mostrar_nombre(self):\n",
    "        print(self.username)\n",
    "\n",
    "codi = Usuario()\n",
    "codi.username = 'codi'\n",
    "codi.correo = 'codi@gmail.com'\n",
    "\n",
    "facilito = Usuario()\n",
    "facilito.username = 'facilito'\n",
    "facilito.correo = 'facilito@gmail.com'\n",
    "\n",
    "\n",
    "codi.mostrar_username()\n",
    "facilito.mostrar_username()\n",
    "\n",
    "codi.crear_nombre(\"codigo\")\n",
    "codi.mostrar_username()"
   ]
  },
  {
   "cell_type": "code",
   "execution_count": 10,
   "metadata": {},
   "outputs": [
    {
     "name": "stdout",
     "output_type": "stream",
     "text": [
      "hola, soy un usuario Hiram\n"
     ]
    }
   ],
   "source": [
    "class Usuario:\n",
    "    \n",
    "    def __init__(self,username = '',correo= '',nombre= ''): # init para inicializar valores\n",
    "        self.username =username\n",
    "        self.correo = correo\n",
    "        self.nombre = nombre\n",
    "        \n",
    "    def saluda(self):\n",
    "        return \"hola, soy un usuario \" + self.nombre\n",
    "    def mostrar_username(self):\n",
    "        print(self.username)\n",
    "    def mostrar_nombre(self):\n",
    "        print(self.username)\n",
    "\n",
    "codi = Usuario(\"Hiram\", \"Hiram.elchiludo@gmail.com\", \"Hiram\")\n",
    "facilito = Usuario()\n",
    "resultado = codi.saluda()\n",
    "print(resultado)\n"
   ]
  },
  {
   "cell_type": "code",
   "execution_count": 15,
   "metadata": {},
   "outputs": [
    {
     "name": "stdout",
     "output_type": "stream",
     "text": [
      "10\n",
      "100\n",
      "3.14159265\n"
     ]
    }
   ],
   "source": [
    "class Circulo :\n",
    "    pi = 3.14159265 #Es una variable de clase\n",
    "    def __init__(self,radio):\n",
    "        self.radio = radio #radio es una variablede instancia \n",
    "\n",
    "\n",
    "circulo_a = Circulo(10)\n",
    "circulo_b = Circulo(20)\n",
    "\n",
    "circulo_b = Circulo(100)\n",
    "\n",
    "print(circulo_a.radio)\n",
    "print(circulo_b.radio)\n",
    "print(circulo_b.pi)\n"
   ]
  },
  {
   "cell_type": "code",
   "execution_count": 18,
   "metadata": {},
   "outputs": [
    {
     "name": "stdout",
     "output_type": "stream",
     "text": [
      "100.0\n"
     ]
    }
   ],
   "source": [
    "class Triangulo: \n",
    "    def area(self):\n",
    "        return(self.base * self.altura) / 2\n",
    "triangulo = Triangulo()\n",
    "triangulo.base = 10\n",
    "triangulo.altura = 20\n",
    "resulta = triangulo.area()\n",
    "print(resulta)"
   ]
  },
  {
   "cell_type": "markdown",
   "metadata": {},
   "source": [
    "## Metodo estatico"
   ]
  },
  {
   "cell_type": "code",
   "execution_count": 3,
   "metadata": {},
   "outputs": [
    {
     "name": "stdout",
     "output_type": "stream",
     "text": [
      "100.0\n"
     ]
    }
   ],
   "source": [
    "class Triangulo: \n",
    "    numero = 2\n",
    "    @staticmethod\n",
    "    def area(base, altura):\n",
    "        return(base * altura) / Triangulo.numero\n",
    "\n",
    "resulta = Triangulo.area(10,20)\n",
    "print(resulta)"
   ]
  },
  {
   "cell_type": "markdown",
   "metadata": {},
   "source": [
    "## Metodos de clase"
   ]
  },
  {
   "cell_type": "code",
   "execution_count": 27,
   "metadata": {},
   "outputs": [
    {
     "name": "stdout",
     "output_type": "stream",
     "text": [
      "78.53981625\n"
     ]
    }
   ],
   "source": [
    "class Circulo:\n",
    "    pi = 3.14159265\n",
    "    @classmethod #deben de recibir un parametro obligatoriamente\n",
    "    def area(cls, radio):\n",
    "        return cls.pi * radio**2\n",
    "\n",
    "resultado = Circulo.area(5)\n",
    "print(resultado)"
   ]
  },
  {
   "cell_type": "markdown",
   "metadata": {},
   "source": [
    "## Herencia"
   ]
  },
  {
   "cell_type": "code",
   "execution_count": 32,
   "metadata": {},
   "outputs": [
    {
     "name": "stdout",
     "output_type": "stream",
     "text": [
      "ladrando\n",
      "Comiendo\n",
      "durmiendo\n",
      "durmiendo\n",
      "ronroneo\n"
     ]
    }
   ],
   "source": [
    "#nos permite crear clases de clases ya existentes \n",
    "class Animal:\n",
    "    def comer(self):\n",
    "        print(\"Comiendo\")\n",
    "    def dormir(self):\n",
    "        print(\"durmiendo\")\n",
    "\n",
    "class Perro(Animal): #dentro del parentesis ponemos la clase de la cual queremos heredar \n",
    "    def __init__(self,nombre):\n",
    "        self.nombre = nombre\n",
    "    def ladrar(self):\n",
    "        print(\"ladrando\")\n",
    "    \n",
    "class Gato(Animal):\n",
    "    def ronroneo(self):\n",
    "        print(\"ronroneo\")\n",
    "firulais = Perro(\"Firulais\")\n",
    "firulais.ladrar()\n",
    "firulais.comer()\n",
    "firulais.dormir()\n",
    "bola_de_nieve = Gato()\n",
    "bola_de_nieve.dormir()\n",
    "bola_de_nieve.ronroneo()"
   ]
  },
  {
   "cell_type": "markdown",
   "metadata": {},
   "source": [
    "## Herencia multiple\n"
   ]
  },
  {
   "cell_type": "code",
   "execution_count": 34,
   "metadata": {},
   "outputs": [
    {
     "name": "stdout",
     "output_type": "stream",
     "text": [
      "ladrando\n",
      "Comiendo\n",
      "durmiendo\n",
      "hoy\n",
      "durmiendo\n",
      "ronroneo\n"
     ]
    }
   ],
   "source": [
    "#nos permite crear clases de clases ya existentes \n",
    "class Animal:\n",
    "    def comer(self):\n",
    "        print(\"Comiendo\")\n",
    "    def dormir(self):\n",
    "        print(\"durmiendo\")\n",
    "\n",
    "class Mascota:\n",
    "    def fecha_adopcion(self, fecha):\n",
    "        self.fecha_de_adopcion = fecha \n",
    "# se puede usar multi herencia\n",
    "class Perro(Animal, Mascota): #dentro del parentesis ponemos la clase de la cual queremos heredar \n",
    "    def __init__(self,nombre):\n",
    "        self.nombre = nombre\n",
    "    def ladrar(self):\n",
    "        print(\"ladrando\")\n",
    "    \n",
    "class Gato(Animal):\n",
    "    def ronroneo(self):\n",
    "        print(\"ronroneo\")\n",
    "firulais = Perro(\"Firulais\")\n",
    "firulais.ladrar()\n",
    "firulais.comer()\n",
    "firulais.dormir()\n",
    "firulais.fecha_adopcion(\"hoy\")\n",
    "print(firulais.fecha_de_adopcion)\n",
    "bola_de_nieve = Gato()\n",
    "bola_de_nieve.dormir()\n",
    "bola_de_nieve.ronroneo()\n",
    "\n"
   ]
  },
  {
   "cell_type": "markdown",
   "metadata": {},
   "source": [
    "## sobre escritura de metodos\n"
   ]
  },
  {
   "cell_type": "code",
   "execution_count": 1,
   "metadata": {},
   "outputs": [
    {
     "name": "stdout",
     "output_type": "stream",
     "text": [
      "Firulais Esta durmiendo!\n",
      "Durmiendo\n",
      "no molestar\n"
     ]
    }
   ],
   "source": [
    "class Animal:\n",
    "    def comer(self):\n",
    "        print(\"Comiendo\")\n",
    "    def dormir(self):\n",
    "        print(\"Durmiendo\")\n",
    "\n",
    "class Mascota:\n",
    "    def fecha_adopcion(self, fecha):\n",
    "        self.fecha_de_adopcion = fecha \n",
    "\n",
    "class Perro(Animal, Mascota): \n",
    "    def __init__(self,nombre):\n",
    "        self.nombre = nombre\n",
    "    def ladrar(self):\n",
    "        print(\"ladrando\")\n",
    "    def dormir(self):\n",
    "        print(self.nombre, \"Esta durmiendo!\")\n",
    "        Animal.dormir(self)\n",
    "        print(\"no molestar\")\n",
    "\n",
    "firulais = Perro(\"Firulais\")\n",
    "firulais.dormir()\n"
   ]
  },
  {
   "cell_type": "code",
   "execution_count": null,
   "metadata": {},
   "outputs": [],
   "source": []
  }
 ],
 "metadata": {
  "kernelspec": {
   "display_name": "Python 3.7.7 64-bit",
   "name": "python377jvsc74a57bd085aa4e3860eb4c3d02516310ce7f1829d5a79fbdb325a1577fafe3f468751b9b"
  },
  "language_info": {
   "codemirror_mode": {
    "name": "ipython",
    "version": 3
   },
   "file_extension": ".py",
   "mimetype": "text/x-python",
   "name": "python",
   "nbconvert_exporter": "python",
   "pygments_lexer": "ipython3",
   "version": "3.7.7-final"
  },
  "metadata": {
   "interpreter": {
    "hash": "85aa4e3860eb4c3d02516310ce7f1829d5a79fbdb325a1577fafe3f468751b9b"
   }
  },
  "orig_nbformat": 2
 },
 "nbformat": 4,
 "nbformat_minor": 2
}
