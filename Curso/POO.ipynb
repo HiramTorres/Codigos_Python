{
 "cells": [
  {
   "cell_type": "markdown",
   "metadata": {},
   "source": [
    "# Pogramación Orientada a Objetos "
   ]
  },
  {
   "cell_type": "code",
   "execution_count": 1,
   "metadata": {},
   "outputs": [
    {
     "name": "stdout",
     "output_type": "stream",
     "text": [
      "<class '__main__.Curso'>\n"
     ]
    }
   ],
   "source": [
    "# Definir una clase \n",
    "\n",
    "class Curso: \n",
    "    pass \n",
    "\n",
    "curso_python = Curso()  # Así se instancia un objeto de la clase Curso\n",
    "print(type(curso_python))  # <class '__main__.Curso'>\n"
   ]
  },
  {
   "cell_type": "markdown",
   "metadata": {},
   "source": [
    "### Puntos importantes sobre las propiedades de un objeto son: \n",
    "    - Las propiedades de cada objeto son distintas a cada objeto y aunque tengan los mismo valores cada una es distinta porque pertenecen a objetos distintos.\n",
    "    - Al valor de todas las propiedades de un objeto se le llama el _estado del objeto_ "
   ]
  },
  {
   "cell_type": "markdown",
   "metadata": {},
   "source": [
    "### Atributos \n"
   ]
  },
  {
   "cell_type": "code",
   "execution_count": 4,
   "metadata": {},
   "outputs": [
    {
     "name": "stdout",
     "output_type": "stream",
     "text": [
      "Hola Hiram\n"
     ]
    }
   ],
   "source": [
    "class Saludar: \n",
    "            \n",
    "    nombre = \"Hiram\"\n",
    "    def saludo(self): \n",
    "        print(\"Hola \" + self.nombre)\n",
    "\n",
    "hiram = Saludar()\n",
    "hiram.saludo()  # Hola Hiram\n",
    "\n",
    "\n"
   ]
  },
  {
   "cell_type": "code",
   "execution_count": 5,
   "metadata": {},
   "outputs": [],
   "source": [
    "# Método constructor\n",
    "class Saludar:\n",
    "    def __init__(self, nombre):\n",
    "        self.nombre = nombre\n",
    "    def saludo(self):\n",
    "        print(\"Hola \" + self.nombre)\n",
    "\n",
    "        "
   ]
  },
  {
   "cell_type": "markdown",
   "metadata": {},
   "source": [
    "### Herencia \n",
    "Permite que un objeto herede las propiedades y onjetos de otro objeto al cual llamamos _padre_ o _base_ \n",
    "\n",
    "\n"
   ]
  },
  {
   "cell_type": "code",
   "execution_count": 8,
   "metadata": {},
   "outputs": [
    {
     "name": "stdout",
     "output_type": "stream",
     "text": [
      "Hola Hiram\n"
     ]
    }
   ],
   "source": [
    "class Usuario: \n",
    "    def __init__(self, nombre, edad): \n",
    "        self.nombre = nombre \n",
    "        self.edad = edad \n",
    "    \n",
    "\n",
    "    def saludo(self):\n",
    "        print(\"Hola \" + self.nombre)\n",
    "\n",
    "class Empleado(Usuario):  # Las clases hijas heredan todos los atributos y métodos de la clase padre pero pueden agregar métodos propios que no tendrá la clase padre\n",
    "    def __init__(self, nombre, edad, salario): \n",
    "        super().__init__(nombre, edad) \n",
    "        self.salario = salario\n",
    "\n",
    "empleado = Empleado(\"Hiram\", 25,12500)\n",
    "empleado.saludo() \n"
   ]
  },
  {
   "cell_type": "markdown",
   "metadata": {},
   "source": [
    "### Encapsulamiento\n",
    "El encapsulamiento sirve para proteger las propiedades de un objeto de ser manipuladas por fuera de su clase.\n",
    "\n"
   ]
  },
  {
   "cell_type": "markdown",
   "metadata": {},
   "source": [
    "## Modificadores de acceso\n",
    "\n",
    "Existen 3 tipos de alcances, las cuales son: \n",
    "\n",
    "### Publicas: \n",
    "Se pueden manipular desde cualquier lugar de la aplicación.\n",
    "\n",
    "- Desde la clase que declaró la propiedad.\n",
    "- Desde la clase que la heredó.\n",
    "- Desde una instancia de la clase.\n",
    "\n",
    "Modificador de acceso público:\n",
    "Los miembros de una clase que se declaran públicos son fácilmente accesibles desde cualquier parte del programa. Todos los miembros de datos y las funciones de miembros de una clase son públicos de forma predeterminada. \n",
    "\n",
    ">Input\n",
    "```python\n",
    "        \n",
    "class Geek: \n",
    "    def__init__(self,name,age):\n",
    "        self.geekName = name\n",
    "        self.geekAge = age\n",
    "    \n",
    "    def dispayAge9self):\n",
    "        print(Age: \",self.geekAge)\n",
    "obj = Geek(\"R2J\",20)\n",
    "print(\"Name: \", obj.geekName)\n",
    "obj.displatAge()      \n",
    "```    \n",
    "\n",
    "\n",
    ">Output:\n",
    "\n",
    "```python\n",
    "Nombre: R2J\n",
    "Edad: 20\n",
    "```\n",
    "\n",
    "En el programa anterior, geekNamey geekAgeson miembros de datos públicos y el displayAge()método es una función de miembro público de la clase Geek. Se Geekpuede acceder a estos miembros de datos de la clase desde cualquier lugar del programa. \n",
    "\n",
    "--- \n",
    "        \n",
    "\n",
    "Protegidas: Se pueden manipular desde la clase en la que se encuentra y desde las clases que heredan de ella.\n",
    "- Desde la clase que declaró la propiedad.\n",
    "- Desde la clase que la heredó.\n",
    "\n",
    "Los miembros de una clase que se declaran protegidos solo son accesibles para una clase derivada de ella. Los miembros de datos de una clase se declaran protegidos agregando un solo símbolo de subrayado '_' antes del miembro de datos de esa clase.\n",
    "\n",
    "```python\n",
    "class Student: \n",
    "     \n",
    "     \n",
    "     _name = None\n",
    "     _roll = None\n",
    "     _branch = None\n",
    "     \n",
    "     \n",
    "     def __init__(self, name, roll, branch):   \n",
    "          self._name = name \n",
    "          self._roll = roll \n",
    "          self._branch = branch \n",
    "     \n",
    "     \n",
    "     def _displayRollAndBranch(self): \n",
    "  \n",
    "          \n",
    "          print(\"Roll: \", self._roll) \n",
    "          print(\"Branch: \", self._branch) \n",
    "  \n",
    "  \n",
    "class Geek(Student): \n",
    "  \n",
    "       \n",
    "       def __init__(self, name, roll, branch):  \n",
    "                Student.__init__(self, name, roll, branch)  \n",
    "          \n",
    "       \n",
    "       def displayDetails(self): \n",
    "                    \n",
    "                 \n",
    "                print(\"Name: \", self._name)  \n",
    "                    \n",
    "                 \n",
    "                self._displayRollAndBranch() \n",
    "  \n",
    "obj = Geek(\"R2J\", 1706256, \"Information Technology\")  \n",
    "  \n",
    "obj.displayDetails()  \n",
    "```\n",
    ">Output:\n",
    "```python\n",
    "Name: R2J\n",
    "Roll: 1706256\n",
    "Branch: Information Technology\n",
    "```\n",
    "En el programa anterior, _name, _rolly _branchestán protegidos miembros de datos y _displayRollAndBranch()método es un método protegido de la superclase Student. El displayDetails()método es una función miembro pública de la clase Geekque se deriva de la Studentclase, el displayDetails()método en la Geekclase accede a los miembros de datos protegidos de la Studentclase.\n",
    "\n",
    "--- \n",
    "Privadas: Se pueden manipular solo desde la clase en la que se encuentra.\n",
    "- Desde la clase que declaró la propiedad.\n",
    "\n",
    "Los miembros de una clase que se declaran privados son accesibles solo dentro de la clase, el modificador de acceso privado es el modificador de acceso más seguro. Los miembros de datos de una clase se declaran privados agregando un símbolo de subrayado doble '__' antes del miembro de datos de esa clase.\n",
    "\n",
    "```python\n",
    "class Geek: \n",
    "     \n",
    "     \n",
    "     __name = None\n",
    "     __roll = None\n",
    "     __branch = None\n",
    "  \n",
    "     \n",
    "     def __init__(self, name, roll, branch):   \n",
    "          self.__name = name \n",
    "          self.__roll = roll \n",
    "          self.__branch = branch \n",
    "  \n",
    "     \n",
    "     def __displayDetails(self): \n",
    "            \n",
    "           \n",
    "           print(\"Name: \", self.__name) \n",
    "           print(\"Roll: \", self.__roll) \n",
    "           print(\"Branch: \", self.__branch) \n",
    "     \n",
    "     \n",
    "     def accessPrivateFunction(self):  \n",
    "             \n",
    "           \n",
    "           self.__displayDetails()   \n",
    "  \n",
    "obj = Geek(\"R2J\", 1706256, \"Information Technology\") \n",
    "  \n",
    "obj.accessPrivateFunction() \n",
    "```\n",
    ">Output:\n",
    "```python\n",
    "Name: R2J\n",
    "Roll: 1706256\n",
    "Branch: Information Technology\n",
    "```\n",
    "En el programa anterior, _name, _rolly _branchson miembros privados, el __displayDetails()método es una función miembro privada(a estos solo se puede acceder dentro de la clase) y el accessPrivateFunction()método es una función miembro pública de la clase a la Geekque se puede acceder desde cualquier lugar dentro del programa. El accessPrivateFunction()método accede a los miembros privados de la clase Geek.\n",
    "\n"
   ]
  },
  {
   "cell_type": "markdown",
   "metadata": {},
   "source": []
  }
 ],
 "metadata": {
  "interpreter": {
   "hash": "85aa4e3860eb4c3d02516310ce7f1829d5a79fbdb325a1577fafe3f468751b9b"
  },
  "kernelspec": {
   "display_name": "Python 3.7.7 64-bit",
   "language": "python",
   "name": "python3"
  },
  "language_info": {
   "codemirror_mode": {
    "name": "ipython",
    "version": 3
   },
   "file_extension": ".py",
   "mimetype": "text/x-python",
   "name": "python",
   "nbconvert_exporter": "python",
   "pygments_lexer": "ipython3",
   "version": "3.7.7"
  },
  "orig_nbformat": 4
 },
 "nbformat": 4,
 "nbformat_minor": 2
}
