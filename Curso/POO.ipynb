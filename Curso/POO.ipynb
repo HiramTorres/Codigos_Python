{
 "cells": [
  {
   "cell_type": "markdown",
   "metadata": {},
   "source": [
    "# Pogramación Orientada a Objetos "
   ]
  },
  {
   "cell_type": "code",
   "execution_count": 1,
   "metadata": {},
   "outputs": [
    {
     "name": "stdout",
     "output_type": "stream",
     "text": [
      "<class '__main__.Curso'>\n"
     ]
    }
   ],
   "source": [
    "# Definir una clase \n",
    "\n",
    "class Curso: \n",
    "    pass \n",
    "\n",
    "curso_python = Curso()  # Así se instancia un objeto de la clase Curso\n",
    "print(type(curso_python))  # <class '__main__.Curso'>\n"
   ]
  },
  {
   "cell_type": "markdown",
   "metadata": {},
   "source": [
    "### Puntos importantes sobre las propiedades de un objeto son: \n",
    "    - Las propiedades de cada objeto son distintas a cada objeto y aunque tengan los mismo valores cada una es distinta porque pertenecen a objetos distintos.\n",
    "    - Al valor de todas las propiedades de un objeto se le llama el _estado del objeto_ "
   ]
  },
  {
   "cell_type": "markdown",
   "metadata": {},
   "source": [
    "### Atributos \n"
   ]
  },
  {
   "cell_type": "code",
   "execution_count": 4,
   "metadata": {},
   "outputs": [
    {
     "name": "stdout",
     "output_type": "stream",
     "text": [
      "Hola Hiram\n"
     ]
    }
   ],
   "source": [
    "class Saludar: \n",
    "            \n",
    "    nombre = \"Hiram\"\n",
    "    def saludo(self): \n",
    "        print(\"Hola \" + self.nombre)\n",
    "\n",
    "hiram = Saludar()\n",
    "hiram.saludo()  # Hola Hiram\n",
    "\n",
    "\n"
   ]
  },
  {
   "cell_type": "code",
   "execution_count": 5,
   "metadata": {},
   "outputs": [],
   "source": [
    "# Método constructor\n",
    "class Saludar:\n",
    "    def __init__(self, nombre):\n",
    "        self.nombre = nombre\n",
    "    def saludo(self):\n",
    "        print(\"Hola \" + self.nombre)\n",
    "\n",
    "        "
   ]
  },
  {
   "cell_type": "markdown",
   "metadata": {},
   "source": [
    "### Herencia \n",
    "Permite que un objeto herede las propiedades y onjetos de otro objeto al cual llamamos _padre_ o _base_ \n",
    "\n",
    "\n"
   ]
  },
  {
   "cell_type": "code",
   "execution_count": 8,
   "metadata": {},
   "outputs": [
    {
     "name": "stdout",
     "output_type": "stream",
     "text": [
      "Hola Hiram\n"
     ]
    }
   ],
   "source": [
    "class Usuario: \n",
    "    def __init__(self, nombre, edad): \n",
    "        self.nombre = nombre \n",
    "        self.edad = edad \n",
    "    \n",
    "\n",
    "    def saludo(self):\n",
    "        print(\"Hola \" + self.nombre)\n",
    "\n",
    "class Empleado(Usuario):  # Las clases hijas heredan todos los atributos y métodos de la clase padre pero pueden agregar métodos propios que no tendrá la clase padre\n",
    "    def __init__(self, nombre, edad, salario): \n",
    "        super().__init__(nombre, edad) \n",
    "        self.salario = salario\n",
    "\n",
    "empleado = Empleado(\"Hiram\", 25,12500)\n",
    "empleado.saludo() \n"
   ]
  },
  {
   "cell_type": "markdown",
   "metadata": {},
   "source": [
    "### Encapsulamiento\n",
    "El encapsilamiento sirve para proteger las propiedades de un objeto de ser manipuladas por fuera de su clase.\n",
    "\n"
   ]
  },
  {
   "cell_type": "markdown",
   "metadata": {},
   "source": [
    "### Modificadores de acceso\n",
    "\n",
    "Existen 3 tipos de alcances, las cuales son: \n",
    "\n",
    "    - Publicas: Se pueden manipular desde cualquier lugar de la aplicación.\n",
    "        [x] Desde la clase que declaró la propiedad.\n",
    "        [x] Desde la clase que la heredó.\n",
    "        [x] Desde una instancia de la clase.\n",
    "\n",
    "\n",
    "        Modificador de acceso público:\n",
    "        Los miembros de una clase que se declaran públicos son fácilmente accesibles desde cualquier parte del programa. Todos los miembros de datos y las funciones de miembros de una clase son públicos de forma predeterminada. \n",
    "\n",
    "\n",
    "        ```python\n",
    "        \n",
    "        class Geek: \n",
    "            def__init__(self,name,age):\n",
    "                self.geekName = name\n",
    "                self.geekAge = age\n",
    "            def dispayAge9self):\n",
    "                print(Age: \",self.geekAge)\n",
    "        obj = Geek(\"R2J\",20)\n",
    "        print(\"Name: \", obj.geekName)\n",
    "        obj.displatAge()\n",
    "        ```    \n",
    "\n",
    "        >Output:\n",
    "\n",
    "        ```python\n",
    "        \n",
    "        Nombre: R2J\n",
    "        Edad: 20\n",
    "        ```\n",
    "\n",
    "        En el programa anterior, geekNamey geekAgeson miembros de datos públicos y el displayAge()método es una función de miembro público de la clase Geek. Se Geekpuede acceder a estos miembros de datos de la clase desde cualquier lugar del programa. \n",
    "\n",
    "        \n",
    "\n",
    "    - Protegidas: Se pueden manipular desde la clase en la que se encuentra y desde las clases que heredan de ella.\n",
    "        [x] Desde la clase que declaró la propiedad.\n",
    "        [x] Desde la clase que la heredó.\n",
    "        [] Desde una instancia de la clase.\n",
    "\n",
    "    - Privadas: Se pueden manipular solo desde la clase en la que se encuentra.\n",
    "        [x] Desde la clase que declaró la propiedad.\n",
    "        [] Desde la clase que la heredó.\n",
    "        [] Desde una instancia de la clase."
   ]
  },
  {
   "cell_type": "markdown",
   "metadata": {},
   "source": []
  }
 ],
 "metadata": {
  "interpreter": {
   "hash": "85aa4e3860eb4c3d02516310ce7f1829d5a79fbdb325a1577fafe3f468751b9b"
  },
  "kernelspec": {
   "display_name": "Python 3.7.7 64-bit",
   "language": "python",
   "name": "python3"
  },
  "language_info": {
   "codemirror_mode": {
    "name": "ipython",
    "version": 3
   },
   "file_extension": ".py",
   "mimetype": "text/x-python",
   "name": "python",
   "nbconvert_exporter": "python",
   "pygments_lexer": "ipython3",
   "version": "3.7.7"
  },
  "orig_nbformat": 4
 },
 "nbformat": 4,
 "nbformat_minor": 2
}
