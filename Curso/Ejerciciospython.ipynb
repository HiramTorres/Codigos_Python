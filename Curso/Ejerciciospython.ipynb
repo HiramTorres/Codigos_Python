{
 "cells": [
  {
   "cell_type": "markdown",
   "metadata": {},
   "source": [
    "## Imprimir horas trabajadas por horas pagadas, más el iva y la suma final a pagar \n"
   ]
  },
  {
   "cell_type": "code",
   "execution_count": 14,
   "metadata": {},
   "outputs": [
    {
     "name": "stdin",
     "output_type": "stream",
     "text": [
      "Escribe las horas trabajadas : 48\n",
      "Ingresa el costo por hora : 75\n"
     ]
    },
    {
     "name": "stdout",
     "output_type": "stream",
     "text": [
      "Pago Neto: $ 3600.0\n",
      "IVA : $ 576.0\n",
      "El pago correspondiente es: $ 3024.0\n"
     ]
    }
   ],
   "source": [
    "H_trabajadas  = float(input(\"Escribe las horas trabajadas :\"))\n",
    "H_pagadas = float(input(\"Ingresa el costo por hora :\"))\n",
    "IVA = (H_trabajadas * H_pagadas)*0.16\n",
    "P_correspondiente_neto = (H_trabajadas * H_pagadas) \n",
    "P_correspondiente = (H_trabajadas * H_pagadas)-IVA\n",
    "\n",
    "\n",
    "print(\"Pago Neto: $\",P_correspondiente_neto)\n",
    "print(\"IVA : $\",IVA)\n",
    "print(\"El pago correspondiente es: $\",P_correspondiente)\n"
   ]
  },
  {
   "cell_type": "markdown",
   "metadata": {},
   "source": [
    "## Conicionales "
   ]
  },
  {
   "cell_type": "code",
   "execution_count": 18,
   "metadata": {},
   "outputs": [
    {
     "name": "stdin",
     "output_type": "stream",
     "text": [
      "ingresa tu edad : 18\n"
     ]
    },
    {
     "name": "stdout",
     "output_type": "stream",
     "text": [
      "si es mayor de edad\n"
     ]
    }
   ],
   "source": [
    "## Escribir un programa que pregunte al usuario su edad y muestre por pantalla si es mayor de edad o no.\n",
    "\n",
    "edad = int(input(\"ingresa tu edad :\"))\n",
    "\n",
    "if edad >= 18:\n",
    "    print(\"si es mayor de edad\")\n",
    "else :\n",
    "    print(\"no es mayor de edad\")\n",
    "    "
   ]
  },
  {
   "cell_type": "code",
   "execution_count": 21,
   "metadata": {},
   "outputs": [
    {
     "name": "stdin",
     "output_type": "stream",
     "text": [
      "ingrese contraseña : Hiramt98\n"
     ]
    },
    {
     "name": "stdout",
     "output_type": "stream",
     "text": [
      "Contraseña correcta\n"
     ]
    }
   ],
   "source": [
    "''' Escribir un programa que almacene la cadena de caracteres contraseña en una variable, \n",
    "pregunte al usuario por la contraseña e imprima por pantalla si la contraseña introducida \n",
    "por el usuario coincide con la guardada en la variable sin tener en cuenta mayúsculas y minúsculas.'''\n",
    "\n",
    "contraseña = input(\"ingrese contraseña :\")\n",
    "contraseña_real = \"Hiramt98\"\n",
    "if contraseña == contraseña_real:\n",
    "    print(\"Contraseña correcta\")\n",
    "else:\n",
    "    print(\"Contraseña erronea\")"
   ]
  },
  {
   "cell_type": "code",
   "execution_count": 30,
   "metadata": {},
   "outputs": [
    {
     "name": "stdin",
     "output_type": "stream",
     "text": [
      "ingresa número : 14\n"
     ]
    },
    {
     "name": "stdout",
     "output_type": "stream",
     "text": [
      "Este es un numero par\n"
     ]
    }
   ],
   "source": [
    "## Escribir un programa que pida al usuario un número entero y muestre por pantalla si es par o impar.\n",
    "\n",
    "numero = int(input(\"ingresa número :\"))\n",
    "if numero % 2 ==0:\n",
    "    print(\"Este es un numero par\")\n",
    "else: \n",
    "    print(\"Este es un numero impar\")"
   ]
  },
  {
   "cell_type": "code",
   "execution_count": 37,
   "metadata": {},
   "outputs": [
    {
     "name": "stdin",
     "output_type": "stream",
     "text": [
      "Cual es tu nombre?  Hiram \n",
      "Cual es tu sexo? (H o M)  H\n"
     ]
    },
    {
     "name": "stdout",
     "output_type": "stream",
     "text": [
      "Tu grupo es B\n"
     ]
    }
   ],
   "source": [
    "'''Los alumnos de un curso se han dividido en dos grupos A y B de acuerdo al sexo y el nombre.\n",
    "El grupo A esta formado por las mujeres con un nombre anterior a la M y los hombres con un nombre\n",
    "posterior a la N y el grupo B por el resto. Escribir un programa que pregunte al usuario su nombre \n",
    "y sexo, y muestre por pantalla el grupo que le corresponde.'''\n",
    "\n",
    "nombre = input(\"Cual es tu nombre? \")\n",
    "Genero = input(\"Cual es tu sexo? (H o M) \")\n",
    "if Genero == \"M\":\n",
    "    if nombre.lower() < \"m\":\n",
    "        grupo = \"A\"\n",
    "    else:\n",
    "        grupo = \"B\"\n",
    "else:\n",
    "    if nombre.lower() > \"n\":\n",
    "        grupo = \"A\"\n",
    "    else:\n",
    "        grupo = \"B\"\n",
    "print(\"Tu grupo es \" + grupo)"
   ]
  },
  {
   "cell_type": "code",
   "execution_count": null,
   "metadata": {},
   "outputs": [],
   "source": []
  }
 ],
 "metadata": {
  "kernelspec": {
   "display_name": "Python 3",
   "language": "python",
   "name": "python3"
  },
  "language_info": {
   "codemirror_mode": {
    "name": "ipython",
    "version": 3
   },
   "file_extension": ".py",
   "mimetype": "text/x-python",
   "name": "python",
   "nbconvert_exporter": "python",
   "pygments_lexer": "ipython3",
   "version": "3.8.3"
  }
 },
 "nbformat": 4,
 "nbformat_minor": 4
}
