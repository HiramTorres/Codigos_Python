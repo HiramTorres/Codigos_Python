{
 "metadata": {
  "language_info": {
   "codemirror_mode": {
    "name": "ipython",
    "version": 3
   },
   "file_extension": ".py",
   "mimetype": "text/x-python",
   "name": "python",
   "nbconvert_exporter": "python",
   "pygments_lexer": "ipython3",
   "version": "3.8.5-final"
  },
  "orig_nbformat": 2,
  "kernelspec": {
   "name": "python3",
   "display_name": "Python 3.8.5 64-bit (conda)",
   "metadata": {
    "interpreter": {
     "hash": "3f800561dde6209f0c647b1ec24b295364b37801e2a63d392a491285ef4d5a88"
    }
   }
  }
 },
 "nbformat": 4,
 "nbformat_minor": 2,
 "cells": [
  {
   "source": [
    "# Tuplas  \n",
    "\n",
    "## _una propiedad de las tuplas es que son inmutables, o sea que no se puede cambiar sus valores ya dados_ "
   ],
   "cell_type": "markdown",
   "metadata": {}
  },
  {
   "cell_type": "code",
   "execution_count": 1,
   "metadata": {},
   "outputs": [
    {
     "output_type": "stream",
     "name": "stdout",
     "text": [
      "1\n2\n3\n4\n"
     ]
    }
   ],
   "source": [
    "#comprimir tuplas en un objeto \n",
    "\n",
    "tupla = (1,2,3,4)\n",
    "uno,dos,tres,cuatro = tupla[0], tupla[1], tupla[2], tupla[3]\n",
    "print(uno)\n",
    "print(dos)\n",
    "print(tres)\n",
    "print(cuatro)\n"
   ]
  },
  {
   "cell_type": "code",
   "execution_count": 4,
   "metadata": {},
   "outputs": [
    {
     "output_type": "stream",
     "name": "stdout",
     "text": [
      "1\n2\n3\n[4, 5, 6]\n"
     ]
    }
   ],
   "source": [
    "tupla = (1,2,3,4,5,6)\n",
    "uno,dos,tres,*cuatro = tupla   #El asterisco asigna a donde se irán los numeros rstantes no asig\n",
    "print(uno)\n",
    "print(dos)\n",
    "print(tres)\n",
    "print(cuatro)\n"
   ]
  },
  {
   "cell_type": "code",
   "execution_count": 9,
   "metadata": {},
   "outputs": [
    {
     "output_type": "stream",
     "name": "stdout",
     "text": [
      "<zip object at 0x0000021AA6C99140>\n"
     ]
    }
   ],
   "source": [
    "tupla = (1,2,3,4,5,6)\n",
    "lista = [10,20,30,40]\n",
    "\n",
    "resultado = zip(tupla,lista) #zip puede almacenar cualquier cantidad de listas o tuplas\n",
    "print(resultado)"
   ]
  },
  {
   "cell_type": "code",
   "execution_count": 10,
   "metadata": {},
   "outputs": [
    {
     "output_type": "stream",
     "name": "stdout",
     "text": [
      "((1, 10), (2, 20), (3, 30), (4, 40))\n"
     ]
    }
   ],
   "source": [
    "resultado = tuple(resultado)\n",
    "print(resultado)"
   ]
  },
  {
   "cell_type": "code",
   "execution_count": 11,
   "metadata": {},
   "outputs": [
    {
     "output_type": "stream",
     "name": "stdout",
     "text": [
      "[(1, 10), (2, 20), (3, 30), (4, 40)]\n"
     ]
    }
   ],
   "source": [
    "resultado = list(resultado)\n",
    "print(resultado)"
   ]
  },
  {
   "cell_type": "code",
   "execution_count": 13,
   "metadata": {},
   "outputs": [
    {
     "output_type": "stream",
     "name": "stdout",
     "text": [
      "[(1, 10, 100), (2, 20, 200), (3, 30, 300), (4, 40, 400)]\n"
     ]
    }
   ],
   "source": [
    "tupla = (1,2,3,4,5,6)\n",
    "lista = [10,20,30,40]\n",
    "tupla_dos = (100,200,300,400)\n",
    "\n",
    "resultado = zip(tupla,lista,tupla_dos)\n",
    "resultado = list(resultado)\n",
    "print (resultado)\n"
   ]
  },
  {
   "source": [
    "# Para el desempaquetado de tuplas \n",
    "\n",
    "Tupla = (10,20,30,40,50,60)\n",
    "#para obtener el primer valor, el segundo y el ultimo, se puede buscar así\n",
    "primero = Tupla[0]\n",
    "segundo = Tupla[1]\n",
    "ultimo = Tupla[-1]\n",
    "\n",
    "print(primero)\n",
    "print(segundo)\n",
    "print(ultimo)"
   ],
   "cell_type": "code",
   "metadata": {},
   "execution_count": 16,
   "outputs": [
    {
     "output_type": "stream",
     "name": "stdout",
     "text": [
      "10\n20\n60\n"
     ]
    }
   ]
  },
  {
   "cell_type": "code",
   "execution_count": 19,
   "metadata": {},
   "outputs": [
    {
     "output_type": "stream",
     "name": "stdout",
     "text": [
      "10 20 60\n"
     ]
    }
   ],
   "source": [
    "#otra opcion es dejar de utilizar los indices y comenzar a usar el guión bajo\n",
    "\n",
    "primero, segundo, _,_,_, ultimo = Tupla\n",
    "print(primero,segundo,ultimo)"
   ]
  },
  {
   "cell_type": "code",
   "execution_count": 21,
   "metadata": {},
   "outputs": [
    {
     "output_type": "stream",
     "name": "stdout",
     "text": [
      "10 20 400\n"
     ]
    }
   ],
   "source": [
    "\"\"\"si tenemos una tupla mucho más grande, y no utilizar tantos guiones bajos se puede asignar con asterisco * \"\"\"\n",
    "\n",
    "tupla = (10, 20, 30, 40, 50, 60, 70, 80, 90, 100, 200, 300, 400)\n",
    "\n",
    "primero, segundo, *_,ultimo = tupla\n",
    "print(primero,segundo,ultimo)  #asi se trabaja mas eficiente las tuplas \n"
   ]
  },
  {
   "source": [
    "## De listas a tuplas "
   ],
   "cell_type": "markdown",
   "metadata": {}
  },
  {
   "cell_type": "code",
   "execution_count": 24,
   "metadata": {},
   "outputs": [
    {
     "output_type": "stream",
     "name": "stdout",
     "text": [
      "['introduccion', 'basico', 'listas', 'tuplas']\n('curso', 'python ', 'codigofacilito')\n"
     ]
    }
   ],
   "source": [
    "lista = [\"curso\", \"python \",\"codigofacilito\"]\n",
    "tupla = (\"introduccion\", \"basico\", \"listas\", \"tuplas\")\n",
    "\n",
    "nueva_lista = list(tupla)\n",
    "nueva_tupla = tuple(lista)\n",
    "print(nueva_lista)\n",
    "print(nueva_tupla)"
   ]
  },
  {
   "cell_type": "code",
   "execution_count": null,
   "metadata": {},
   "outputs": [],
   "source": []
  }
 ]
}