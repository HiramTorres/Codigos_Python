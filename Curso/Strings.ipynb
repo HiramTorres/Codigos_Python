{
 "cells": [
  {
   "cell_type": "markdown",
   "metadata": {},
   "source": [
    "# *Strings* "
   ]
  },
  {
   "cell_type": "code",
   "execution_count": 66,
   "metadata": {},
   "outputs": [
    {
     "output_type": "stream",
     "name": "stdout",
     "text": [
      "Hiram Isai Torres Espinosa \n"
     ]
    }
   ],
   "source": [
    "#forma 1 para escribir cadenas de strings\n",
    "\n",
    "Segundo_Nombre = \" Isai \" \n",
    "Apellido_Materno = \" Espinosa \"         \n",
    "\n",
    "final_message = \"Hiram\" + Segundo_Nombre + \"Torres\" + Apellido_Materno\n",
    "print(final_message)"
   ]
  },
  {
   "cell_type": "code",
   "execution_count": 67,
   "metadata": {},
   "outputs": [
    {
     "output_type": "stream",
     "name": "stdout",
     "text": [
      "Hiram  Isai  Torres  Espinosa \n"
     ]
    }
   ],
   "source": [
    "#forma 2 para escribir cadenas de strings \n",
    "\n",
    "Segundo_Nombre = \" Isai \" \n",
    "Apellido_Materno = \" Espinosa \"  \n",
    "\n",
    "final_message2 = \"Hiram %s Torres %s\" %(Segundo_Nombre,Apellido_Materno)\n",
    "print(final_message2)"
   ]
  },
  {
   "cell_type": "code",
   "execution_count": 68,
   "metadata": {},
   "outputs": [
    {
     "output_type": "stream",
     "name": "stdout",
     "text": [
      "Hiram  Isai  Torres  Espinosa \n"
     ]
    }
   ],
   "source": [
    "#forma 3 para escribir cadenas de strings\n",
    "\n",
    "Segundo_Nombre = \" Isai \" \n",
    "Apellido_Materno = \" Espinosa \"  \n",
    "\n",
    "final_message3 = \"Hiram {} Torres {}\".format(Segundo_Nombre,Apellido_Materno)\n",
    "print(final_message3)"
   ]
  },
  {
   "cell_type": "code",
   "execution_count": 69,
   "metadata": {},
   "outputs": [
    {
     "output_type": "stream",
     "name": "stdout",
     "text": [
      "T\n"
     ]
    }
   ],
   "source": [
    "#ejemplo de strings como listas\n",
    "string = \"Hiram Isai Torres Espinosa\"\n",
    "\n",
    "print(string[11])"
   ]
  },
  {
   "cell_type": "code",
   "execution_count": 70,
   "metadata": {},
   "outputs": [
    {
     "output_type": "stream",
     "name": "stdout",
     "text": [
      "Hiram Isai\n"
     ]
    }
   ],
   "source": [
    "string = \"Hiram Isai Torres Espinosa\"\n",
    "\n",
    "print(string[0:10])"
   ]
  },
  {
   "cell_type": "code",
   "execution_count": 71,
   "metadata": {},
   "outputs": [
    {
     "output_type": "stream",
     "name": "stdout",
     "text": [
      "HrmIa\n"
     ]
    }
   ],
   "source": [
    "string = \"Hiram Isai Torres Espinosa\"\n",
    "\n",
    "print(string[0:10:2]) #con saltos de 2 en 2"
   ]
  },
  {
   "cell_type": "markdown",
   "metadata": {},
   "source": [
    "## _Métodos de cadenas_ "
   ]
  },
  {
   "cell_type": "code",
   "execution_count": 72,
   "metadata": {},
   "outputs": [
    {
     "output_type": "stream",
     "name": "stdout",
     "text": [
      "Hiram Isai Torres Espinosa\n"
     ]
    }
   ],
   "source": [
    "Nombres = \"Hiram Isai \"\n",
    "Apellidos = \"Torres Espinosa\"\n",
    "\n",
    "result = \"{}{}\".format(Nombres,Apellidos)\n",
    "print(result)"
   ]
  },
  {
   "cell_type": "code",
   "execution_count": 73,
   "metadata": {},
   "outputs": [
    {
     "output_type": "stream",
     "name": "stdout",
     "text": [
      "Hiram Isai Torres Espinosa\n"
     ]
    }
   ],
   "source": [
    "#variacion \n",
    "Nombres = \"Hiram Isai \"\n",
    "Apellidos = \"Torres Espinosa\"\n",
    "\n",
    "result = \"{a}{b}\".format(a = Nombres,b = Apellidos)\n",
    "print(result)"
   ]
  },
  {
   "cell_type": "markdown",
   "metadata": {},
   "source": [
    "## Metodos de formato en strings"
   ]
  },
  {
   "cell_type": "code",
   "execution_count": 74,
   "metadata": {},
   "outputs": [
    {
     "output_type": "stream",
     "name": "stdout",
     "text": [
      "CURSO DE pYTON 3\n"
     ]
    }
   ],
   "source": [
    "texto = \"curso de Pyton 3\"\n",
    "\n",
    "resultado_tres = texto.capitalize()\n",
    "resultado_tres = texto.swapcase()\n",
    "print(resultado_tres)\n"
   ]
  },
  {
   "cell_type": "code",
   "execution_count": 75,
   "metadata": {},
   "outputs": [
    {
     "output_type": "stream",
     "name": "stdout",
     "text": [
      "hiram isai torres espinosa\n"
     ]
    }
   ],
   "source": [
    "result = result.lower() # para hacer todo el string en minusculas \n",
    "print ( result)"
   ]
  },
  {
   "cell_type": "code",
   "execution_count": 76,
   "metadata": {},
   "outputs": [
    {
     "output_type": "stream",
     "name": "stdout",
     "text": [
      "HIRAM ISAI TORRES ESPINOSA\n"
     ]
    }
   ],
   "source": [
    "result = result.upper() # para hacer todo el string en mayusculas \n",
    "print ( result)"
   ]
  },
  {
   "cell_type": "code",
   "execution_count": 77,
   "metadata": {},
   "outputs": [
    {
     "output_type": "stream",
     "name": "stdout",
     "text": [
      "True\nFalse\n"
     ]
    }
   ],
   "source": [
    "print(result.isupper())\n",
    "print(result.islower())"
   ]
  },
  {
   "cell_type": "code",
   "execution_count": 78,
   "metadata": {},
   "outputs": [
    {
     "output_type": "stream",
     "name": "stdout",
     "text": [
      "Hiram Isai Torres Espinosa\n"
     ]
    }
   ],
   "source": [
    " result = result.title() # para acomodar como titulo \n",
    "print (result)\n"
   ]
  },
  {
   "cell_type": "markdown",
   "metadata": {},
   "source": [
    "### Metodos de busqueda"
   ]
  },
  {
   "cell_type": "code",
   "execution_count": 79,
   "metadata": {},
   "outputs": [
    {
     "output_type": "stream",
     "name": "stdout",
     "text": [
      "11\n"
     ]
    }
   ],
   "source": [
    "pos = result.find(\"Torres\") #para saber en que posicion del caracter comienza\n",
    "print(pos)"
   ]
  },
  {
   "cell_type": "code",
   "execution_count": 80,
   "metadata": {},
   "outputs": [
    {
     "output_type": "stream",
     "name": "stdout",
     "text": [
      "3\n"
     ]
    }
   ],
   "source": [
    "count = result.count(\"i\") # para buscar cuantas veces se repiten las palabras o letras\n",
    "print(count)"
   ]
  },
  {
   "cell_type": "code",
   "execution_count": 81,
   "metadata": {},
   "outputs": [
    {
     "output_type": "stream",
     "name": "stdout",
     "text": [
      "Hirxm Isxi Torres Espinosx\n"
     ]
    }
   ],
   "source": [
    "New_strings = result.replace(\"a\", \"x\") # reemplazar letras o palbras \n",
    "print(New_strings)"
   ]
  },
  {
   "cell_type": "code",
   "execution_count": 82,
   "metadata": {},
   "outputs": [
    {
     "output_type": "stream",
     "name": "stdout",
     "text": [
      "Hiram Isai Torres Espinosa\n"
     ]
    }
   ],
   "source": [
    "#con strip, se eliminaran los espacios que hay antes y despues en el string original \n",
    "string_dos = \"  Hiram Isai Torres Espinosa  \" \n",
    "resultado = string_dos.strip() \n",
    "print(resultado)"
   ]
  },
  {
   "cell_type": "code",
   "execution_count": 83,
   "metadata": {},
   "outputs": [
    {
     "output_type": "stream",
     "name": "stdout",
     "text": [
      "Hirxm Isxi Torres Espinosa\n"
     ]
    }
   ],
   "source": [
    "#si solo se quiere remplazar cierto numero de veces algo en un string se agrega un tercer valor que sera un numero entero\n",
    "\n",
    "New_strings = result.replace(\"a\", \"x\",2) # reemplazar letras o palbras solo dos veces en este caso o las veces que querramos \n",
    "print(New_strings)\n",
    "\n"
   ]
  },
  {
   "cell_type": "code",
   "execution_count": 84,
   "metadata": {},
   "outputs": [
    {
     "output_type": "stream",
     "name": "stdout",
     "text": [
      "['Hiram', 'Isai', 'Torres', 'Espinosa']\n"
     ]
    }
   ],
   "source": [
    "New_string = result.split(\" \") # en todos los lugares donde encuentre la letra o el espacio los va a fraccionar y hará una lista \n",
    "print(New_string)"
   ]
  },
  {
   "cell_type": "code",
   "execution_count": 85,
   "metadata": {},
   "outputs": [
    {
     "output_type": "stream",
     "name": "stdout",
     "text": [
      "Hiram Isai Torres Espinosa\n['Hiram', 'Isai', 'Torres', 'Espinosa']\n"
     ]
    }
   ],
   "source": [
    "string = \"Hiram; Isai; Torres; Espinosa\"\n",
    "separador = \"; \"\n",
    "\n",
    "resultado = string.split(separador)\n",
    "nuevo_string = \" \".join(resultado)\n",
    "print(nuevo_string)\n",
    "print(resultado)"
   ]
  },
  {
   "cell_type": "code",
   "execution_count": null,
   "metadata": {},
   "outputs": [],
   "source": []
  }
 ],
 "metadata": {
  "kernelspec": {
   "display_name": "Python 3",
   "language": "python",
   "name": "python3"
  },
  "language_info": {
   "codemirror_mode": {
    "name": "ipython",
    "version": 3
   },
   "file_extension": ".py",
   "mimetype": "text/x-python",
   "name": "python",
   "nbconvert_exporter": "python",
   "pygments_lexer": "ipython3",
   "version": "3.8.5-final"
  }
 },
 "nbformat": 4,
 "nbformat_minor": 4
}