{
 "cells": [
  {
   "attachments": {},
   "cell_type": "markdown",
   "metadata": {},
   "source": [
    "## Los operadores booleanos cuando se trata de \"or\" "
   ]
  },
  {
   "attachments": {},
   "cell_type": "markdown",
   "metadata": {},
   "source": [
    "|Operador | Descripción | Resultado|\n",
    "|:---:|:---:|:---:|\n",
    "|True | True | True|\n",
    "|False | True | True|\n",
    "|True | False | True|\n",
    "|False | False | False|"
   ]
  },
  {
   "attachments": {},
   "cell_type": "markdown",
   "metadata": {},
   "source": [
    "## Los operadores booleanos cuando se trata de \"and\"\n"
   ]
  },
  {
   "attachments": {},
   "cell_type": "markdown",
   "metadata": {},
   "source": [
    "|Operador | Descripción | Resultado|\n",
    "|:---:|:---:|:---:|\n",
    "|True | True | True|\n",
    "|False | True | False|\n",
    "|True | False | False|\n",
    "|False | False | False|\n"
   ]
  },
  {
   "attachments": {},
   "cell_type": "markdown",
   "metadata": {},
   "source": [
    "El operador not es el único operador que se puede aplicar a un solo operando. El operador not cambia el valor de verdad de su operando. Si el operando es verdadero, el operador not devuelve falso. Si el operando es falso, el operador not devuelve verdadero.\n"
   ]
  },
  {
   "attachments": {},
   "cell_type": "markdown",
   "metadata": {},
   "source": [
    "|Operador | Resultado|\n",
    "|:---:|:---:|\n",
    "|not True | False |\n",
    "|not False | True |\n"
   ]
  },
  {
   "cell_type": "markdown",
   "metadata": {},
   "source": []
  },
  {
   "cell_type": "code",
   "execution_count": null,
   "metadata": {},
   "outputs": [],
   "source": []
  },
  {
   "cell_type": "code",
   "execution_count": null,
   "metadata": {},
   "outputs": [],
   "source": []
  }
 ],
 "metadata": {
  "kernelspec": {
   "display_name": "Python 3",
   "language": "python",
   "name": "python3"
  },
  "language_info": {
   "codemirror_mode": {
    "name": "ipython",
    "version": 3
   },
   "file_extension": ".py",
   "mimetype": "text/x-python",
   "name": "python",
   "nbconvert_exporter": "python",
   "pygments_lexer": "ipython3",
   "version": "3.11.0"
  },
  "orig_nbformat": 4
 },
 "nbformat": 4,
 "nbformat_minor": 2
}
