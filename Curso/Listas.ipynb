{
 "cells": [
  {
   "cell_type": "markdown",
   "metadata": {},
   "source": [
    "# Listas "
   ]
  },
  {
   "cell_type": "code",
   "execution_count": 16,
   "metadata": {},
   "outputs": [
    {
     "name": "stdout",
     "output_type": "stream",
     "text": [
      "['string', 14, 32.65, False]\n"
     ]
    }
   ],
   "source": [
    "lista = [\"string\", 14,32.65, False]\n",
    "print (lista)"
   ]
  },
  {
   "cell_type": "code",
   "execution_count": 17,
   "metadata": {},
   "outputs": [
    {
     "name": "stdout",
     "output_type": "stream",
     "text": [
      "['string', 14, 32.65, False, 4]\n"
     ]
    }
   ],
   "source": [
    "lista.append(4)\n",
    "print(lista)"
   ]
  },
  {
   "cell_type": "code",
   "execution_count": 18,
   "metadata": {},
   "outputs": [
    {
     "name": "stdout",
     "output_type": "stream",
     "text": [
      "['string', 14, 32.65, False, 'insert', 4]\n"
     ]
    }
   ],
   "source": [
    "lista.insert(4,\"insert\") # para insertar otro objeto a la lista en el numero de lugar \n",
    "print(lista)"
   ]
  },
  {
   "cell_type": "code",
   "execution_count": 19,
   "metadata": {},
   "outputs": [],
   "source": [
    "# El metoodo extend sirve para agregar listas completas a la lista que se le quiere agregar por ejemplo: \n",
    "Otherlist = [1,2,3,4,5]\n",
    "lista.extend(Otherlist)"
   ]
  },
  {
   "cell_type": "code",
   "execution_count": 20,
   "metadata": {},
   "outputs": [
    {
     "name": "stdout",
     "output_type": "stream",
     "text": [
      "['string', 14, 32.65, 'insert', 4, 1, 2, 3, 4, 5]\n"
     ]
    }
   ],
   "source": [
    "lista.remove(False)\n",
    "print(lista)"
   ]
  },
  {
   "cell_type": "code",
   "execution_count": 21,
   "metadata": {},
   "outputs": [
    {
     "name": "stdout",
     "output_type": "stream",
     "text": [
      "5\n"
     ]
    }
   ],
   "source": [
    "ultimo_valor = lista.pop() # selecciona el ultimo valor y lo saca de las lista \n",
    "print(ultimo_valor)"
   ]
  },
  {
   "cell_type": "code",
   "execution_count": 22,
   "metadata": {},
   "outputs": [
    {
     "name": "stdout",
     "output_type": "stream",
     "text": [
      "['string', 14, 32.65, 'insert', 4, 1, 2, 3, 4]\n"
     ]
    }
   ],
   "source": [
    "print(lista)"
   ]
  },
  {
   "cell_type": "code",
   "execution_count": 23,
   "metadata": {},
   "outputs": [
    {
     "name": "stdout",
     "output_type": "stream",
     "text": [
      "[2, 8, 9, 6, 4, 3, 5, 7, 8, 1, 2, 4, 6, 65, 98, 35]\n"
     ]
    }
   ],
   "source": [
    "my_list = [2,8,9,6,4,3,5,7,8,1,2,4,6,65,98,35]\n",
    "print(my_list)"
   ]
  },
  {
   "cell_type": "code",
   "execution_count": 24,
   "metadata": {},
   "outputs": [
    {
     "name": "stdout",
     "output_type": "stream",
     "text": [
      "[1, 2, 2, 3, 4, 4, 5, 6, 6, 7, 8, 8, 9, 35, 65, 98]\n"
     ]
    }
   ],
   "source": [
    "# para ordenar la lista dada, se utiliza \"sort\"\n",
    "\n",
    "my_list.sort()\n",
    "print(my_list)"
   ]
  },
  {
   "cell_type": "code",
   "execution_count": 25,
   "metadata": {},
   "outputs": [],
   "source": [
    "#con .index se "
   ]
  },
  {
   "cell_type": "code",
   "execution_count": 26,
   "metadata": {},
   "outputs": [
    {
     "name": "stdout",
     "output_type": "stream",
     "text": [
      "[98, 65, 35, 9, 8, 8, 7, 6, 6, 5, 4, 4, 3, 2, 2, 1]\n"
     ]
    }
   ],
   "source": [
    "my_list.sort(reverse = True) # sort recibe el valor de \"reverse = True\" para ordenar la lista de mayor a menor\n",
    "print(my_list)"
   ]
  },
  {
   "cell_type": "code",
   "execution_count": 27,
   "metadata": {},
   "outputs": [
    {
     "name": "stdout",
     "output_type": "stream",
     "text": [
      "[2, 8, 9, 6, 4, 3, 5, 7, 8, 1, 2, 4, 6, 65, 98, 35, 54, 45]\n"
     ]
    }
   ],
   "source": [
    "my_list = [2,8,9,6,4,3,5,7,8,1,2,4,6,65,98,35]\n",
    "my_list2 = [54,45]\n",
    "my_list.extend(my_list2)\n",
    "print(my_list)\n"
   ]
  },
  {
   "cell_type": "code",
   "execution_count": 31,
   "metadata": {},
   "outputs": [
    {
     "name": "stdout",
     "output_type": "stream",
     "text": [
      "[1, 2, 2, 3, 4, 4, 5, 6, 6, 7, 8, 8, 9, 35, 45, 54, 65, 98]\n",
      "98\n",
      "1\n"
     ]
    }
   ],
   "source": [
    "# para obtener el numero mayor o menor de una lista se utiliza min o max\n",
    "\n",
    "mayor = max(my_list)\n",
    "menor = min(my_list)\n",
    "my_list.sort()\n",
    "\n",
    "print(my_list)\n",
    "print(mayor)\n",
    "print(menor)"
   ]
  },
  {
   "cell_type": "code",
   "execution_count": 29,
   "metadata": {},
   "outputs": [
    {
     "name": "stdout",
     "output_type": "stream",
     "text": [
      "14\n"
     ]
    }
   ],
   "source": [
    "#Para saber en que indice se encuentra un valor especifico \n",
    "\n",
    "indice = my_list.index(98)\n",
    "print(indice)"
   ]
  },
  {
   "cell_type": "code",
   "execution_count": 30,
   "metadata": {},
   "outputs": [
    {
     "name": "stdout",
     "output_type": "stream",
     "text": [
      "1\n"
     ]
    }
   ],
   "source": [
    "# Para saber cuantas veces se encuentra un valor dentro de una lista se utiliza count\n",
    "\n",
    "contador = my_list.count(98)\n",
    "print(contador)"
   ]
  },
  {
   "cell_type": "code",
   "execution_count": 34,
   "metadata": {},
   "outputs": [
    {
     "name": "stdout",
     "output_type": "stream",
     "text": [
      "El numero 0 se encuentra 0 veces\n",
      "El numero 1 se encuentra 1 veces\n",
      "El numero 2 se encuentra 2 veces\n",
      "El numero 3 se encuentra 1 veces\n",
      "El numero 4 se encuentra 2 veces\n",
      "El numero 5 se encuentra 1 veces\n",
      "El numero 6 se encuentra 2 veces\n",
      "El numero 7 se encuentra 1 veces\n",
      "El numero 8 se encuentra 2 veces\n",
      "El numero 9 se encuentra 1 veces\n",
      "El numero 10 se encuentra 0 veces\n",
      "El numero 11 se encuentra 0 veces\n",
      "El numero 12 se encuentra 0 veces\n",
      "El numero 13 se encuentra 0 veces\n",
      "El numero 14 se encuentra 0 veces\n",
      "El numero 15 se encuentra 0 veces\n",
      "El numero 16 se encuentra 0 veces\n",
      "El numero 17 se encuentra 0 veces\n",
      "El numero 18 se encuentra 0 veces\n",
      "El numero 19 se encuentra 0 veces\n",
      "El numero 20 se encuentra 0 veces\n",
      "El numero 21 se encuentra 0 veces\n",
      "El numero 22 se encuentra 0 veces\n",
      "El numero 23 se encuentra 0 veces\n",
      "El numero 24 se encuentra 0 veces\n",
      "El numero 25 se encuentra 0 veces\n",
      "El numero 26 se encuentra 0 veces\n",
      "El numero 27 se encuentra 0 veces\n",
      "El numero 28 se encuentra 0 veces\n",
      "El numero 29 se encuentra 0 veces\n",
      "El numero 30 se encuentra 0 veces\n",
      "El numero 31 se encuentra 0 veces\n",
      "El numero 32 se encuentra 0 veces\n",
      "El numero 33 se encuentra 0 veces\n",
      "El numero 34 se encuentra 0 veces\n",
      "El numero 35 se encuentra 1 veces\n",
      "El numero 36 se encuentra 0 veces\n",
      "El numero 37 se encuentra 0 veces\n",
      "El numero 38 se encuentra 0 veces\n",
      "El numero 39 se encuentra 0 veces\n",
      "El numero 40 se encuentra 0 veces\n",
      "El numero 41 se encuentra 0 veces\n",
      "El numero 42 se encuentra 0 veces\n",
      "El numero 43 se encuentra 0 veces\n",
      "El numero 44 se encuentra 0 veces\n",
      "El numero 45 se encuentra 1 veces\n",
      "El numero 46 se encuentra 0 veces\n",
      "El numero 47 se encuentra 0 veces\n",
      "El numero 48 se encuentra 0 veces\n",
      "El numero 49 se encuentra 0 veces\n",
      "El numero 50 se encuentra 0 veces\n",
      "El numero 51 se encuentra 0 veces\n",
      "El numero 52 se encuentra 0 veces\n",
      "El numero 53 se encuentra 0 veces\n",
      "El numero 54 se encuentra 1 veces\n",
      "El numero 55 se encuentra 0 veces\n",
      "El numero 56 se encuentra 0 veces\n",
      "El numero 57 se encuentra 0 veces\n",
      "El numero 58 se encuentra 0 veces\n",
      "El numero 59 se encuentra 0 veces\n",
      "El numero 60 se encuentra 0 veces\n",
      "El numero 61 se encuentra 0 veces\n",
      "El numero 62 se encuentra 0 veces\n",
      "El numero 63 se encuentra 0 veces\n",
      "El numero 64 se encuentra 0 veces\n",
      "El numero 65 se encuentra 1 veces\n",
      "El numero 66 se encuentra 0 veces\n",
      "El numero 67 se encuentra 0 veces\n",
      "El numero 68 se encuentra 0 veces\n",
      "El numero 69 se encuentra 0 veces\n",
      "El numero 70 se encuentra 0 veces\n",
      "El numero 71 se encuentra 0 veces\n",
      "El numero 72 se encuentra 0 veces\n",
      "El numero 73 se encuentra 0 veces\n",
      "El numero 74 se encuentra 0 veces\n",
      "El numero 75 se encuentra 0 veces\n",
      "El numero 76 se encuentra 0 veces\n",
      "El numero 77 se encuentra 0 veces\n",
      "El numero 78 se encuentra 0 veces\n",
      "El numero 79 se encuentra 0 veces\n",
      "El numero 80 se encuentra 0 veces\n",
      "El numero 81 se encuentra 0 veces\n",
      "El numero 82 se encuentra 0 veces\n",
      "El numero 83 se encuentra 0 veces\n",
      "El numero 84 se encuentra 0 veces\n",
      "El numero 85 se encuentra 0 veces\n",
      "El numero 86 se encuentra 0 veces\n",
      "El numero 87 se encuentra 0 veces\n",
      "El numero 88 se encuentra 0 veces\n",
      "El numero 89 se encuentra 0 veces\n",
      "El numero 90 se encuentra 0 veces\n",
      "El numero 91 se encuentra 0 veces\n",
      "El numero 92 se encuentra 0 veces\n",
      "El numero 93 se encuentra 0 veces\n",
      "El numero 94 se encuentra 0 veces\n",
      "El numero 95 se encuentra 0 veces\n",
      "El numero 96 se encuentra 0 veces\n",
      "El numero 97 se encuentra 0 veces\n",
      "El numero 98 se encuentra 1 veces\n",
      "El numero 99 se encuentra 0 veces\n"
     ]
    }
   ],
   "source": [
    "for i in range(0,100):\n",
    "    print(f'El numero {i} se encuentra {my_list.count(i)} veces')"
   ]
  },
  {
   "cell_type": "code",
   "execution_count": null,
   "metadata": {},
   "outputs": [],
   "source": []
  }
 ],
 "metadata": {
  "kernelspec": {
   "display_name": "Python 3.9.12 ('base')",
   "language": "python",
   "name": "python3"
  },
  "language_info": {
   "codemirror_mode": {
    "name": "ipython",
    "version": 3
   },
   "file_extension": ".py",
   "mimetype": "text/x-python",
   "name": "python",
   "nbconvert_exporter": "python",
   "pygments_lexer": "ipython3",
   "version": "3.9.13"
  },
  "vscode": {
   "interpreter": {
    "hash": "3924ed30227e34da5a4c68c183321c9d32f94e2bda1bf4a622c4e1f08e1e696d"
   }
  }
 },
 "nbformat": 4,
 "nbformat_minor": 4
}
