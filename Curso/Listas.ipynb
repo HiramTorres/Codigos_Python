{
 "cells": [
  {
   "cell_type": "markdown",
   "metadata": {},
   "source": [
    "# Listas "
   ]
  },
  {
   "cell_type": "code",
   "execution_count": 2,
   "metadata": {},
   "outputs": [
    {
     "output_type": "stream",
     "name": "stdout",
     "text": [
      "['string', 14, 32.65, False]\n"
     ]
    }
   ],
   "source": [
    "lista = [\"string\", 14,32.65, False]\n",
    "print (lista)"
   ]
  },
  {
   "cell_type": "code",
   "execution_count": 3,
   "metadata": {},
   "outputs": [
    {
     "output_type": "stream",
     "name": "stdout",
     "text": [
      "['string', 14, 32.65, False, 4]\n"
     ]
    }
   ],
   "source": [
    "lista.append(4)\n",
    "print(lista)"
   ]
  },
  {
   "cell_type": "code",
   "execution_count": 4,
   "metadata": {},
   "outputs": [
    {
     "output_type": "stream",
     "name": "stdout",
     "text": [
      "['string', 14, 32.65, False, 'insert', 4]\n"
     ]
    }
   ],
   "source": [
    "lista.insert(4,\"insert\") # para insertar otro objeto a la lista en el numero de lugar \n",
    "print(lista)"
   ]
  },
  {
   "cell_type": "code",
   "execution_count": 5,
   "metadata": {},
   "outputs": [
    {
     "output_type": "stream",
     "name": "stdout",
     "text": [
      "['string', 14, 32.65, 'insert', 4]\n"
     ]
    }
   ],
   "source": [
    "lista.remove(False)\n",
    "print(lista)"
   ]
  },
  {
   "cell_type": "code",
   "execution_count": 6,
   "metadata": {},
   "outputs": [
    {
     "output_type": "stream",
     "name": "stdout",
     "text": [
      "4\n"
     ]
    }
   ],
   "source": [
    "ultimo_valor = lista.pop() # selecciona el ultimo valor y lo saca de las lista \n",
    "print(ultimo_valor)"
   ]
  },
  {
   "cell_type": "code",
   "execution_count": 7,
   "metadata": {},
   "outputs": [
    {
     "output_type": "stream",
     "name": "stdout",
     "text": [
      "['string', 14, 32.65, 'insert']\n"
     ]
    }
   ],
   "source": [
    "print(lista)"
   ]
  },
  {
   "cell_type": "code",
   "execution_count": 8,
   "metadata": {},
   "outputs": [
    {
     "output_type": "stream",
     "name": "stdout",
     "text": [
      "[2, 8, 9, 6, 4, 3, 5, 7, 8, 1, 2, 4, 6, 65, 98, 35]\n"
     ]
    }
   ],
   "source": [
    "my_list = [2,8,9,6,4,3,5,7,8,1,2,4,6,65,98,35]\n",
    "print(my_list)"
   ]
  },
  {
   "cell_type": "code",
   "execution_count": 9,
   "metadata": {},
   "outputs": [
    {
     "output_type": "stream",
     "name": "stdout",
     "text": [
      "[1, 2, 2, 3, 4, 4, 5, 6, 6, 7, 8, 8, 9, 35, 65, 98]\n"
     ]
    }
   ],
   "source": [
    "# para ordenar la lista dada, se utiliza \"sort\"\n",
    "\n",
    "my_list.sort()\n",
    "print(my_list)"
   ]
  },
  {
   "cell_type": "code",
   "execution_count": 10,
   "metadata": {},
   "outputs": [],
   "source": [
    "#con .index se "
   ]
  },
  {
   "cell_type": "code",
   "execution_count": 11,
   "metadata": {},
   "outputs": [
    {
     "output_type": "stream",
     "name": "stdout",
     "text": [
      "[98, 65, 35, 9, 8, 8, 7, 6, 6, 5, 4, 4, 3, 2, 2, 1]\n"
     ]
    }
   ],
   "source": [
    "my_list.sort(reverse = True) # sort recibe el valor de \"reverse = True\" para ordenar la lista de mayor a menor\n",
    "print(my_list)"
   ]
  },
  {
   "cell_type": "code",
   "execution_count": 12,
   "metadata": {},
   "outputs": [
    {
     "output_type": "stream",
     "name": "stdout",
     "text": [
      "[2, 8, 9, 6, 4, 3, 5, 7, 8, 1, 2, 4, 6, 65, 98, 35, 54, 45]\n"
     ]
    }
   ],
   "source": [
    "my_list = [2,8,9,6,4,3,5,7,8,1,2,4,6,65,98,35]\n",
    "my_list2 = [54,45]\n",
    "my_list.extend(my_list2)\n",
    "print(my_list)\n"
   ]
  },
  {
   "cell_type": "code",
   "execution_count": 13,
   "metadata": {},
   "outputs": [
    {
     "output_type": "stream",
     "name": "stdout",
     "text": [
      "98\n1\n"
     ]
    }
   ],
   "source": [
    "# para obtener el numero mayor o menor de una lista se utiliza min o max\n",
    "\n",
    "mayor = max(my_list)\n",
    "menor = min(my_list)\n",
    "\n",
    "print(mayor)\n",
    "print(menor)"
   ]
  },
  {
   "cell_type": "code",
   "execution_count": 14,
   "metadata": {},
   "outputs": [
    {
     "output_type": "stream",
     "name": "stdout",
     "text": [
      "14\n"
     ]
    }
   ],
   "source": [
    "#Para saber en que indice se encuentra un valor especifico \n",
    "\n",
    "indice = my_list.index(98)\n",
    "print(indice)"
   ]
  },
  {
   "cell_type": "code",
   "execution_count": 18,
   "metadata": {},
   "outputs": [
    {
     "output_type": "stream",
     "name": "stdout",
     "text": [
      "1\n"
     ]
    }
   ],
   "source": [
    "# Para saber cuantas veces se encuentra un valor dentro de una lista se utiliza count\n",
    "\n",
    "contador = my_list.count(98)\n",
    "print(contador)"
   ]
  },
  {
   "cell_type": "code",
   "execution_count": null,
   "metadata": {},
   "outputs": [],
   "source": []
  }
 ],
 "metadata": {
  "kernelspec": {
   "display_name": "Python 3",
   "language": "python",
   "name": "python3"
  },
  "language_info": {
   "codemirror_mode": {
    "name": "ipython",
    "version": 3
   },
   "file_extension": ".py",
   "mimetype": "text/x-python",
   "name": "python",
   "nbconvert_exporter": "python",
   "pygments_lexer": "ipython3",
   "version": "3.8.5-final"
  }
 },
 "nbformat": 4,
 "nbformat_minor": 4
}