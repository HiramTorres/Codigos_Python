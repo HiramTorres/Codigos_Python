{
 "metadata": {
  "language_info": {
   "codemirror_mode": {
    "name": "ipython",
    "version": 3
   },
   "file_extension": ".py",
   "mimetype": "text/x-python",
   "name": "python",
   "nbconvert_exporter": "python",
   "pygments_lexer": "ipython3",
   "version": "3.8.5-final"
  },
  "orig_nbformat": 2,
  "kernelspec": {
   "name": "python3",
   "display_name": "Python 3.8.5 64-bit (conda)",
   "metadata": {
    "interpreter": {
     "hash": "3f800561dde6209f0c647b1ec24b295364b37801e2a63d392a491285ef4d5a88"
    }
   }
  }
 },
 "nbformat": 4,
 "nbformat_minor": 2,
 "cells": [
  {
   "source": [
    "# Palabras reservadas break, continue \n"
   ],
   "cell_type": "markdown",
   "metadata": {}
  },
  {
   "cell_type": "code",
   "execution_count": 3,
   "metadata": {},
   "outputs": [
    {
     "output_type": "stream",
     "name": "stdout",
     "text": [
      "c\nu\nr\ns\no\n \nd\ne\n \n"
     ]
    }
   ],
   "source": [
    "titulo  = \"curso de python 3\"\n",
    "\n",
    "for caracter in titulo:\n",
    "    if caracter == \"p\":\n",
    "        break\n",
    "    print(caracter)"
   ]
  },
  {
   "cell_type": "code",
   "execution_count": 7,
   "metadata": {},
   "outputs": [
    {
     "output_type": "stream",
     "name": "stdout",
     "text": [
      "C\nu\nr\ns\no\n \nd\ne\n \ny\nt\nh\no\nn\n \n3\n"
     ]
    }
   ],
   "source": [
    "titulo  = \"Curso de Python 3\"\n",
    "\n",
    "for caracter in titulo:\n",
    "    if caracter == \"P\":\n",
    "        continue\n",
    "    print(caracter)"
   ]
  },
  {
   "cell_type": "code",
   "execution_count": null,
   "metadata": {},
   "outputs": [],
   "source": []
  }
 ]
}