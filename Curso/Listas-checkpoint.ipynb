{
 "cells": [
  {
   "cell_type": "markdown",
   "metadata": {},
   "source": [
    "# Listas "
   ]
  },
  {
   "cell_type": "code",
   "execution_count": 37,
   "metadata": {},
   "outputs": [
    {
     "name": "stdout",
     "output_type": "stream",
     "text": [
      "['string', 14, 32.65, False]\n"
     ]
    }
   ],
   "source": [
    "lista = [\"string\", 14,32.65, False]\n",
    "print (lista)"
   ]
  },
  {
   "cell_type": "code",
   "execution_count": 38,
   "metadata": {},
   "outputs": [
    {
     "name": "stdout",
     "output_type": "stream",
     "text": [
      "['string', 14, 32.65, False, 4]\n"
     ]
    }
   ],
   "source": [
    "lista.append(4)\n",
    "print(lista)"
   ]
  },
  {
   "cell_type": "code",
   "execution_count": 39,
   "metadata": {},
   "outputs": [
    {
     "name": "stdout",
     "output_type": "stream",
     "text": [
      "['string', 14, 32.65, False, 'insert', 4]\n"
     ]
    }
   ],
   "source": [
    "lista.insert(4,\"insert\") # para insertar otro objeto a la lista en el numero de lugar \n",
    "print(lista)"
   ]
  },
  {
   "cell_type": "code",
   "execution_count": 40,
   "metadata": {},
   "outputs": [
    {
     "name": "stdout",
     "output_type": "stream",
     "text": [
      "['string', 14, 32.65, 'insert', 4]\n"
     ]
    }
   ],
   "source": [
    "lista.remove(False)\n",
    "print(lista)"
   ]
  },
  {
   "cell_type": "code",
   "execution_count": 41,
   "metadata": {},
   "outputs": [
    {
     "name": "stdout",
     "output_type": "stream",
     "text": [
      "4\n"
     ]
    }
   ],
   "source": [
    "ultimo_valor = lista.pop() # selecciona el ultimo valor y lo saca de las lista \n",
    "print(ultimo_valor)"
   ]
  },
  {
   "cell_type": "code",
   "execution_count": 42,
   "metadata": {},
   "outputs": [
    {
     "name": "stdout",
     "output_type": "stream",
     "text": [
      "['string', 14, 32.65, 'insert']\n"
     ]
    }
   ],
   "source": [
    "print(lista)"
   ]
  },
  {
   "cell_type": "code",
   "execution_count": 43,
   "metadata": {},
   "outputs": [
    {
     "name": "stdout",
     "output_type": "stream",
     "text": [
      "[2, 8, 9, 6, 4, 3, 5, 7, 8, 1, 2, 4, 6, 65, 98, 35]\n"
     ]
    }
   ],
   "source": [
    "my_list = [2,8,9,6,4,3,5,7,8,1,2,4,6,65,98,35]\n",
    "print(my_list)"
   ]
  },
  {
   "cell_type": "code",
   "execution_count": 45,
   "metadata": {},
   "outputs": [
    {
     "name": "stdout",
     "output_type": "stream",
     "text": [
      "[1, 2, 2, 3, 4, 4, 5, 6, 6, 7, 8, 8, 9, 35, 65, 98]\n"
     ]
    }
   ],
   "source": [
    "# para ordenar la lista dada, se utiliza \"sort\"\n",
    "\n",
    "my_list.sort()\n",
    "print(my_list)"
   ]
  },
  {
   "cell_type": "code",
   "execution_count": 47,
   "metadata": {},
   "outputs": [
    {
     "name": "stdout",
     "output_type": "stream",
     "text": [
      "[98, 65, 35, 9, 8, 8, 7, 6, 6, 5, 4, 4, 3, 2, 2, 1]\n"
     ]
    }
   ],
   "source": [
    "my_list.sort(reverse = True) # sort recibe el valor de \"reverse = True\" para ordenar la lista de mayor a menor\n",
    "print(my_list)"
   ]
  },
  {
   "cell_type": "code",
   "execution_count": 49,
   "metadata": {},
   "outputs": [
    {
     "name": "stdout",
     "output_type": "stream",
     "text": [
      "[2, 8, 9, 6, 4, 3, 5, 7, 8, 1, 2, 4, 6, 65, 98, 35, 54, 45]\n"
     ]
    }
   ],
   "source": [
    "my_list = [2,8,9,6,4,3,5,7,8,1,2,4,6,65,98,35]\n",
    "my_list2 = [54,45]\n",
    "my_list.extend(my_list2)\n",
    "print(my_list)\n"
   ]
  },
  {
   "cell_type": "code",
   "execution_count": null,
   "metadata": {},
   "outputs": [],
   "source": []
  }
 ],
 "metadata": {
  "kernelspec": {
   "display_name": "Python 3",
   "language": "python",
   "name": "python3"
  },
  "language_info": {
   "codemirror_mode": {
    "name": "ipython",
    "version": 3
   },
   "file_extension": ".py",
   "mimetype": "text/x-python",
   "name": "python",
   "nbconvert_exporter": "python",
   "pygments_lexer": "ipython3",
   "version": "3.8.3"
  }
 },
 "nbformat": 4,
 "nbformat_minor": 4
}
